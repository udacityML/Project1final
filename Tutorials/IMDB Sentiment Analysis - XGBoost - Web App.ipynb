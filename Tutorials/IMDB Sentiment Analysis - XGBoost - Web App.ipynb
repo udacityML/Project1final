{
 "cells": [
  {
   "cell_type": "markdown",
   "metadata": {},
   "source": [
    "# Sentiment Analysis Web App\n",
    "\n",
    "_Deep Learning Nanodegree Program | Deployment_\n",
    "\n",
    "---\n",
    "\n",
    "In this notebook we will use Amazon's SageMaker service to construct a random tree model to predict the sentiment of a movie review. In addition, we will deploy this model to an endpoint and construct a very simple web app which will interact with our model's deployed endpoint.\n",
    "\n",
    "## General Outline\n",
    "\n",
    "Typically, when using a notebook instance with SageMaker, you will proceed through the following steps. Of course, not every step will need to be done with each project. Also, there is quite a lot of room for variation in many of the steps, as you will see throughout these lessons.\n",
    "\n",
    "1. Download or otherwise retrieve the data.\n",
    "2. Process / Prepare the data.\n",
    "3. Upload the processed data to S3.\n",
    "4. Train a chosen model.\n",
    "5. Test the trained model (typically using a batch transform job).\n",
    "6. Deploy the trained model.\n",
    "7. Use the deployed model.\n",
    "\n",
    "In this notebook we will progress through each of the steps above. We will also see that the final step, using the deployed model, can be quite challenging."
   ]
  },
  {
   "cell_type": "markdown",
   "metadata": {},
   "source": [
    "## Step 1: Downloading the data\n",
    "\n",
    "The dataset we are going to use is very popular among researchers in Natural Language Processing, usually referred to as the [IMDb dataset](http://ai.stanford.edu/~amaas/data/sentiment/). It consists of movie reviews from the website [imdb.com](http://www.imdb.com/), each labeled as either '**pos**itive', if the reviewer enjoyed the film, or '**neg**ative' otherwise.\n",
    "\n",
    "> Maas, Andrew L., et al. [Learning Word Vectors for Sentiment Analysis](http://ai.stanford.edu/~amaas/data/sentiment/). In _Proceedings of the 49th Annual Meeting of the Association for Computational Linguistics: Human Language Technologies_. Association for Computational Linguistics, 2011.\n",
    "\n",
    "We begin by using some Jupyter Notebook magic to download and extract the dataset."
   ]
  },
  {
   "cell_type": "code",
   "execution_count": 6,
   "metadata": {},
   "outputs": [
    {
     "name": "stdout",
     "output_type": "stream",
     "text": [
      "mkdir: cannot create directory ‘../data’: File exists\n",
      "--2020-10-08 09:12:10--  http://ai.stanford.edu/~amaas/data/sentiment/aclImdb_v1.tar.gz\n",
      "Resolving ai.stanford.edu (ai.stanford.edu)... 171.64.68.10\n",
      "Connecting to ai.stanford.edu (ai.stanford.edu)|171.64.68.10|:80... connected.\n",
      "HTTP request sent, awaiting response... 200 OK\n",
      "Length: 84125825 (80M) [application/x-gzip]\n",
      "Saving to: ‘../data/aclImdb_v1.tar.gz’\n",
      "\n",
      "../data/aclImdb_v1. 100%[===================>]  80.23M  21.4MB/s    in 5.5s    \n",
      "\n",
      "2020-10-08 09:12:16 (14.7 MB/s) - ‘../data/aclImdb_v1.tar.gz’ saved [84125825/84125825]\n",
      "\n"
     ]
    }
   ],
   "source": [
    "%mkdir ../data\n",
    "!wget -O ../data/aclImdb_v1.tar.gz http://ai.stanford.edu/~amaas/data/sentiment/aclImdb_v1.tar.gz\n",
    "!tar -zxf ../data/aclImdb_v1.tar.gz -C ../data"
   ]
  },
  {
   "cell_type": "markdown",
   "metadata": {},
   "source": [
    "## Step 2: Preparing and Processing the data\n",
    "\n",
    "The data we have downloaded is split into various files, each of which contains a single review. It will be much easier going forward if we combine these individual files into two large files, one for training and one for testing."
   ]
  },
  {
   "cell_type": "code",
   "execution_count": 3,
   "metadata": {},
   "outputs": [],
   "source": [
    "import os\n",
    "import glob\n",
    "\n",
    "def read_imdb_data(data_dir='../data/aclImdb'):\n",
    "    data = {}\n",
    "    labels = {}\n",
    "    \n",
    "    for data_type in ['train', 'test']:\n",
    "        data[data_type] = {}\n",
    "        labels[data_type] = {}\n",
    "        \n",
    "        for sentiment in ['pos', 'neg']:\n",
    "            data[data_type][sentiment] = []\n",
    "            labels[data_type][sentiment] = []\n",
    "            \n",
    "            path = os.path.join(data_dir, data_type, sentiment, '*.txt')\n",
    "            files = glob.glob(path)\n",
    "            \n",
    "            for f in files:\n",
    "                with open(f) as review:\n",
    "                    data[data_type][sentiment].append(review.read())\n",
    "                    # Here we represent a positive review by '1' and a negative review by '0'\n",
    "                    labels[data_type][sentiment].append(1 if sentiment == 'pos' else 0)\n",
    "                    \n",
    "            assert len(data[data_type][sentiment]) == len(labels[data_type][sentiment]), \\\n",
    "                    \"{}/{} data size does not match labels size\".format(data_type, sentiment)\n",
    "                \n",
    "    return data, labels"
   ]
  },
  {
   "cell_type": "code",
   "execution_count": 8,
   "metadata": {},
   "outputs": [
    {
     "name": "stdout",
     "output_type": "stream",
     "text": [
      "IMDB reviews: train = 12500 pos / 12500 neg, test = 12500 pos / 12500 neg\n"
     ]
    }
   ],
   "source": [
    "data, labels = read_imdb_data()\n",
    "print(\"IMDB reviews: train = {} pos / {} neg, test = {} pos / {} neg\".format(\n",
    "            len(data['train']['pos']), len(data['train']['neg']),\n",
    "            len(data['test']['pos']), len(data['test']['neg'])))"
   ]
  },
  {
   "cell_type": "code",
   "execution_count": 9,
   "metadata": {},
   "outputs": [],
   "source": [
    "from sklearn.utils import shuffle\n",
    "\n",
    "def prepare_imdb_data(data, labels):\n",
    "    \"\"\"Prepare training and test sets from IMDb movie reviews.\"\"\"\n",
    "    \n",
    "    #Combine positive and negative reviews and labels\n",
    "    data_train = data['train']['pos'] + data['train']['neg']\n",
    "    data_test = data['test']['pos'] + data['test']['neg']\n",
    "    labels_train = labels['train']['pos'] + labels['train']['neg']\n",
    "    labels_test = labels['test']['pos'] + labels['test']['neg']\n",
    "    \n",
    "    #Shuffle reviews and corresponding labels within training and test sets\n",
    "    data_train, labels_train = shuffle(data_train, labels_train)\n",
    "    data_test, labels_test = shuffle(data_test, labels_test)\n",
    "    \n",
    "    # Return a unified training data, test data, training labels, test labets\n",
    "    return data_train, data_test, labels_train, labels_test"
   ]
  },
  {
   "cell_type": "code",
   "execution_count": 10,
   "metadata": {},
   "outputs": [
    {
     "name": "stdout",
     "output_type": "stream",
     "text": [
      "IMDb reviews (combined): train = 25000, test = 25000\n"
     ]
    }
   ],
   "source": [
    "train_X, test_X, train_y, test_y = prepare_imdb_data(data, labels)\n",
    "print(\"IMDb reviews (combined): train = {}, test = {}\".format(len(train_X), len(test_X)))"
   ]
  },
  {
   "cell_type": "code",
   "execution_count": 11,
   "metadata": {},
   "outputs": [
    {
     "data": {
      "text/plain": [
       "'I couldn\\'t wait to receive the DVD after hearing so much about the film. What a disappointment! This became one of the most confusing films I\\'ve ever viewed. There were so many characters introduced, some resembling others, that it became impossible to follow the story line. I could not understand how George Clooney received an acting award for the film since he was hardly involved, at least in the first half of the movie. My wife and I gave up after about an hour of misery and stopped the DVD. I might have considered fast forwarding to see if the ending was any better but after so much confusion decided that chances for improvement were slim. A co-worker told me that a lot of the movie \"comes together\" in the last minute or less. I was glad I didn\\'t waste another hour, waiting. I gave the DVD away the following day.'"
      ]
     },
     "execution_count": 11,
     "metadata": {},
     "output_type": "execute_result"
    }
   ],
   "source": [
    "train_X[100]"
   ]
  },
  {
   "cell_type": "markdown",
   "metadata": {},
   "source": [
    "## Processing the data\n",
    "\n",
    "Now that we have our training and testing datasets merged and ready to use, we need to start processing the raw data into something that will be useable by our machine learning algorithm. To begin with, we remove any html formatting and any non-alpha numeric characters that may appear in the reviews. We will do this in a very simplistic way using Python's regular expression module. We will discuss the reason for this rather simplistic pre-processing later on."
   ]
  },
  {
   "cell_type": "code",
   "execution_count": 12,
   "metadata": {},
   "outputs": [],
   "source": [
    "import re\n",
    "\n",
    "REPLACE_NO_SPACE = re.compile(\"(\\.)|(\\;)|(\\:)|(\\!)|(\\')|(\\?)|(\\,)|(\\\")|(\\()|(\\))|(\\[)|(\\])\")\n",
    "REPLACE_WITH_SPACE = re.compile(\"(<br\\s*/><br\\s*/>)|(\\-)|(\\/)\")\n",
    "\n",
    "def review_to_words(review):\n",
    "    words = REPLACE_NO_SPACE.sub(\"\", review.lower())\n",
    "    words = REPLACE_WITH_SPACE.sub(\" \", words)\n",
    "    return words"
   ]
  },
  {
   "cell_type": "code",
   "execution_count": 13,
   "metadata": {},
   "outputs": [
    {
     "data": {
      "text/plain": [
       "'i couldnt wait to receive the dvd after hearing so much about the film what a disappointment this became one of the most confusing films ive ever viewed there were so many characters introduced some resembling others that it became impossible to follow the story line i could not understand how george clooney received an acting award for the film since he was hardly involved at least in the first half of the movie my wife and i gave up after about an hour of misery and stopped the dvd i might have considered fast forwarding to see if the ending was any better but after so much confusion decided that chances for improvement were slim a co worker told me that a lot of the movie comes together in the last minute or less i was glad i didnt waste another hour waiting i gave the dvd away the following day'"
      ]
     },
     "execution_count": 13,
     "metadata": {},
     "output_type": "execute_result"
    }
   ],
   "source": [
    "review_to_words(train_X[100])"
   ]
  },
  {
   "cell_type": "code",
   "execution_count": 4,
   "metadata": {},
   "outputs": [],
   "source": [
    "import pickle\n",
    "\n",
    "cache_dir = os.path.join(\"../cache\", \"sentiment_web_app\")  # where to store cache files\n",
    "os.makedirs(cache_dir, exist_ok=True)  # ensure cache directory exists\n",
    "\n",
    "def preprocess_data(data_train, data_test, labels_train, labels_test,\n",
    "                    cache_dir=cache_dir, cache_file=\"preprocessed_data.pkl\"):\n",
    "    \"\"\"Convert each review to words; read from cache if available.\"\"\"\n",
    "\n",
    "    # If cache_file is not None, try to read from it first\n",
    "    cache_data = None\n",
    "    if cache_file is not None:\n",
    "        try:\n",
    "            with open(os.path.join(cache_dir, cache_file), \"rb\") as f:\n",
    "                cache_data = pickle.load(f)\n",
    "            print(\"Read preprocessed data from cache file:\", cache_file)\n",
    "        except:\n",
    "            pass  # unable to read from cache, but that's okay\n",
    "    \n",
    "    # If cache is missing, then do the heavy lifting\n",
    "    if cache_data is None:\n",
    "        # Preprocess training and test data to obtain words for each review\n",
    "        #words_train = list(map(review_to_words, data_train))\n",
    "        #words_test = list(map(review_to_words, data_test))\n",
    "        words_train = [review_to_words(review) for review in data_train]\n",
    "        words_test = [review_to_words(review) for review in data_test]\n",
    "        \n",
    "        # Write to cache file for future runs\n",
    "        if cache_file is not None:\n",
    "            cache_data = dict(words_train=words_train, words_test=words_test,\n",
    "                              labels_train=labels_train, labels_test=labels_test)\n",
    "            with open(os.path.join(cache_dir, cache_file), \"wb\") as f:\n",
    "                pickle.dump(cache_data, f)\n",
    "            print(\"Wrote preprocessed data to cache file:\", cache_file)\n",
    "    else:\n",
    "        # Unpack data loaded from cache file\n",
    "        words_train, words_test, labels_train, labels_test = (cache_data['words_train'],\n",
    "                cache_data['words_test'], cache_data['labels_train'], cache_data['labels_test'])\n",
    "    \n",
    "    return words_train, words_test, labels_train, labels_test"
   ]
  },
  {
   "cell_type": "code",
   "execution_count": 15,
   "metadata": {},
   "outputs": [
    {
     "name": "stdout",
     "output_type": "stream",
     "text": [
      "Wrote preprocessed data to cache file: preprocessed_data.pkl\n"
     ]
    }
   ],
   "source": [
    "# Preprocess data\n",
    "train_X, test_X, train_y, test_y = preprocess_data(train_X, test_X, train_y, test_y)"
   ]
  },
  {
   "cell_type": "markdown",
   "metadata": {},
   "source": [
    "### Extract Bag-of-Words features\n",
    "\n",
    "For the model we will be implementing, rather than using the reviews directly, we are going to transform each review into a Bag-of-Words feature representation. Keep in mind that 'in the wild' we will only have access to the training set so our transformer can only use the training set to construct a representation."
   ]
  },
  {
   "cell_type": "code",
   "execution_count": 5,
   "metadata": {},
   "outputs": [],
   "source": [
    "import numpy as np\n",
    "from sklearn.feature_extraction.text import CountVectorizer\n",
    "from sklearn.externals import joblib\n",
    "# joblib is an enhanced version of pickle that is more efficient for storing NumPy arrays\n",
    "\n",
    "def extract_BoW_features(words_train, words_test, vocabulary_size=5000,\n",
    "                         cache_dir=cache_dir, cache_file=\"bow_features.pkl\"):\n",
    "    \"\"\"Extract Bag-of-Words for a given set of documents, already preprocessed into words.\"\"\"\n",
    "    \n",
    "    # If cache_file is not None, try to read from it first\n",
    "    cache_data = None\n",
    "    if cache_file is not None:\n",
    "        try:\n",
    "            with open(os.path.join(cache_dir, cache_file), \"rb\") as f:\n",
    "                cache_data = joblib.load(f)\n",
    "            print(\"Read features from cache file:\", cache_file)\n",
    "        except:\n",
    "            pass  # unable to read from cache, but that's okay\n",
    "    \n",
    "    # If cache is missing, then do the heavy lifting\n",
    "    if cache_data is None:\n",
    "        # Fit a vectorizer to training documents and use it to transform them\n",
    "        # NOTE: Training documents have already been preprocessed and tokenized into words;\n",
    "        #       pass in dummy functions to skip those steps, e.g. preprocessor=lambda x: x\n",
    "        vectorizer = CountVectorizer(max_features=vocabulary_size)\n",
    "        features_train = vectorizer.fit_transform(words_train).toarray() \n",
    "\n",
    "        # Apply the same vectorizer to transform the test documents (ignore unknown words)\n",
    "        features_test = vectorizer.transform(words_test).toarray()\n",
    "        \n",
    "        # NOTE: Remember to convert the features using .toarray() for a compact representation\n",
    "        \n",
    "        # Write to cache file for future runs (store vocabulary as well)\n",
    "        if cache_file is not None:\n",
    "            vocabulary = vectorizer.vocabulary_\n",
    "            cache_data = dict(features_train=features_train, features_test=features_test,\n",
    "                             vocabulary=vocabulary)\n",
    "            with open(os.path.join(cache_dir, cache_file), \"wb\") as f:\n",
    "                joblib.dump(cache_data, f)\n",
    "            print(\"Wrote features to cache file:\", cache_file)\n",
    "    else:\n",
    "        # Unpack data loaded from cache file\n",
    "        features_train, features_test, vocabulary = (cache_data['features_train'],\n",
    "                cache_data['features_test'], cache_data['vocabulary'])\n",
    "    \n",
    "    # Return both the extracted features as well as the vocabulary\n",
    "    return features_train, features_test, vocabulary"
   ]
  },
  {
   "cell_type": "code",
   "execution_count": 17,
   "metadata": {},
   "outputs": [
    {
     "name": "stdout",
     "output_type": "stream",
     "text": [
      "Wrote features to cache file: bow_features.pkl\n"
     ]
    }
   ],
   "source": [
    "# Extract Bag of Words features for both training and test datasets\n",
    "train_X, test_X, vocabulary = extract_BoW_features(train_X, test_X)"
   ]
  },
  {
   "cell_type": "code",
   "execution_count": 18,
   "metadata": {},
   "outputs": [
    {
     "data": {
      "text/plain": [
       "5000"
      ]
     },
     "execution_count": 18,
     "metadata": {},
     "output_type": "execute_result"
    }
   ],
   "source": [
    "len(train_X[100])"
   ]
  },
  {
   "cell_type": "code",
   "execution_count": 35,
   "metadata": {},
   "outputs": [
    {
     "data": {
      "text/plain": [
       "[('saw', 3798),\n",
       " ('this', 4457),\n",
       " ('move', 2921),\n",
       " ('several', 3905),\n",
       " ('years', 4979),\n",
       " ('ago', 154),\n",
       " ('at', 331),\n",
       " ('the', 4426),\n",
       " ('central', 735),\n",
       " ('florida', 1761)]"
      ]
     },
     "execution_count": 35,
     "metadata": {},
     "output_type": "execute_result"
    }
   ],
   "source": [
    "list(vocabulary.items())[:10]"
   ]
  },
  {
   "cell_type": "code",
   "execution_count": 38,
   "metadata": {},
   "outputs": [],
   "source": [
    "train_X"
   ]
  },
  {
   "cell_type": "markdown",
   "metadata": {},
   "source": [
    "## Step 3: Upload data to S3\n",
    "\n",
    "Now that we have created the feature representation of our training (and testing) data, it is time to start setting up and using the XGBoost classifier provided by SageMaker.\n",
    "\n",
    "### Writing the datasets\n",
    "\n",
    "The XGBoost classifier that we will be using requires the dataset to be written to a file and stored using Amazon S3. To do this, we will start by splitting the training dataset into two parts, the data we will train the model with and a validation set. Then, we will write those datasets to a file locally and then upload the files to S3. In addition, we will write the test set to a file and upload that file to S3. This is so that we can use SageMakers Batch Transform functionality to test our model once we've fit it."
   ]
  },
  {
   "cell_type": "code",
   "execution_count": 36,
   "metadata": {
    "collapsed": true,
    "jupyter": {
     "outputs_hidden": true
    }
   },
   "outputs": [
    {
     "ename": "TypeError",
     "evalue": "'NoneType' object is not subscriptable",
     "output_type": "error",
     "traceback": [
      "\u001b[0;31m---------------------------------------------------------------------------\u001b[0m",
      "\u001b[0;31mTypeError\u001b[0m                                 Traceback (most recent call last)",
      "\u001b[0;32m<ipython-input-36-4eca64f87870>\u001b[0m in \u001b[0;36m<module>\u001b[0;34m\u001b[0m\n\u001b[1;32m      3\u001b[0m \u001b[0;31m# Earlier we shuffled the training dataset so to make things simple we can just assign\u001b[0m\u001b[0;34m\u001b[0m\u001b[0;34m\u001b[0m\u001b[0;34m\u001b[0m\u001b[0m\n\u001b[1;32m      4\u001b[0m \u001b[0;31m# the first 10 000 reviews to the validation set and use the remaining reviews for training.\u001b[0m\u001b[0;34m\u001b[0m\u001b[0;34m\u001b[0m\u001b[0;34m\u001b[0m\u001b[0m\n\u001b[0;32m----> 5\u001b[0;31m \u001b[0mval_X\u001b[0m \u001b[0;34m=\u001b[0m \u001b[0mpd\u001b[0m\u001b[0;34m.\u001b[0m\u001b[0mDataFrame\u001b[0m\u001b[0;34m(\u001b[0m\u001b[0mtrain_X\u001b[0m\u001b[0;34m[\u001b[0m\u001b[0;34m:\u001b[0m\u001b[0;36m10000\u001b[0m\u001b[0;34m]\u001b[0m\u001b[0;34m)\u001b[0m\u001b[0;34m\u001b[0m\u001b[0;34m\u001b[0m\u001b[0m\n\u001b[0m\u001b[1;32m      6\u001b[0m \u001b[0mtrain_X\u001b[0m \u001b[0;34m=\u001b[0m \u001b[0mpd\u001b[0m\u001b[0;34m.\u001b[0m\u001b[0mDataFrame\u001b[0m\u001b[0;34m(\u001b[0m\u001b[0mtrain_X\u001b[0m\u001b[0;34m[\u001b[0m\u001b[0;36m10000\u001b[0m\u001b[0;34m:\u001b[0m\u001b[0;34m]\u001b[0m\u001b[0;34m)\u001b[0m\u001b[0;34m\u001b[0m\u001b[0;34m\u001b[0m\u001b[0m\n\u001b[1;32m      7\u001b[0m \u001b[0;34m\u001b[0m\u001b[0m\n",
      "\u001b[0;31mTypeError\u001b[0m: 'NoneType' object is not subscriptable"
     ]
    }
   ],
   "source": [
    "import pandas as pd\n",
    "\n",
    "# Earlier we shuffled the training dataset so to make things simple we can just assign\n",
    "# the first 10 000 reviews to the validation set and use the remaining reviews for training.\n",
    "val_X = pd.DataFrame(train_X[:10000])\n",
    "train_X = pd.DataFrame(train_X[10000:])\n",
    "\n",
    "val_y = pd.DataFrame(train_y[:10000])\n",
    "train_y = pd.DataFrame(train_y[10000:])"
   ]
  },
  {
   "cell_type": "markdown",
   "metadata": {},
   "source": [
    "The documentation for the XGBoost algorithm in SageMaker requires that the training and validation datasets should contain no headers or index and that the label should occur first for each sample.\n",
    "\n",
    "For more information about this and other algorithms, the SageMaker developer documentation can be found on __[Amazon's website.](https://docs.aws.amazon.com/sagemaker/latest/dg/)__"
   ]
  },
  {
   "cell_type": "code",
   "execution_count": 20,
   "metadata": {},
   "outputs": [],
   "source": [
    "# First we make sure that the local directory in which we'd like to store the training and validation csv files exists.\n",
    "data_dir = '../data/sentiment_web_app'\n",
    "if not os.path.exists(data_dir):\n",
    "    os.makedirs(data_dir)"
   ]
  },
  {
   "cell_type": "code",
   "execution_count": 21,
   "metadata": {},
   "outputs": [],
   "source": [
    "pd.DataFrame(test_X).to_csv(os.path.join(data_dir, 'test.csv'), header=False, index=False)\n",
    "\n",
    "pd.concat([val_y, val_X], axis=1).to_csv(os.path.join(data_dir, 'validation.csv'), header=False, index=False)\n",
    "pd.concat([train_y, train_X], axis=1).to_csv(os.path.join(data_dir, 'train.csv'), header=False, index=False)"
   ]
  },
  {
   "cell_type": "code",
   "execution_count": 22,
   "metadata": {},
   "outputs": [],
   "source": [
    "# To save a bit of memory we can set text_X, train_X, val_X, train_y and val_y to None.\n",
    "\n",
    "test_X = train_X = val_X = train_y = val_y = None"
   ]
  },
  {
   "cell_type": "markdown",
   "metadata": {},
   "source": [
    "### Uploading Training / Validation files to S3\n",
    "\n",
    "Amazon's S3 service allows us to store files that can be accessed by both the built-in training models such as the XGBoost model we will be using as well as custom models such as the one we will see a little later.\n",
    "\n",
    "For this and most other tasks we will be doing using SageMaker, there are two methods we could use. The first is to use the low level functionality of SageMaker which requires knowing each of the objects involved in the SageMaker environment. The second is to use the high level functionality in which certain choices have been made on the user's behalf. The low level approach benefits from allowing the user a great deal of flexibility while the high level approach makes development much quicker. For our purposes we will opt to use the high level approach although using the low-level approach is certainly an option.\n",
    "\n",
    "Recall the method `upload_data()` which is a member of the object representing our current SageMaker session. What this method does is upload the data to the default bucket (which is created if it does not exist) into the path described by the key_prefix variable. To see this for yourself, once you have uploaded the data files, go to the S3 console and look to see where the files have been uploaded.\n",
    "\n",
    "For additional resources, see the __[SageMaker API documentation](http://sagemaker.readthedocs.io/en/latest/)__ and in addition the __[SageMaker Developer Guide.](https://docs.aws.amazon.com/sagemaker/latest/dg/)__"
   ]
  },
  {
   "cell_type": "code",
   "execution_count": 23,
   "metadata": {},
   "outputs": [],
   "source": [
    "import sagemaker\n",
    "\n",
    "session = sagemaker.Session() # Store the current SageMaker session\n",
    "\n",
    "# S3 prefix (which folder will we use)\n",
    "prefix = 'sentiment-web-app'\n",
    "\n",
    "test_location = session.upload_data(os.path.join(data_dir, 'test.csv'), key_prefix=prefix)\n",
    "val_location = session.upload_data(os.path.join(data_dir, 'validation.csv'), key_prefix=prefix)\n",
    "train_location = session.upload_data(os.path.join(data_dir, 'train.csv'), key_prefix=prefix)"
   ]
  },
  {
   "cell_type": "markdown",
   "metadata": {},
   "source": [
    "## Step 4: Creating the XGBoost model\n",
    "\n",
    "Now that the data has been uploaded it is time to create the XGBoost model. To begin with, we need to do some setup. At this point it is worth discussing what a model is in SageMaker. It is easiest to think of a model of comprising three different objects in the SageMaker ecosystem, which interact with one another.\n",
    "\n",
    "- Model Artifacts\n",
    "- Training Code (Container)\n",
    "- Inference Code (Container)\n",
    "\n",
    "The Model Artifacts are what you might think of as the actual model itself. For example, if you were building a neural network, the model artifacts would be the weights of the various layers. In our case, for an XGBoost model, the artifacts are the actual trees that are created during training.\n",
    "\n",
    "The other two objects, the training code and the inference code are then used to manipulate the training artifacts. More precisely, the training code uses the training data that is provided and creates the model artifacts, while the inference code uses the model artifacts to make predictions on new data.\n",
    "\n",
    "The way that SageMaker runs the training and inference code is by making use of Docker containers. For now, think of a container as being a way of packaging code up so that dependencies aren't an issue."
   ]
  },
  {
   "cell_type": "code",
   "execution_count": 24,
   "metadata": {},
   "outputs": [],
   "source": [
    "from sagemaker import get_execution_role\n",
    "\n",
    "# Our current execution role is required when creating the model as the training\n",
    "# and inference code will need to access the model artifacts.\n",
    "role = get_execution_role()"
   ]
  },
  {
   "cell_type": "code",
   "execution_count": 25,
   "metadata": {},
   "outputs": [
    {
     "name": "stderr",
     "output_type": "stream",
     "text": [
      "'get_image_uri' method will be deprecated in favor of 'ImageURIProvider' class in SageMaker Python SDK v2.\n",
      "There is a more up to date SageMaker XGBoost image. To use the newer image, please set 'repo_version'='1.0-1'. For example:\n",
      "\tget_image_uri(region, 'xgboost', '1.0-1').\n"
     ]
    }
   ],
   "source": [
    "# We need to retrieve the location of the container which is provided by Amazon for using XGBoost.\n",
    "# As a matter of convenience, the training and inference code both use the same container.\n",
    "from sagemaker.amazon.amazon_estimator import get_image_uri\n",
    "\n",
    "container = get_image_uri(session.boto_region_name, 'xgboost')"
   ]
  },
  {
   "cell_type": "code",
   "execution_count": 26,
   "metadata": {},
   "outputs": [
    {
     "name": "stderr",
     "output_type": "stream",
     "text": [
      "Parameter image_name will be renamed to image_uri in SageMaker Python SDK v2.\n"
     ]
    }
   ],
   "source": [
    "# First we create a SageMaker estimator object for our model.\n",
    "xgb = sagemaker.estimator.Estimator(container, # The location of the container we wish to use\n",
    "                                    role,                                    # What is our current IAM Role\n",
    "                                    train_instance_count=1,                  # How many compute instances\n",
    "                                    train_instance_type='ml.m4.xlarge',      # What kind of compute instances\n",
    "                                    output_path='s3://{}/{}/output'.format(session.default_bucket(), prefix),\n",
    "                                    sagemaker_session=session)\n",
    "\n",
    "# And then set the algorithm specific parameters.\n",
    "xgb.set_hyperparameters(max_depth=5,\n",
    "                        eta=0.2,\n",
    "                        gamma=4,\n",
    "                        min_child_weight=6,\n",
    "                        subsample=0.8,\n",
    "                        silent=0,\n",
    "                        objective='binary:logistic',\n",
    "                        early_stopping_rounds=10,\n",
    "                        num_round=500)"
   ]
  },
  {
   "cell_type": "markdown",
   "metadata": {},
   "source": [
    "### Fit the XGBoost model\n",
    "\n",
    "Now that our model has been set up we simply need to attach the training and validation datasets and then ask SageMaker to set up the computation."
   ]
  },
  {
   "cell_type": "code",
   "execution_count": 27,
   "metadata": {},
   "outputs": [
    {
     "name": "stderr",
     "output_type": "stream",
     "text": [
      "'s3_input' class will be renamed to 'TrainingInput' in SageMaker Python SDK v2.\n",
      "'s3_input' class will be renamed to 'TrainingInput' in SageMaker Python SDK v2.\n"
     ]
    }
   ],
   "source": [
    "s3_input_train = sagemaker.s3_input(s3_data=train_location, content_type='csv')\n",
    "s3_input_validation = sagemaker.s3_input(s3_data=val_location, content_type='csv')"
   ]
  },
  {
   "cell_type": "code",
   "execution_count": 42,
   "metadata": {},
   "outputs": [
    {
     "data": {
      "text/plain": [
       "<sagemaker.inputs.s3_input at 0x7ff76a960978>"
      ]
     },
     "execution_count": 42,
     "metadata": {},
     "output_type": "execute_result"
    }
   ],
   "source": [
    "s3_input_train"
   ]
  },
  {
   "cell_type": "code",
   "execution_count": 28,
   "metadata": {},
   "outputs": [
    {
     "name": "stdout",
     "output_type": "stream",
     "text": [
      "2020-10-08 09:14:22 Starting - Starting the training job...\n",
      "2020-10-08 09:14:25 Starting - Launching requested ML instances...\n",
      "2020-10-08 09:15:21 Starting - Preparing the instances for training......\n",
      "2020-10-08 09:16:15 Downloading - Downloading input data...\n",
      "2020-10-08 09:16:38 Training - Downloading the training image..\u001b[34mArguments: train\u001b[0m\n",
      "\u001b[34m[2020-10-08:09:16:59:INFO] Running standalone xgboost training.\u001b[0m\n",
      "\u001b[34m[2020-10-08:09:16:59:INFO] File size need to be processed in the node: 238.5mb. Available memory size in the node: 8472.82mb\u001b[0m\n",
      "\u001b[34m[2020-10-08:09:16:59:INFO] Determined delimiter of CSV input is ','\u001b[0m\n",
      "\u001b[34m[09:16:59] S3DistributionType set as FullyReplicated\u001b[0m\n",
      "\u001b[34m[09:17:00] 15000x5000 matrix with 75000000 entries loaded from /opt/ml/input/data/train?format=csv&label_column=0&delimiter=,\u001b[0m\n",
      "\u001b[34m[2020-10-08:09:17:00:INFO] Determined delimiter of CSV input is ','\u001b[0m\n",
      "\u001b[34m[09:17:00] S3DistributionType set as FullyReplicated\u001b[0m\n",
      "\u001b[34m[09:17:01] 10000x5000 matrix with 50000000 entries loaded from /opt/ml/input/data/validation?format=csv&label_column=0&delimiter=,\u001b[0m\n",
      "\u001b[34m[09:17:05] src/tree/updater_prune.cc:74: tree pruning end, 1 roots, 34 extra nodes, 14 pruned nodes, max_depth=5\u001b[0m\n",
      "\u001b[34m[0]#011train-error:0.303267#011validation-error:0.3171\u001b[0m\n",
      "\u001b[34mMultiple eval metrics have been passed: 'validation-error' will be used for early stopping.\n",
      "\u001b[0m\n",
      "\u001b[34mWill train until validation-error hasn't improved in 10 rounds.\u001b[0m\n",
      "\u001b[34m[09:17:06] src/tree/updater_prune.cc:74: tree pruning end, 1 roots, 34 extra nodes, 16 pruned nodes, max_depth=5\u001b[0m\n",
      "\u001b[34m[1]#011train-error:0.287133#011validation-error:0.302\u001b[0m\n",
      "\u001b[34m[09:17:08] src/tree/updater_prune.cc:74: tree pruning end, 1 roots, 44 extra nodes, 2 pruned nodes, max_depth=5\u001b[0m\n",
      "\u001b[34m[2]#011train-error:0.2846#011validation-error:0.2951\u001b[0m\n",
      "\n",
      "2020-10-08 09:16:58 Training - Training image download completed. Training in progress.\u001b[34m[09:17:09] src/tree/updater_prune.cc:74: tree pruning end, 1 roots, 34 extra nodes, 4 pruned nodes, max_depth=5\u001b[0m\n",
      "\u001b[34m[3]#011train-error:0.273933#011validation-error:0.2864\u001b[0m\n",
      "\u001b[34m[09:17:10] src/tree/updater_prune.cc:74: tree pruning end, 1 roots, 34 extra nodes, 8 pruned nodes, max_depth=5\u001b[0m\n",
      "\u001b[34m[4]#011train-error:0.258533#011validation-error:0.2754\u001b[0m\n",
      "\u001b[34m[09:17:12] src/tree/updater_prune.cc:74: tree pruning end, 1 roots, 26 extra nodes, 8 pruned nodes, max_depth=5\u001b[0m\n",
      "\u001b[34m[5]#011train-error:0.251933#011validation-error:0.2706\u001b[0m\n",
      "\u001b[34m[09:17:13] src/tree/updater_prune.cc:74: tree pruning end, 1 roots, 52 extra nodes, 4 pruned nodes, max_depth=5\u001b[0m\n",
      "\u001b[34m[6]#011train-error:0.246#011validation-error:0.2644\u001b[0m\n",
      "\u001b[34m[09:17:14] src/tree/updater_prune.cc:74: tree pruning end, 1 roots, 30 extra nodes, 6 pruned nodes, max_depth=5\u001b[0m\n",
      "\u001b[34m[7]#011train-error:0.241133#011validation-error:0.2609\u001b[0m\n",
      "\u001b[34m[09:17:16] src/tree/updater_prune.cc:74: tree pruning end, 1 roots, 34 extra nodes, 12 pruned nodes, max_depth=5\u001b[0m\n",
      "\u001b[34m[8]#011train-error:0.231067#011validation-error:0.2526\u001b[0m\n",
      "\u001b[34m[09:17:17] src/tree/updater_prune.cc:74: tree pruning end, 1 roots, 20 extra nodes, 10 pruned nodes, max_depth=5\u001b[0m\n",
      "\u001b[34m[9]#011train-error:0.228933#011validation-error:0.251\u001b[0m\n",
      "\u001b[34m[09:17:18] src/tree/updater_prune.cc:74: tree pruning end, 1 roots, 42 extra nodes, 6 pruned nodes, max_depth=5\u001b[0m\n",
      "\u001b[34m[10]#011train-error:0.221467#011validation-error:0.2438\u001b[0m\n",
      "\u001b[34m[09:17:19] src/tree/updater_prune.cc:74: tree pruning end, 1 roots, 32 extra nodes, 4 pruned nodes, max_depth=5\u001b[0m\n",
      "\u001b[34m[11]#011train-error:0.217467#011validation-error:0.2411\u001b[0m\n",
      "\u001b[34m[09:17:21] src/tree/updater_prune.cc:74: tree pruning end, 1 roots, 34 extra nodes, 10 pruned nodes, max_depth=5\u001b[0m\n",
      "\u001b[34m[12]#011train-error:0.215133#011validation-error:0.239\u001b[0m\n",
      "\u001b[34m[09:17:22] src/tree/updater_prune.cc:74: tree pruning end, 1 roots, 38 extra nodes, 2 pruned nodes, max_depth=5\u001b[0m\n",
      "\u001b[34m[13]#011train-error:0.2126#011validation-error:0.2375\u001b[0m\n",
      "\u001b[34m[09:17:23] src/tree/updater_prune.cc:74: tree pruning end, 1 roots, 24 extra nodes, 10 pruned nodes, max_depth=5\u001b[0m\n",
      "\u001b[34m[14]#011train-error:0.2088#011validation-error:0.2343\u001b[0m\n",
      "\u001b[34m[09:17:24] src/tree/updater_prune.cc:74: tree pruning end, 1 roots, 34 extra nodes, 6 pruned nodes, max_depth=5\u001b[0m\n",
      "\u001b[34m[15]#011train-error:0.2048#011validation-error:0.2316\u001b[0m\n",
      "\u001b[34m[09:17:26] src/tree/updater_prune.cc:74: tree pruning end, 1 roots, 22 extra nodes, 16 pruned nodes, max_depth=5\u001b[0m\n",
      "\u001b[34m[16]#011train-error:0.201133#011validation-error:0.2273\u001b[0m\n",
      "\u001b[34m[09:17:27] src/tree/updater_prune.cc:74: tree pruning end, 1 roots, 44 extra nodes, 6 pruned nodes, max_depth=5\u001b[0m\n",
      "\u001b[34m[17]#011train-error:0.1936#011validation-error:0.2197\u001b[0m\n",
      "\u001b[34m[09:17:28] src/tree/updater_prune.cc:74: tree pruning end, 1 roots, 30 extra nodes, 4 pruned nodes, max_depth=5\u001b[0m\n",
      "\u001b[34m[18]#011train-error:0.192133#011validation-error:0.2186\u001b[0m\n",
      "\u001b[34m[09:17:30] src/tree/updater_prune.cc:74: tree pruning end, 1 roots, 32 extra nodes, 8 pruned nodes, max_depth=5\u001b[0m\n",
      "\u001b[34m[19]#011train-error:0.188067#011validation-error:0.2155\u001b[0m\n",
      "\u001b[34m[09:17:31] src/tree/updater_prune.cc:74: tree pruning end, 1 roots, 20 extra nodes, 18 pruned nodes, max_depth=5\u001b[0m\n",
      "\u001b[34m[20]#011train-error:0.186267#011validation-error:0.2127\u001b[0m\n",
      "\u001b[34m[09:17:32] src/tree/updater_prune.cc:74: tree pruning end, 1 roots, 30 extra nodes, 6 pruned nodes, max_depth=5\u001b[0m\n",
      "\u001b[34m[21]#011train-error:0.183333#011validation-error:0.2117\u001b[0m\n",
      "\u001b[34m[09:17:33] src/tree/updater_prune.cc:74: tree pruning end, 1 roots, 34 extra nodes, 6 pruned nodes, max_depth=5\u001b[0m\n",
      "\u001b[34m[22]#011train-error:0.182933#011validation-error:0.2118\u001b[0m\n",
      "\u001b[34m[09:17:35] src/tree/updater_prune.cc:74: tree pruning end, 1 roots, 38 extra nodes, 8 pruned nodes, max_depth=5\u001b[0m\n",
      "\u001b[34m[23]#011train-error:0.179133#011validation-error:0.2098\u001b[0m\n",
      "\u001b[34m[09:17:36] src/tree/updater_prune.cc:74: tree pruning end, 1 roots, 20 extra nodes, 12 pruned nodes, max_depth=5\u001b[0m\n",
      "\u001b[34m[24]#011train-error:0.177533#011validation-error:0.2074\u001b[0m\n",
      "\u001b[34m[09:17:37] src/tree/updater_prune.cc:74: tree pruning end, 1 roots, 18 extra nodes, 4 pruned nodes, max_depth=5\u001b[0m\n",
      "\u001b[34m[25]#011train-error:0.1762#011validation-error:0.2063\u001b[0m\n",
      "\u001b[34m[09:17:38] src/tree/updater_prune.cc:74: tree pruning end, 1 roots, 34 extra nodes, 6 pruned nodes, max_depth=5\u001b[0m\n",
      "\u001b[34m[26]#011train-error:0.171267#011validation-error:0.2057\u001b[0m\n",
      "\u001b[34m[09:17:40] src/tree/updater_prune.cc:74: tree pruning end, 1 roots, 38 extra nodes, 6 pruned nodes, max_depth=5\u001b[0m\n",
      "\u001b[34m[27]#011train-error:0.169333#011validation-error:0.2049\u001b[0m\n",
      "\u001b[34m[09:17:41] src/tree/updater_prune.cc:74: tree pruning end, 1 roots, 22 extra nodes, 6 pruned nodes, max_depth=5\u001b[0m\n",
      "\u001b[34m[28]#011train-error:0.167533#011validation-error:0.2018\u001b[0m\n",
      "\u001b[34m[09:17:42] src/tree/updater_prune.cc:74: tree pruning end, 1 roots, 26 extra nodes, 10 pruned nodes, max_depth=5\u001b[0m\n",
      "\u001b[34m[29]#011train-error:0.1672#011validation-error:0.2012\u001b[0m\n",
      "\u001b[34m[09:17:44] src/tree/updater_prune.cc:74: tree pruning end, 1 roots, 18 extra nodes, 16 pruned nodes, max_depth=5\u001b[0m\n",
      "\u001b[34m[30]#011train-error:0.1658#011validation-error:0.1989\u001b[0m\n",
      "\u001b[34m[09:17:45] src/tree/updater_prune.cc:74: tree pruning end, 1 roots, 24 extra nodes, 6 pruned nodes, max_depth=5\u001b[0m\n",
      "\u001b[34m[31]#011train-error:0.1636#011validation-error:0.1971\u001b[0m\n",
      "\u001b[34m[09:17:46] src/tree/updater_prune.cc:74: tree pruning end, 1 roots, 22 extra nodes, 10 pruned nodes, max_depth=5\u001b[0m\n",
      "\u001b[34m[32]#011train-error:0.1618#011validation-error:0.1949\u001b[0m\n",
      "\u001b[34m[09:17:47] src/tree/updater_prune.cc:74: tree pruning end, 1 roots, 20 extra nodes, 12 pruned nodes, max_depth=5\u001b[0m\n",
      "\u001b[34m[33]#011train-error:0.160867#011validation-error:0.194\u001b[0m\n",
      "\u001b[34m[09:17:49] src/tree/updater_prune.cc:74: tree pruning end, 1 roots, 26 extra nodes, 6 pruned nodes, max_depth=5\u001b[0m\n",
      "\u001b[34m[34]#011train-error:0.1598#011validation-error:0.1927\u001b[0m\n",
      "\u001b[34m[09:17:50] src/tree/updater_prune.cc:74: tree pruning end, 1 roots, 26 extra nodes, 10 pruned nodes, max_depth=5\u001b[0m\n",
      "\u001b[34m[35]#011train-error:0.157533#011validation-error:0.191\u001b[0m\n",
      "\u001b[34m[09:17:51] src/tree/updater_prune.cc:74: tree pruning end, 1 roots, 24 extra nodes, 8 pruned nodes, max_depth=5\u001b[0m\n",
      "\u001b[34m[36]#011train-error:0.156933#011validation-error:0.1899\u001b[0m\n",
      "\u001b[34m[09:17:52] src/tree/updater_prune.cc:74: tree pruning end, 1 roots, 32 extra nodes, 8 pruned nodes, max_depth=5\u001b[0m\n",
      "\u001b[34m[37]#011train-error:0.154667#011validation-error:0.1893\u001b[0m\n",
      "\u001b[34m[09:17:54] src/tree/updater_prune.cc:74: tree pruning end, 1 roots, 18 extra nodes, 16 pruned nodes, max_depth=5\u001b[0m\n",
      "\u001b[34m[38]#011train-error:0.153867#011validation-error:0.1875\u001b[0m\n",
      "\u001b[34m[09:17:55] src/tree/updater_prune.cc:74: tree pruning end, 1 roots, 28 extra nodes, 2 pruned nodes, max_depth=5\u001b[0m\n",
      "\u001b[34m[39]#011train-error:0.152867#011validation-error:0.185\u001b[0m\n",
      "\u001b[34m[09:17:56] src/tree/updater_prune.cc:74: tree pruning end, 1 roots, 18 extra nodes, 12 pruned nodes, max_depth=5\u001b[0m\n",
      "\u001b[34m[40]#011train-error:0.152467#011validation-error:0.1861\u001b[0m\n",
      "\u001b[34m[09:17:57] src/tree/updater_prune.cc:74: tree pruning end, 1 roots, 30 extra nodes, 4 pruned nodes, max_depth=5\u001b[0m\n",
      "\u001b[34m[41]#011train-error:0.151267#011validation-error:0.1847\u001b[0m\n",
      "\u001b[34m[09:17:59] src/tree/updater_prune.cc:74: tree pruning end, 1 roots, 24 extra nodes, 12 pruned nodes, max_depth=5\u001b[0m\n",
      "\u001b[34m[42]#011train-error:0.15#011validation-error:0.1847\u001b[0m\n",
      "\u001b[34m[09:18:00] src/tree/updater_prune.cc:74: tree pruning end, 1 roots, 22 extra nodes, 10 pruned nodes, max_depth=5\u001b[0m\n",
      "\u001b[34m[43]#011train-error:0.148667#011validation-error:0.1834\u001b[0m\n",
      "\u001b[34m[09:18:01] src/tree/updater_prune.cc:74: tree pruning end, 1 roots, 14 extra nodes, 12 pruned nodes, max_depth=5\u001b[0m\n",
      "\u001b[34m[44]#011train-error:0.148067#011validation-error:0.1838\u001b[0m\n",
      "\u001b[34m[09:18:03] src/tree/updater_prune.cc:74: tree pruning end, 1 roots, 16 extra nodes, 8 pruned nodes, max_depth=5\u001b[0m\n",
      "\u001b[34m[45]#011train-error:0.1472#011validation-error:0.1825\u001b[0m\n",
      "\u001b[34m[09:18:04] src/tree/updater_prune.cc:74: tree pruning end, 1 roots, 32 extra nodes, 12 pruned nodes, max_depth=5\u001b[0m\n",
      "\u001b[34m[46]#011train-error:0.144667#011validation-error:0.1801\u001b[0m\n",
      "\u001b[34m[09:18:05] src/tree/updater_prune.cc:74: tree pruning end, 1 roots, 24 extra nodes, 6 pruned nodes, max_depth=5\u001b[0m\n",
      "\u001b[34m[47]#011train-error:0.144133#011validation-error:0.1792\u001b[0m\n",
      "\u001b[34m[09:18:06] src/tree/updater_prune.cc:74: tree pruning end, 1 roots, 28 extra nodes, 12 pruned nodes, max_depth=5\u001b[0m\n",
      "\u001b[34m[48]#011train-error:0.142933#011validation-error:0.1785\u001b[0m\n",
      "\u001b[34m[09:18:08] src/tree/updater_prune.cc:74: tree pruning end, 1 roots, 18 extra nodes, 16 pruned nodes, max_depth=5\u001b[0m\n",
      "\u001b[34m[49]#011train-error:0.142533#011validation-error:0.1792\u001b[0m\n",
      "\u001b[34m[09:18:09] src/tree/updater_prune.cc:74: tree pruning end, 1 roots, 28 extra nodes, 10 pruned nodes, max_depth=5\u001b[0m\n",
      "\u001b[34m[50]#011train-error:0.141133#011validation-error:0.1779\u001b[0m\n",
      "\u001b[34m[09:18:10] src/tree/updater_prune.cc:74: tree pruning end, 1 roots, 22 extra nodes, 4 pruned nodes, max_depth=5\u001b[0m\n",
      "\u001b[34m[51]#011train-error:0.139267#011validation-error:0.1779\u001b[0m\n",
      "\u001b[34m[09:18:11] src/tree/updater_prune.cc:74: tree pruning end, 1 roots, 22 extra nodes, 6 pruned nodes, max_depth=5\u001b[0m\n",
      "\u001b[34m[52]#011train-error:0.138933#011validation-error:0.1768\u001b[0m\n",
      "\u001b[34m[09:18:13] src/tree/updater_prune.cc:74: tree pruning end, 1 roots, 18 extra nodes, 2 pruned nodes, max_depth=5\u001b[0m\n",
      "\u001b[34m[53]#011train-error:0.138267#011validation-error:0.1766\u001b[0m\n",
      "\u001b[34m[09:18:14] src/tree/updater_prune.cc:74: tree pruning end, 1 roots, 28 extra nodes, 4 pruned nodes, max_depth=5\u001b[0m\n",
      "\u001b[34m[54]#011train-error:0.1364#011validation-error:0.175\u001b[0m\n",
      "\u001b[34m[09:18:15] src/tree/updater_prune.cc:74: tree pruning end, 1 roots, 22 extra nodes, 16 pruned nodes, max_depth=5\u001b[0m\n",
      "\u001b[34m[55]#011train-error:0.135933#011validation-error:0.1757\u001b[0m\n",
      "\u001b[34m[09:18:16] src/tree/updater_prune.cc:74: tree pruning end, 1 roots, 48 extra nodes, 10 pruned nodes, max_depth=5\u001b[0m\n",
      "\u001b[34m[56]#011train-error:0.134933#011validation-error:0.175\u001b[0m\n",
      "\u001b[34m[09:18:18] src/tree/updater_prune.cc:74: tree pruning end, 1 roots, 18 extra nodes, 10 pruned nodes, max_depth=5\u001b[0m\n",
      "\u001b[34m[57]#011train-error:0.132533#011validation-error:0.175\u001b[0m\n",
      "\u001b[34m[09:18:19] src/tree/updater_prune.cc:74: tree pruning end, 1 roots, 24 extra nodes, 12 pruned nodes, max_depth=5\u001b[0m\n",
      "\u001b[34m[58]#011train-error:0.1316#011validation-error:0.174\u001b[0m\n",
      "\u001b[34m[09:18:20] src/tree/updater_prune.cc:74: tree pruning end, 1 roots, 24 extra nodes, 12 pruned nodes, max_depth=5\u001b[0m\n",
      "\u001b[34m[59]#011train-error:0.130667#011validation-error:0.1728\u001b[0m\n",
      "\u001b[34m[09:18:21] src/tree/updater_prune.cc:74: tree pruning end, 1 roots, 18 extra nodes, 8 pruned nodes, max_depth=5\u001b[0m\n",
      "\u001b[34m[60]#011train-error:0.129867#011validation-error:0.1724\u001b[0m\n",
      "\u001b[34m[09:18:23] src/tree/updater_prune.cc:74: tree pruning end, 1 roots, 20 extra nodes, 8 pruned nodes, max_depth=5\u001b[0m\n",
      "\u001b[34m[61]#011train-error:0.129733#011validation-error:0.1712\u001b[0m\n",
      "\u001b[34m[09:18:24] src/tree/updater_prune.cc:74: tree pruning end, 1 roots, 14 extra nodes, 10 pruned nodes, max_depth=5\u001b[0m\n",
      "\u001b[34m[62]#011train-error:0.128933#011validation-error:0.17\u001b[0m\n",
      "\u001b[34m[09:18:25] src/tree/updater_prune.cc:74: tree pruning end, 1 roots, 20 extra nodes, 4 pruned nodes, max_depth=5\u001b[0m\n",
      "\u001b[34m[63]#011train-error:0.1286#011validation-error:0.1697\u001b[0m\n",
      "\u001b[34m[09:18:27] src/tree/updater_prune.cc:74: tree pruning end, 1 roots, 16 extra nodes, 12 pruned nodes, max_depth=5\u001b[0m\n",
      "\u001b[34m[64]#011train-error:0.128067#011validation-error:0.1692\u001b[0m\n",
      "\u001b[34m[09:18:28] src/tree/updater_prune.cc:74: tree pruning end, 1 roots, 12 extra nodes, 4 pruned nodes, max_depth=5\u001b[0m\n",
      "\u001b[34m[65]#011train-error:0.127133#011validation-error:0.1688\u001b[0m\n",
      "\u001b[34m[09:18:29] src/tree/updater_prune.cc:74: tree pruning end, 1 roots, 24 extra nodes, 18 pruned nodes, max_depth=5\u001b[0m\n",
      "\u001b[34m[66]#011train-error:0.126067#011validation-error:0.1678\u001b[0m\n",
      "\u001b[34m[09:18:30] src/tree/updater_prune.cc:74: tree pruning end, 1 roots, 12 extra nodes, 14 pruned nodes, max_depth=5\u001b[0m\n",
      "\u001b[34m[67]#011train-error:0.125933#011validation-error:0.1676\u001b[0m\n",
      "\u001b[34m[09:18:32] src/tree/updater_prune.cc:74: tree pruning end, 1 roots, 14 extra nodes, 6 pruned nodes, max_depth=5\u001b[0m\n",
      "\u001b[34m[68]#011train-error:0.1258#011validation-error:0.1677\u001b[0m\n",
      "\u001b[34m[09:18:33] src/tree/updater_prune.cc:74: tree pruning end, 1 roots, 16 extra nodes, 10 pruned nodes, max_depth=5\u001b[0m\n",
      "\u001b[34m[69]#011train-error:0.125333#011validation-error:0.1667\u001b[0m\n",
      "\u001b[34m[09:18:34] src/tree/updater_prune.cc:74: tree pruning end, 1 roots, 20 extra nodes, 8 pruned nodes, max_depth=5\u001b[0m\n",
      "\u001b[34m[70]#011train-error:0.125067#011validation-error:0.166\u001b[0m\n",
      "\u001b[34m[09:18:35] src/tree/updater_prune.cc:74: tree pruning end, 1 roots, 20 extra nodes, 4 pruned nodes, max_depth=5\u001b[0m\n",
      "\u001b[34m[71]#011train-error:0.124533#011validation-error:0.1651\u001b[0m\n",
      "\u001b[34m[09:18:37] src/tree/updater_prune.cc:74: tree pruning end, 1 roots, 18 extra nodes, 10 pruned nodes, max_depth=5\u001b[0m\n",
      "\u001b[34m[72]#011train-error:0.123267#011validation-error:0.1641\u001b[0m\n",
      "\u001b[34m[09:18:38] src/tree/updater_prune.cc:74: tree pruning end, 1 roots, 18 extra nodes, 10 pruned nodes, max_depth=5\u001b[0m\n",
      "\u001b[34m[73]#011train-error:0.122133#011validation-error:0.1645\u001b[0m\n",
      "\u001b[34m[09:18:39] src/tree/updater_prune.cc:74: tree pruning end, 1 roots, 38 extra nodes, 8 pruned nodes, max_depth=5\u001b[0m\n",
      "\u001b[34m[74]#011train-error:0.1216#011validation-error:0.1654\u001b[0m\n",
      "\u001b[34m[09:18:40] src/tree/updater_prune.cc:74: tree pruning end, 1 roots, 16 extra nodes, 4 pruned nodes, max_depth=5\u001b[0m\n",
      "\u001b[34m[75]#011train-error:0.121533#011validation-error:0.165\u001b[0m\n",
      "\u001b[34m[09:18:42] src/tree/updater_prune.cc:74: tree pruning end, 1 roots, 16 extra nodes, 8 pruned nodes, max_depth=5\u001b[0m\n",
      "\u001b[34m[76]#011train-error:0.119933#011validation-error:0.1647\u001b[0m\n",
      "\u001b[34m[09:18:43] src/tree/updater_prune.cc:74: tree pruning end, 1 roots, 18 extra nodes, 6 pruned nodes, max_depth=5\u001b[0m\n",
      "\u001b[34m[77]#011train-error:0.118933#011validation-error:0.1644\u001b[0m\n",
      "\u001b[34m[09:18:44] src/tree/updater_prune.cc:74: tree pruning end, 1 roots, 12 extra nodes, 8 pruned nodes, max_depth=5\u001b[0m\n",
      "\u001b[34m[78]#011train-error:0.1182#011validation-error:0.1639\u001b[0m\n",
      "\u001b[34m[09:18:46] src/tree/updater_prune.cc:74: tree pruning end, 1 roots, 18 extra nodes, 14 pruned nodes, max_depth=5\u001b[0m\n",
      "\u001b[34m[79]#011train-error:0.117467#011validation-error:0.1636\u001b[0m\n",
      "\u001b[34m[09:18:47] src/tree/updater_prune.cc:74: tree pruning end, 1 roots, 14 extra nodes, 10 pruned nodes, max_depth=5\u001b[0m\n",
      "\u001b[34m[80]#011train-error:0.116333#011validation-error:0.1627\u001b[0m\n",
      "\u001b[34m[09:18:48] src/tree/updater_prune.cc:74: tree pruning end, 1 roots, 14 extra nodes, 10 pruned nodes, max_depth=5\u001b[0m\n",
      "\u001b[34m[81]#011train-error:0.116333#011validation-error:0.1616\u001b[0m\n",
      "\u001b[34m[09:18:49] src/tree/updater_prune.cc:74: tree pruning end, 1 roots, 16 extra nodes, 10 pruned nodes, max_depth=5\u001b[0m\n",
      "\u001b[34m[82]#011train-error:0.1156#011validation-error:0.1615\u001b[0m\n",
      "\u001b[34m[09:18:51] src/tree/updater_prune.cc:74: tree pruning end, 1 roots, 12 extra nodes, 8 pruned nodes, max_depth=5\u001b[0m\n",
      "\u001b[34m[83]#011train-error:0.115667#011validation-error:0.1618\u001b[0m\n",
      "\u001b[34m[09:18:52] src/tree/updater_prune.cc:74: tree pruning end, 1 roots, 20 extra nodes, 14 pruned nodes, max_depth=5\u001b[0m\n",
      "\u001b[34m[84]#011train-error:0.1152#011validation-error:0.1611\u001b[0m\n",
      "\u001b[34m[09:18:53] src/tree/updater_prune.cc:74: tree pruning end, 1 roots, 26 extra nodes, 12 pruned nodes, max_depth=5\u001b[0m\n",
      "\u001b[34m[85]#011train-error:0.113667#011validation-error:0.1608\u001b[0m\n",
      "\u001b[34m[09:18:54] src/tree/updater_prune.cc:74: tree pruning end, 1 roots, 26 extra nodes, 14 pruned nodes, max_depth=5\u001b[0m\n",
      "\u001b[34m[86]#011train-error:0.113067#011validation-error:0.1611\u001b[0m\n",
      "\u001b[34m[09:18:56] src/tree/updater_prune.cc:74: tree pruning end, 1 roots, 18 extra nodes, 8 pruned nodes, max_depth=5\u001b[0m\n",
      "\u001b[34m[87]#011train-error:0.112333#011validation-error:0.1608\u001b[0m\n",
      "\u001b[34m[09:18:57] src/tree/updater_prune.cc:74: tree pruning end, 1 roots, 24 extra nodes, 14 pruned nodes, max_depth=5\u001b[0m\n",
      "\u001b[34m[88]#011train-error:0.111333#011validation-error:0.1589\u001b[0m\n",
      "\u001b[34m[09:18:58] src/tree/updater_prune.cc:74: tree pruning end, 1 roots, 26 extra nodes, 4 pruned nodes, max_depth=5\u001b[0m\n",
      "\u001b[34m[89]#011train-error:0.110467#011validation-error:0.158\u001b[0m\n",
      "\u001b[34m[09:18:59] src/tree/updater_prune.cc:74: tree pruning end, 1 roots, 22 extra nodes, 8 pruned nodes, max_depth=5\u001b[0m\n",
      "\u001b[34m[90]#011train-error:0.109733#011validation-error:0.1571\u001b[0m\n",
      "\u001b[34m[09:19:01] src/tree/updater_prune.cc:74: tree pruning end, 1 roots, 20 extra nodes, 12 pruned nodes, max_depth=5\u001b[0m\n",
      "\u001b[34m[91]#011train-error:0.109467#011validation-error:0.1565\u001b[0m\n",
      "\u001b[34m[09:19:02] src/tree/updater_prune.cc:74: tree pruning end, 1 roots, 12 extra nodes, 14 pruned nodes, max_depth=5\u001b[0m\n",
      "\u001b[34m[92]#011train-error:0.108467#011validation-error:0.1565\u001b[0m\n",
      "\u001b[34m[09:19:03] src/tree/updater_prune.cc:74: tree pruning end, 1 roots, 22 extra nodes, 10 pruned nodes, max_depth=5\u001b[0m\n",
      "\u001b[34m[93]#011train-error:0.108067#011validation-error:0.1557\u001b[0m\n",
      "\u001b[34m[09:19:05] src/tree/updater_prune.cc:74: tree pruning end, 1 roots, 24 extra nodes, 2 pruned nodes, max_depth=5\u001b[0m\n",
      "\u001b[34m[94]#011train-error:0.1066#011validation-error:0.156\u001b[0m\n",
      "\u001b[34m[09:19:06] src/tree/updater_prune.cc:74: tree pruning end, 1 roots, 12 extra nodes, 2 pruned nodes, max_depth=5\u001b[0m\n",
      "\u001b[34m[95]#011train-error:0.1066#011validation-error:0.1554\u001b[0m\n",
      "\u001b[34m[09:19:07] src/tree/updater_prune.cc:74: tree pruning end, 1 roots, 10 extra nodes, 4 pruned nodes, max_depth=5\u001b[0m\n",
      "\u001b[34m[96]#011train-error:0.1064#011validation-error:0.1555\u001b[0m\n",
      "\u001b[34m[09:19:08] src/tree/updater_prune.cc:74: tree pruning end, 1 roots, 18 extra nodes, 8 pruned nodes, max_depth=5\u001b[0m\n",
      "\u001b[34m[97]#011train-error:0.105733#011validation-error:0.1563\u001b[0m\n",
      "\u001b[34m[09:19:10] src/tree/updater_prune.cc:74: tree pruning end, 1 roots, 14 extra nodes, 6 pruned nodes, max_depth=5\u001b[0m\n",
      "\u001b[34m[98]#011train-error:0.1056#011validation-error:0.1559\u001b[0m\n",
      "\u001b[34m[09:19:11] src/tree/updater_prune.cc:74: tree pruning end, 1 roots, 12 extra nodes, 8 pruned nodes, max_depth=5\u001b[0m\n",
      "\u001b[34m[99]#011train-error:0.105867#011validation-error:0.1559\u001b[0m\n",
      "\u001b[34m[09:19:12] src/tree/updater_prune.cc:74: tree pruning end, 1 roots, 30 extra nodes, 4 pruned nodes, max_depth=5\u001b[0m\n",
      "\u001b[34m[100]#011train-error:0.104#011validation-error:0.1534\u001b[0m\n",
      "\u001b[34m[09:19:13] src/tree/updater_prune.cc:74: tree pruning end, 1 roots, 24 extra nodes, 6 pruned nodes, max_depth=5\u001b[0m\n",
      "\u001b[34m[101]#011train-error:0.103#011validation-error:0.1541\u001b[0m\n",
      "\u001b[34m[09:19:15] src/tree/updater_prune.cc:74: tree pruning end, 1 roots, 16 extra nodes, 8 pruned nodes, max_depth=5\u001b[0m\n",
      "\u001b[34m[102]#011train-error:0.102267#011validation-error:0.1544\u001b[0m\n",
      "\u001b[34m[09:19:16] src/tree/updater_prune.cc:74: tree pruning end, 1 roots, 28 extra nodes, 10 pruned nodes, max_depth=5\u001b[0m\n",
      "\u001b[34m[103]#011train-error:0.1016#011validation-error:0.1551\u001b[0m\n",
      "\u001b[34m[09:19:17] src/tree/updater_prune.cc:74: tree pruning end, 1 roots, 16 extra nodes, 18 pruned nodes, max_depth=5\u001b[0m\n",
      "\u001b[34m[104]#011train-error:0.1016#011validation-error:0.1544\u001b[0m\n",
      "\u001b[34m[09:19:19] src/tree/updater_prune.cc:74: tree pruning end, 1 roots, 18 extra nodes, 8 pruned nodes, max_depth=5\u001b[0m\n",
      "\u001b[34m[105]#011train-error:0.100733#011validation-error:0.1547\u001b[0m\n",
      "\u001b[34m[09:19:20] src/tree/updater_prune.cc:74: tree pruning end, 1 roots, 24 extra nodes, 2 pruned nodes, max_depth=5\u001b[0m\n",
      "\u001b[34m[106]#011train-error:0.100933#011validation-error:0.1537\u001b[0m\n",
      "\u001b[34m[09:19:21] src/tree/updater_prune.cc:74: tree pruning end, 1 roots, 18 extra nodes, 12 pruned nodes, max_depth=5\u001b[0m\n",
      "\u001b[34m[107]#011train-error:0.100067#011validation-error:0.1518\u001b[0m\n",
      "\u001b[34m[09:19:22] src/tree/updater_prune.cc:74: tree pruning end, 1 roots, 16 extra nodes, 4 pruned nodes, max_depth=5\u001b[0m\n",
      "\u001b[34m[108]#011train-error:0.100133#011validation-error:0.1531\u001b[0m\n",
      "\u001b[34m[09:19:24] src/tree/updater_prune.cc:74: tree pruning end, 1 roots, 12 extra nodes, 4 pruned nodes, max_depth=5\u001b[0m\n",
      "\u001b[34m[109]#011train-error:0.0994#011validation-error:0.1528\u001b[0m\n",
      "\u001b[34m[09:19:25] src/tree/updater_prune.cc:74: tree pruning end, 1 roots, 14 extra nodes, 6 pruned nodes, max_depth=5\u001b[0m\n",
      "\u001b[34m[110]#011train-error:0.098867#011validation-error:0.1525\u001b[0m\n",
      "\u001b[34m[09:19:26] src/tree/updater_prune.cc:74: tree pruning end, 1 roots, 18 extra nodes, 2 pruned nodes, max_depth=5\u001b[0m\n",
      "\u001b[34m[111]#011train-error:0.098867#011validation-error:0.1517\u001b[0m\n",
      "\u001b[34m[09:19:27] src/tree/updater_prune.cc:74: tree pruning end, 1 roots, 20 extra nodes, 10 pruned nodes, max_depth=5\u001b[0m\n",
      "\u001b[34m[112]#011train-error:0.0984#011validation-error:0.1524\u001b[0m\n",
      "\u001b[34m[09:19:29] src/tree/updater_prune.cc:74: tree pruning end, 1 roots, 30 extra nodes, 8 pruned nodes, max_depth=5\u001b[0m\n",
      "\u001b[34m[113]#011train-error:0.097267#011validation-error:0.1529\u001b[0m\n",
      "\u001b[34m[09:19:30] src/tree/updater_prune.cc:74: tree pruning end, 1 roots, 14 extra nodes, 10 pruned nodes, max_depth=5\u001b[0m\n",
      "\u001b[34m[114]#011train-error:0.097067#011validation-error:0.1522\u001b[0m\n",
      "\u001b[34m[09:19:31] src/tree/updater_prune.cc:74: tree pruning end, 1 roots, 16 extra nodes, 18 pruned nodes, max_depth=5\u001b[0m\n",
      "\u001b[34m[115]#011train-error:0.0964#011validation-error:0.1526\u001b[0m\n",
      "\u001b[34m[09:19:32] src/tree/updater_prune.cc:74: tree pruning end, 1 roots, 14 extra nodes, 4 pruned nodes, max_depth=5\u001b[0m\n",
      "\u001b[34m[116]#011train-error:0.096467#011validation-error:0.1524\u001b[0m\n",
      "\u001b[34m[09:19:34] src/tree/updater_prune.cc:74: tree pruning end, 1 roots, 10 extra nodes, 2 pruned nodes, max_depth=5\u001b[0m\n",
      "\u001b[34m[117]#011train-error:0.095867#011validation-error:0.1519\u001b[0m\n",
      "\u001b[34m[09:19:35] src/tree/updater_prune.cc:74: tree pruning end, 1 roots, 24 extra nodes, 4 pruned nodes, max_depth=5\u001b[0m\n",
      "\u001b[34m[118]#011train-error:0.096067#011validation-error:0.1515\u001b[0m\n",
      "\u001b[34m[09:19:36] src/tree/updater_prune.cc:74: tree pruning end, 1 roots, 18 extra nodes, 4 pruned nodes, max_depth=5\u001b[0m\n",
      "\u001b[34m[119]#011train-error:0.095333#011validation-error:0.1513\u001b[0m\n",
      "\u001b[34m[09:19:37] src/tree/updater_prune.cc:74: tree pruning end, 1 roots, 10 extra nodes, 4 pruned nodes, max_depth=5\u001b[0m\n",
      "\u001b[34m[120]#011train-error:0.094933#011validation-error:0.1507\u001b[0m\n",
      "\u001b[34m[09:19:39] src/tree/updater_prune.cc:74: tree pruning end, 1 roots, 16 extra nodes, 8 pruned nodes, max_depth=5\u001b[0m\n",
      "\u001b[34m[121]#011train-error:0.095133#011validation-error:0.151\u001b[0m\n",
      "\u001b[34m[09:19:40] src/tree/updater_prune.cc:74: tree pruning end, 1 roots, 24 extra nodes, 10 pruned nodes, max_depth=5\u001b[0m\n",
      "\u001b[34m[122]#011train-error:0.094133#011validation-error:0.149\u001b[0m\n",
      "\u001b[34m[09:19:41] src/tree/updater_prune.cc:74: tree pruning end, 1 roots, 18 extra nodes, 8 pruned nodes, max_depth=5\u001b[0m\n",
      "\u001b[34m[123]#011train-error:0.094067#011validation-error:0.1484\u001b[0m\n",
      "\u001b[34m[09:19:43] src/tree/updater_prune.cc:74: tree pruning end, 1 roots, 22 extra nodes, 6 pruned nodes, max_depth=5\u001b[0m\n",
      "\u001b[34m[124]#011train-error:0.092867#011validation-error:0.1474\u001b[0m\n",
      "\u001b[34m[09:19:44] src/tree/updater_prune.cc:74: tree pruning end, 1 roots, 10 extra nodes, 0 pruned nodes, max_depth=5\u001b[0m\n",
      "\u001b[34m[125]#011train-error:0.0922#011validation-error:0.1472\u001b[0m\n",
      "\u001b[34m[09:19:45] src/tree/updater_prune.cc:74: tree pruning end, 1 roots, 22 extra nodes, 12 pruned nodes, max_depth=5\u001b[0m\n",
      "\u001b[34m[126]#011train-error:0.091467#011validation-error:0.1476\u001b[0m\n",
      "\u001b[34m[09:19:46] src/tree/updater_prune.cc:74: tree pruning end, 1 roots, 14 extra nodes, 8 pruned nodes, max_depth=5\u001b[0m\n",
      "\u001b[34m[127]#011train-error:0.091267#011validation-error:0.1473\u001b[0m\n",
      "\u001b[34m[09:19:48] src/tree/updater_prune.cc:74: tree pruning end, 1 roots, 20 extra nodes, 14 pruned nodes, max_depth=5\u001b[0m\n",
      "\u001b[34m[128]#011train-error:0.0898#011validation-error:0.1492\u001b[0m\n",
      "\u001b[34m[09:19:49] src/tree/updater_prune.cc:74: tree pruning end, 1 roots, 12 extra nodes, 2 pruned nodes, max_depth=5\u001b[0m\n",
      "\u001b[34m[129]#011train-error:0.0898#011validation-error:0.1486\u001b[0m\n",
      "\u001b[34m[09:19:50] src/tree/updater_prune.cc:74: tree pruning end, 1 roots, 18 extra nodes, 4 pruned nodes, max_depth=5\u001b[0m\n",
      "\u001b[34m[130]#011train-error:0.089733#011validation-error:0.1488\u001b[0m\n",
      "\u001b[34m[09:19:51] src/tree/updater_prune.cc:74: tree pruning end, 1 roots, 12 extra nodes, 4 pruned nodes, max_depth=5\u001b[0m\n",
      "\u001b[34m[131]#011train-error:0.089533#011validation-error:0.1489\u001b[0m\n",
      "\u001b[34m[09:19:53] src/tree/updater_prune.cc:74: tree pruning end, 1 roots, 12 extra nodes, 10 pruned nodes, max_depth=5\u001b[0m\n",
      "\u001b[34m[132]#011train-error:0.089667#011validation-error:0.1483\u001b[0m\n",
      "\u001b[34m[09:19:54] src/tree/updater_prune.cc:74: tree pruning end, 1 roots, 26 extra nodes, 12 pruned nodes, max_depth=5\u001b[0m\n",
      "\u001b[34m[133]#011train-error:0.088333#011validation-error:0.1476\u001b[0m\n",
      "\u001b[34m[09:19:55] src/tree/updater_prune.cc:74: tree pruning end, 1 roots, 14 extra nodes, 6 pruned nodes, max_depth=5\u001b[0m\n",
      "\u001b[34m[134]#011train-error:0.088667#011validation-error:0.1481\u001b[0m\n",
      "\u001b[34m[09:19:57] src/tree/updater_prune.cc:74: tree pruning end, 1 roots, 14 extra nodes, 8 pruned nodes, max_depth=5\u001b[0m\n",
      "\u001b[34m[135]#011train-error:0.0884#011validation-error:0.1475\u001b[0m\n",
      "\u001b[34mStopping. Best iteration:\u001b[0m\n",
      "\u001b[34m[125]#011train-error:0.0922#011validation-error:0.1472\n",
      "\u001b[0m\n",
      "\n",
      "2020-10-08 09:20:07 Uploading - Uploading generated training model\n",
      "2020-10-08 09:20:07 Completed - Training job completed\n",
      "Training seconds: 232\n",
      "Billable seconds: 232\n"
     ]
    }
   ],
   "source": [
    "xgb.fit({'train': s3_input_train, 'validation': s3_input_validation})"
   ]
  },
  {
   "cell_type": "markdown",
   "metadata": {},
   "source": [
    "## Step 5: Testing the model\n",
    "\n",
    "Now that we've fit our XGBoost model, it's time to see how well it performs. To do this we will use SageMakers Batch Transform functionality. Batch Transform is a convenient way to perform inference on a large dataset in a way that is not realtime. That is, we don't necessarily need to use our model's results immediately and instead we can perform inference on a large number of samples. An example of this in industry might be performing an end of month report. This method of inference can also be useful to us as it means that we can perform inference on our entire test set. \n",
    "\n",
    "To perform a Batch Transformation we need to first create a transformer objects from our trained estimator object."
   ]
  },
  {
   "cell_type": "code",
   "execution_count": 39,
   "metadata": {},
   "outputs": [
    {
     "name": "stderr",
     "output_type": "stream",
     "text": [
      "Parameter image will be renamed to image_uri in SageMaker Python SDK v2.\n"
     ]
    }
   ],
   "source": [
    "xgb_transformer = xgb.transformer(instance_count = 1, instance_type = 'ml.m4.xlarge')"
   ]
  },
  {
   "cell_type": "markdown",
   "metadata": {},
   "source": [
    "Next we actually perform the transform job. When doing so we need to make sure to specify the type of data we are sending so that it is serialized correctly in the background. In our case we are providing our model with csv data so we specify `text/csv`. Also, if the test data that we have provided is too large to process all at once then we need to specify how the data file should be split up. Since each line is a single entry in our data set we tell SageMaker that it can split the input on each line."
   ]
  },
  {
   "cell_type": "code",
   "execution_count": 40,
   "metadata": {},
   "outputs": [],
   "source": [
    "xgb_transformer.transform(test_location, content_type='text/csv', split_type='Line')"
   ]
  },
  {
   "cell_type": "markdown",
   "metadata": {},
   "source": [
    "Currently the transform job is running but it is doing so in the background. Since we wish to wait until the transform job is done and we would like a bit of feedback we can run the `wait()` method."
   ]
  },
  {
   "cell_type": "code",
   "execution_count": 41,
   "metadata": {},
   "outputs": [
    {
     "name": "stdout",
     "output_type": "stream",
     "text": [
      "...........................\u001b[32m2020-10-08T09:41:39.910:[sagemaker logs]: MaxConcurrentTransforms=4, MaxPayloadInMB=6, BatchStrategy=MULTI_RECORD\u001b[0m\n",
      "\u001b[34mArguments: serve\u001b[0m\n",
      "\u001b[34m[2020-10-08 09:41:39 +0000] [1] [INFO] Starting gunicorn 19.7.1\u001b[0m\n",
      "\u001b[34m[2020-10-08 09:41:39 +0000] [1] [INFO] Listening at: http://0.0.0.0:8080 (1)\u001b[0m\n",
      "\u001b[34m[2020-10-08 09:41:39 +0000] [1] [INFO] Using worker: gevent\u001b[0m\n",
      "\u001b[34m[2020-10-08 09:41:39 +0000] [36] [INFO] Booting worker with pid: 36\u001b[0m\n",
      "\u001b[34m[2020-10-08 09:41:39 +0000] [37] [INFO] Booting worker with pid: 37\u001b[0m\n",
      "\u001b[35mArguments: serve\u001b[0m\n",
      "\u001b[35m[2020-10-08 09:41:39 +0000] [1] [INFO] Starting gunicorn 19.7.1\u001b[0m\n",
      "\u001b[35m[2020-10-08 09:41:39 +0000] [1] [INFO] Listening at: http://0.0.0.0:8080 (1)\u001b[0m\n",
      "\u001b[35m[2020-10-08 09:41:39 +0000] [1] [INFO] Using worker: gevent\u001b[0m\n",
      "\u001b[35m[2020-10-08 09:41:39 +0000] [36] [INFO] Booting worker with pid: 36\u001b[0m\n",
      "\u001b[35m[2020-10-08 09:41:39 +0000] [37] [INFO] Booting worker with pid: 37\u001b[0m\n",
      "\u001b[34m[2020-10-08 09:41:39 +0000] [38] [INFO] Booting worker with pid: 38\u001b[0m\n",
      "\u001b[34m[2020-10-08:09:41:39:INFO] Model loaded successfully for worker : 36\u001b[0m\n",
      "\u001b[34m[2020-10-08:09:41:39:INFO] Model loaded successfully for worker : 37\u001b[0m\n",
      "\u001b[34m[2020-10-08:09:41:39:INFO] Model loaded successfully for worker : 38\u001b[0m\n",
      "\u001b[34m[2020-10-08 09:41:39 +0000] [39] [INFO] Booting worker with pid: 39\u001b[0m\n",
      "\u001b[34m[2020-10-08:09:41:40:INFO] Model loaded successfully for worker : 39\u001b[0m\n",
      "\u001b[34m[2020-10-08:09:41:40:INFO] Sniff delimiter as ','\u001b[0m\n",
      "\u001b[34m[2020-10-08:09:41:40:INFO] Determined delimiter of CSV input is ','\u001b[0m\n",
      "\u001b[34m[2020-10-08:09:41:40:INFO] Sniff delimiter as ','\u001b[0m\n",
      "\u001b[34m[2020-10-08:09:41:40:INFO] Determined delimiter of CSV input is ','\u001b[0m\n",
      "\u001b[35m[2020-10-08 09:41:39 +0000] [38] [INFO] Booting worker with pid: 38\u001b[0m\n",
      "\u001b[35m[2020-10-08:09:41:39:INFO] Model loaded successfully for worker : 36\u001b[0m\n",
      "\u001b[35m[2020-10-08:09:41:39:INFO] Model loaded successfully for worker : 37\u001b[0m\n",
      "\u001b[35m[2020-10-08:09:41:39:INFO] Model loaded successfully for worker : 38\u001b[0m\n",
      "\u001b[35m[2020-10-08 09:41:39 +0000] [39] [INFO] Booting worker with pid: 39\u001b[0m\n",
      "\u001b[35m[2020-10-08:09:41:40:INFO] Model loaded successfully for worker : 39\u001b[0m\n",
      "\u001b[35m[2020-10-08:09:41:40:INFO] Sniff delimiter as ','\u001b[0m\n",
      "\u001b[35m[2020-10-08:09:41:40:INFO] Determined delimiter of CSV input is ','\u001b[0m\n",
      "\u001b[35m[2020-10-08:09:41:40:INFO] Sniff delimiter as ','\u001b[0m\n",
      "\u001b[35m[2020-10-08:09:41:40:INFO] Determined delimiter of CSV input is ','\u001b[0m\n",
      "\u001b[34m[2020-10-08:09:41:40:INFO] Sniff delimiter as ','\u001b[0m\n",
      "\u001b[34m[2020-10-08:09:41:40:INFO] Determined delimiter of CSV input is ','\u001b[0m\n",
      "\u001b[35m[2020-10-08:09:41:40:INFO] Sniff delimiter as ','\u001b[0m\n",
      "\u001b[35m[2020-10-08:09:41:40:INFO] Determined delimiter of CSV input is ','\u001b[0m\n",
      "\u001b[34m[2020-10-08:09:41:40:INFO] Sniff delimiter as ','\u001b[0m\n",
      "\u001b[34m[2020-10-08:09:41:40:INFO] Determined delimiter of CSV input is ','\u001b[0m\n",
      "\u001b[35m[2020-10-08:09:41:40:INFO] Sniff delimiter as ','\u001b[0m\n",
      "\u001b[35m[2020-10-08:09:41:40:INFO] Determined delimiter of CSV input is ','\u001b[0m\n",
      "\u001b[34m[2020-10-08:09:41:42:INFO] Sniff delimiter as ','\u001b[0m\n",
      "\u001b[34m[2020-10-08:09:41:42:INFO] Determined delimiter of CSV input is ','\u001b[0m\n",
      "\u001b[34m[2020-10-08:09:41:42:INFO] Sniff delimiter as ','\u001b[0m\n",
      "\u001b[34m[2020-10-08:09:41:42:INFO] Determined delimiter of CSV input is ','\u001b[0m\n",
      "\u001b[34m[2020-10-08:09:41:42:INFO] Sniff delimiter as ','\u001b[0m\n",
      "\u001b[35m[2020-10-08:09:41:42:INFO] Sniff delimiter as ','\u001b[0m\n",
      "\u001b[35m[2020-10-08:09:41:42:INFO] Determined delimiter of CSV input is ','\u001b[0m\n",
      "\u001b[35m[2020-10-08:09:41:42:INFO] Sniff delimiter as ','\u001b[0m\n",
      "\u001b[35m[2020-10-08:09:41:42:INFO] Determined delimiter of CSV input is ','\u001b[0m\n",
      "\u001b[35m[2020-10-08:09:41:42:INFO] Sniff delimiter as ','\u001b[0m\n",
      "\u001b[34m[2020-10-08:09:41:42:INFO] Determined delimiter of CSV input is ','\u001b[0m\n",
      "\u001b[34m[2020-10-08:09:41:43:INFO] Sniff delimiter as ','\u001b[0m\n",
      "\u001b[34m[2020-10-08:09:41:43:INFO] Determined delimiter of CSV input is ','\u001b[0m\n",
      "\u001b[35m[2020-10-08:09:41:42:INFO] Determined delimiter of CSV input is ','\u001b[0m\n",
      "\u001b[35m[2020-10-08:09:41:43:INFO] Sniff delimiter as ','\u001b[0m\n",
      "\u001b[35m[2020-10-08:09:41:43:INFO] Determined delimiter of CSV input is ','\u001b[0m\n",
      "\u001b[34m[2020-10-08:09:41:45:INFO] Sniff delimiter as ','\u001b[0m\n",
      "\u001b[34m[2020-10-08:09:41:45:INFO] Determined delimiter of CSV input is ','\u001b[0m\n",
      "\u001b[34m[2020-10-08:09:41:45:INFO] Sniff delimiter as ','\u001b[0m\n",
      "\u001b[34m[2020-10-08:09:41:45:INFO] Determined delimiter of CSV input is ','\u001b[0m\n",
      "\u001b[35m[2020-10-08:09:41:45:INFO] Sniff delimiter as ','\u001b[0m\n",
      "\u001b[35m[2020-10-08:09:41:45:INFO] Determined delimiter of CSV input is ','\u001b[0m\n",
      "\u001b[35m[2020-10-08:09:41:45:INFO] Sniff delimiter as ','\u001b[0m\n",
      "\u001b[35m[2020-10-08:09:41:45:INFO] Determined delimiter of CSV input is ','\u001b[0m\n",
      "\u001b[34m[2020-10-08:09:41:45:INFO] Sniff delimiter as ','\u001b[0m\n",
      "\u001b[34m[2020-10-08:09:41:45:INFO] Determined delimiter of CSV input is ','\u001b[0m\n",
      "\u001b[35m[2020-10-08:09:41:45:INFO] Sniff delimiter as ','\u001b[0m\n",
      "\u001b[35m[2020-10-08:09:41:45:INFO] Determined delimiter of CSV input is ','\u001b[0m\n",
      "\u001b[34m[2020-10-08:09:41:45:INFO] Sniff delimiter as ','\u001b[0m\n",
      "\u001b[34m[2020-10-08:09:41:45:INFO] Determined delimiter of CSV input is ','\u001b[0m\n",
      "\u001b[35m[2020-10-08:09:41:45:INFO] Sniff delimiter as ','\u001b[0m\n",
      "\u001b[35m[2020-10-08:09:41:45:INFO] Determined delimiter of CSV input is ','\u001b[0m\n",
      "\u001b[34m[2020-10-08:09:41:47:INFO] Sniff delimiter as ','\u001b[0m\n",
      "\u001b[34m[2020-10-08:09:41:47:INFO] Determined delimiter of CSV input is ','\u001b[0m\n",
      "\u001b[34m[2020-10-08:09:41:47:INFO] Sniff delimiter as ','\u001b[0m\n",
      "\u001b[34m[2020-10-08:09:41:47:INFO] Determined delimiter of CSV input is ','\u001b[0m\n",
      "\u001b[34m[2020-10-08:09:41:47:INFO] Sniff delimiter as ','\u001b[0m\n",
      "\u001b[34m[2020-10-08:09:41:47:INFO] Determined delimiter of CSV input is ','\u001b[0m\n",
      "\u001b[34m[2020-10-08:09:41:48:INFO] Sniff delimiter as ','\u001b[0m\n",
      "\u001b[34m[2020-10-08:09:41:48:INFO] Determined delimiter of CSV input is ','\u001b[0m\n",
      "\u001b[35m[2020-10-08:09:41:47:INFO] Sniff delimiter as ','\u001b[0m\n",
      "\u001b[35m[2020-10-08:09:41:47:INFO] Determined delimiter of CSV input is ','\u001b[0m\n",
      "\u001b[35m[2020-10-08:09:41:47:INFO] Sniff delimiter as ','\u001b[0m\n",
      "\u001b[35m[2020-10-08:09:41:47:INFO] Determined delimiter of CSV input is ','\u001b[0m\n",
      "\u001b[35m[2020-10-08:09:41:47:INFO] Sniff delimiter as ','\u001b[0m\n",
      "\u001b[35m[2020-10-08:09:41:47:INFO] Determined delimiter of CSV input is ','\u001b[0m\n",
      "\u001b[35m[2020-10-08:09:41:48:INFO] Sniff delimiter as ','\u001b[0m\n",
      "\u001b[35m[2020-10-08:09:41:48:INFO] Determined delimiter of CSV input is ','\u001b[0m\n",
      "\u001b[34m[2020-10-08:09:41:52:INFO] Sniff delimiter as ','\u001b[0m\n",
      "\u001b[34m[2020-10-08:09:41:52:INFO] Determined delimiter of CSV input is ','\u001b[0m\n",
      "\u001b[34m[2020-10-08:09:41:52:INFO] Sniff delimiter as ','\u001b[0m\n",
      "\u001b[34m[2020-10-08:09:41:52:INFO] Determined delimiter of CSV input is ','\u001b[0m\n",
      "\u001b[34m[2020-10-08:09:41:52:INFO] Sniff delimiter as ','\u001b[0m\n",
      "\u001b[34m[2020-10-08:09:41:52:INFO] Determined delimiter of CSV input is ','\u001b[0m\n",
      "\u001b[35m[2020-10-08:09:41:52:INFO] Sniff delimiter as ','\u001b[0m\n",
      "\u001b[35m[2020-10-08:09:41:52:INFO] Determined delimiter of CSV input is ','\u001b[0m\n",
      "\u001b[35m[2020-10-08:09:41:52:INFO] Sniff delimiter as ','\u001b[0m\n",
      "\u001b[35m[2020-10-08:09:41:52:INFO] Determined delimiter of CSV input is ','\u001b[0m\n",
      "\u001b[35m[2020-10-08:09:41:52:INFO] Sniff delimiter as ','\u001b[0m\n",
      "\u001b[35m[2020-10-08:09:41:52:INFO] Determined delimiter of CSV input is ','\u001b[0m\n",
      "\u001b[34m[2020-10-08:09:41:52:INFO] Sniff delimiter as ','\u001b[0m\n",
      "\u001b[34m[2020-10-08:09:41:52:INFO] Determined delimiter of CSV input is ','\u001b[0m\n",
      "\u001b[35m[2020-10-08:09:41:52:INFO] Sniff delimiter as ','\u001b[0m\n",
      "\u001b[35m[2020-10-08:09:41:52:INFO] Determined delimiter of CSV input is ','\u001b[0m\n",
      "\u001b[34m[2020-10-08:09:41:54:INFO] Sniff delimiter as ','\u001b[0m\n",
      "\u001b[34m[2020-10-08:09:41:54:INFO] Determined delimiter of CSV input is ','\u001b[0m\n",
      "\u001b[34m[2020-10-08:09:41:54:INFO] Sniff delimiter as ','\u001b[0m\n",
      "\u001b[34m[2020-10-08:09:41:54:INFO] Determined delimiter of CSV input is ','\u001b[0m\n",
      "\u001b[34m[2020-10-08:09:41:55:INFO] Sniff delimiter as ','\u001b[0m\n",
      "\u001b[35m[2020-10-08:09:41:54:INFO] Sniff delimiter as ','\u001b[0m\n",
      "\u001b[35m[2020-10-08:09:41:54:INFO] Determined delimiter of CSV input is ','\u001b[0m\n",
      "\u001b[35m[2020-10-08:09:41:54:INFO] Sniff delimiter as ','\u001b[0m\n",
      "\u001b[35m[2020-10-08:09:41:54:INFO] Determined delimiter of CSV input is ','\u001b[0m\n",
      "\u001b[35m[2020-10-08:09:41:55:INFO] Sniff delimiter as ','\u001b[0m\n",
      "\u001b[34m[2020-10-08:09:41:55:INFO] Determined delimiter of CSV input is ','\u001b[0m\n",
      "\u001b[34m[2020-10-08:09:41:55:INFO] Sniff delimiter as ','\u001b[0m\n",
      "\u001b[34m[2020-10-08:09:41:55:INFO] Determined delimiter of CSV input is ','\u001b[0m\n",
      "\u001b[35m[2020-10-08:09:41:55:INFO] Determined delimiter of CSV input is ','\u001b[0m\n",
      "\u001b[35m[2020-10-08:09:41:55:INFO] Sniff delimiter as ','\u001b[0m\n",
      "\u001b[35m[2020-10-08:09:41:55:INFO] Determined delimiter of CSV input is ','\u001b[0m\n",
      "\u001b[34m[2020-10-08:09:41:57:INFO] Sniff delimiter as ','\u001b[0m\n",
      "\u001b[34m[2020-10-08:09:41:57:INFO] Determined delimiter of CSV input is ','\u001b[0m\n",
      "\u001b[35m[2020-10-08:09:41:57:INFO] Sniff delimiter as ','\u001b[0m\n",
      "\u001b[35m[2020-10-08:09:41:57:INFO] Determined delimiter of CSV input is ','\u001b[0m\n",
      "\u001b[34m[2020-10-08:09:41:57:INFO] Sniff delimiter as ','\u001b[0m\n",
      "\u001b[34m[2020-10-08:09:41:57:INFO] Determined delimiter of CSV input is ','\u001b[0m\n",
      "\u001b[34m[2020-10-08:09:41:57:INFO] Sniff delimiter as ','\u001b[0m\n",
      "\u001b[34m[2020-10-08:09:41:57:INFO] Determined delimiter of CSV input is ','\u001b[0m\n",
      "\u001b[34m[2020-10-08:09:41:57:INFO] Sniff delimiter as ','\u001b[0m\n",
      "\u001b[34m[2020-10-08:09:41:57:INFO] Determined delimiter of CSV input is ','\u001b[0m\n",
      "\u001b[35m[2020-10-08:09:41:57:INFO] Sniff delimiter as ','\u001b[0m\n",
      "\u001b[35m[2020-10-08:09:41:57:INFO] Determined delimiter of CSV input is ','\u001b[0m\n",
      "\u001b[35m[2020-10-08:09:41:57:INFO] Sniff delimiter as ','\u001b[0m\n",
      "\u001b[35m[2020-10-08:09:41:57:INFO] Determined delimiter of CSV input is ','\u001b[0m\n",
      "\u001b[35m[2020-10-08:09:41:57:INFO] Sniff delimiter as ','\u001b[0m\n",
      "\u001b[35m[2020-10-08:09:41:57:INFO] Determined delimiter of CSV input is ','\u001b[0m\n",
      "\u001b[34m[2020-10-08:09:42:00:INFO] Sniff delimiter as ','\u001b[0m\n",
      "\u001b[34m[2020-10-08:09:42:00:INFO] Determined delimiter of CSV input is ','\u001b[0m\n",
      "\u001b[35m[2020-10-08:09:42:00:INFO] Sniff delimiter as ','\u001b[0m\n",
      "\u001b[35m[2020-10-08:09:42:00:INFO] Determined delimiter of CSV input is ','\u001b[0m\n",
      "\u001b[34m[2020-10-08:09:42:02:INFO] Sniff delimiter as ','\u001b[0m\n",
      "\u001b[34m[2020-10-08:09:42:02:INFO] Determined delimiter of CSV input is ','\u001b[0m\n",
      "\u001b[35m[2020-10-08:09:42:02:INFO] Sniff delimiter as ','\u001b[0m\n",
      "\u001b[35m[2020-10-08:09:42:02:INFO] Determined delimiter of CSV input is ','\u001b[0m\n",
      "\u001b[34m[2020-10-08:09:42:02:INFO] Sniff delimiter as ','\u001b[0m\n",
      "\u001b[34m[2020-10-08:09:42:02:INFO] Determined delimiter of CSV input is ','\u001b[0m\n",
      "\u001b[34m[2020-10-08:09:42:02:INFO] Sniff delimiter as ','\u001b[0m\n",
      "\u001b[34m[2020-10-08:09:42:02:INFO] Determined delimiter of CSV input is ','\u001b[0m\n",
      "\u001b[34m[2020-10-08:09:42:02:INFO] Sniff delimiter as ','\u001b[0m\n",
      "\u001b[35m[2020-10-08:09:42:02:INFO] Sniff delimiter as ','\u001b[0m\n",
      "\u001b[35m[2020-10-08:09:42:02:INFO] Determined delimiter of CSV input is ','\u001b[0m\n",
      "\u001b[35m[2020-10-08:09:42:02:INFO] Sniff delimiter as ','\u001b[0m\n",
      "\u001b[35m[2020-10-08:09:42:02:INFO] Determined delimiter of CSV input is ','\u001b[0m\n",
      "\u001b[35m[2020-10-08:09:42:02:INFO] Sniff delimiter as ','\u001b[0m\n",
      "\u001b[34m[2020-10-08:09:42:02:INFO] Determined delimiter of CSV input is ','\u001b[0m\n",
      "\u001b[35m[2020-10-08:09:42:02:INFO] Determined delimiter of CSV input is ','\u001b[0m\n",
      "\n"
     ]
    }
   ],
   "source": [
    "xgb_transformer.wait()"
   ]
  },
  {
   "cell_type": "markdown",
   "metadata": {},
   "source": [
    "Now the transform job has executed and the result, the estimated sentiment of each review, has been saved on S3. Since we would rather work on this file locally we can perform a bit of notebook magic to copy the file to the `data_dir`."
   ]
  },
  {
   "cell_type": "code",
   "execution_count": 43,
   "metadata": {},
   "outputs": [
    {
     "data": {
      "text/plain": [
       "'s3://sagemaker-us-east-2-330335126841/xgboost-2020-10-08-09-37-18-008'"
      ]
     },
     "execution_count": 43,
     "metadata": {},
     "output_type": "execute_result"
    }
   ],
   "source": [
    "xgb_transformer.output_path"
   ]
  },
  {
   "cell_type": "code",
   "execution_count": 44,
   "metadata": {},
   "outputs": [
    {
     "name": "stdout",
     "output_type": "stream",
     "text": [
      "download: s3://sagemaker-us-east-2-330335126841/xgboost-2020-10-08-09-37-18-008/test.csv.out to ../data/sentiment_web_app/test.csv.out\n"
     ]
    }
   ],
   "source": [
    "!aws s3 cp --recursive $xgb_transformer.output_path $data_dir"
   ]
  },
  {
   "cell_type": "markdown",
   "metadata": {},
   "source": [
    "The last step is now to read in the output from our model, convert the output to something a little more usable, in this case we want the sentiment to be either `1` (positive) or `0` (negative), and then compare to the ground truth labels."
   ]
  },
  {
   "cell_type": "code",
   "execution_count": 45,
   "metadata": {},
   "outputs": [],
   "source": [
    "predictions = pd.read_csv(os.path.join(data_dir, 'test.csv.out'), header=None)\n",
    "predictions = [round(num) for num in predictions.squeeze().values]"
   ]
  },
  {
   "cell_type": "code",
   "execution_count": 46,
   "metadata": {},
   "outputs": [
    {
     "data": {
      "text/plain": [
       "0.85336"
      ]
     },
     "execution_count": 46,
     "metadata": {},
     "output_type": "execute_result"
    }
   ],
   "source": [
    "from sklearn.metrics import accuracy_score\n",
    "accuracy_score(test_y, predictions)"
   ]
  },
  {
   "cell_type": "markdown",
   "metadata": {},
   "source": [
    "## Step 6: Deploying the model\n",
    "\n",
    "Once we construct and fit our model, SageMaker stores the resulting model artifacts and we can use those to deploy an endpoint (inference code). To see this, look in the SageMaker console and you should see that a model has been created along with a link to the S3 location where the model artifacts have been stored.\n",
    "\n",
    "Deploying an endpoint is a lot like training the model with a few important differences. The first is that a deployed model doesn't change the model artifacts, so as you send it various testing instances the model won't change. Another difference is that since we aren't performing a fixed computation, as we were in the training step or while performing a batch transform, the compute instance that gets started stays running until we tell it to stop. This is important to note as if we forget and leave it running we will be charged the entire time.\n",
    "\n",
    "In other words **If you are no longer using a deployed endpoint, shut it down!**"
   ]
  },
  {
   "cell_type": "code",
   "execution_count": null,
   "metadata": {},
   "outputs": [],
   "source": [
    "xgb_predictor = xgb.deploy(initial_instance_count = 1, instance_type = 'ml.m4.xlarge')"
   ]
  },
  {
   "cell_type": "markdown",
   "metadata": {},
   "source": [
    "### Testing the model (again)\n",
    "\n",
    "Now that we have deployed our endpoint, we can send the testing data to it and get back the inference results. We already did this earlier using the batch transform functionality of SageMaker, however, we will test our model again using the newly deployed endpoint so that we can make sure that it works properly and to get a bit of a feel for how the endpoint works.\n",
    "\n",
    "When using the created endpoint it is important to know that we are limited in the amount of information we can send in each call so we need to break the testing data up into chunks and then send each chunk. Also, we need to serialize our data before we send it to the endpoint to ensure that our data is transmitted properly. Fortunately, SageMaker can do the serialization part for us provided we tell it the format of our data."
   ]
  },
  {
   "cell_type": "code",
   "execution_count": null,
   "metadata": {},
   "outputs": [],
   "source": [
    "from sagemaker.predictor import csv_serializer\n",
    "\n",
    "# We need to tell the endpoint what format the data we are sending is in so that SageMaker can perform the serialization.\n",
    "xgb_predictor.content_type = 'text/csv'\n",
    "xgb_predictor.serializer = csv_serializer"
   ]
  },
  {
   "cell_type": "code",
   "execution_count": null,
   "metadata": {},
   "outputs": [],
   "source": [
    "# We split the data into chunks and send each chunk seperately, accumulating the results.\n",
    "\n",
    "def predict(data, rows=512):\n",
    "    split_array = np.array_split(data, int(data.shape[0] / float(rows) + 1))\n",
    "    predictions = ''\n",
    "    for array in split_array:\n",
    "        predictions = ','.join([predictions, xgb_predictor.predict(array).decode('utf-8')])\n",
    "    \n",
    "    return np.fromstring(predictions[1:], sep=',')"
   ]
  },
  {
   "cell_type": "code",
   "execution_count": null,
   "metadata": {},
   "outputs": [],
   "source": [
    "test_X = pd.read_csv(os.path.join(data_dir, 'test.csv'), header=None).values\n",
    "\n",
    "predictions = predict(test_X)\n",
    "predictions = [round(num) for num in predictions]"
   ]
  },
  {
   "cell_type": "markdown",
   "metadata": {},
   "source": [
    "Lastly, we check to see what the accuracy of our model is."
   ]
  },
  {
   "cell_type": "code",
   "execution_count": null,
   "metadata": {},
   "outputs": [],
   "source": [
    "from sklearn.metrics import accuracy_score\n",
    "accuracy_score(test_y, predictions)"
   ]
  },
  {
   "cell_type": "markdown",
   "metadata": {},
   "source": [
    "And the results here should agree with the model testing that we did earlier using the batch transform job.\n",
    "\n",
    "### Cleaning up\n",
    "\n",
    "Now that we've determined that deploying our model works as expected, we are going to shut it down. Remember that the longer the endpoint is left running, the greater the cost and since we have a bit more work to do before we are able to use our endpoint with our simple web app, we should shut everything down."
   ]
  },
  {
   "cell_type": "code",
   "execution_count": null,
   "metadata": {},
   "outputs": [],
   "source": [
    "xgb_predictor.delete_endpoint()"
   ]
  },
  {
   "cell_type": "markdown",
   "metadata": {},
   "source": [
    "## Step 7: Putting our model to work\n",
    "\n",
    "As we've mentioned a few times now, our goal is to have our model deployed and then access it using a very simple web app. The intent is for this web app to take some user submitted data (a review), send it off to our endpoint (the model) and then display the result.\n",
    "\n",
    "However, there is a small catch. Currently the only way we can access the endpoint to send it data is using the SageMaker API. We can, if we wish, expose the actual URL that our model's endpoint is receiving data from, however, if we just send it data ourselves we will not get anything in return. This is because the endpoint created by SageMaker requires the entity accessing it have the correct permissions. So, we would need to somehow authenticate our web app with AWS.\n",
    "\n",
    "Having a website that authenticates to AWS seems a bit beyond the scope of this lesson so we will opt for an alternative approach. Namely, we will create a new endpoint which does not require authentication and which acts as a proxy for the SageMaker endpoint.\n",
    "\n",
    "As an additional constraint, we will try to avoid doing any data processing in the web app itself. Remember that when we constructed and tested our model we started with a movie review, then we simplified it by removing any html formatting and punctuation, then we constructed a bag of words embedding and the resulting vector is what we sent to our model. All of this needs to be done to our user input as well.\n",
    "\n",
    "Fortunately we can do all of this data processing in the backend, using Amazon's Lambda service.\n",
    "\n",
    "<img src=\"Web App Diagram.svg\">\n",
    "\n",
    "The diagram above gives an overview of how the various services will work together. On the far right is the model which we trained above and which will be deployed using SageMaker. On the far left is our web app that collects a user's movie review, sends it off and expects a positive or negative sentiment in return.\n",
    "\n",
    "In the middle is where some of the magic happens. We will construct a Lambda function, which you can think of as a straightforward Python function that can be executed whenever a specified event occurs. This Python function will do the data processing we need to perform on a user submitted review. In addition, we will give this function permission to send and recieve data from a SageMaker endpoint.\n",
    "\n",
    "Lastly, the method we will use to execute the Lambda function is a new endpoint that we will create using API Gateway. This endpoint will be a url that listens for data to be sent to it. Once it gets some data it will pass that data on to the Lambda function and then return whatever the Lambda function returns. Essentially it will act as an interface that lets our web app communicate with the Lambda function.\n",
    "\n",
    "### Processing a single review\n",
    "\n",
    "For now, suppose we are given a movie review by our user in the form of a string, like so:"
   ]
  },
  {
   "cell_type": "code",
   "execution_count": 47,
   "metadata": {},
   "outputs": [],
   "source": [
    "test_review = \"Nothing but a disgusting materialistic pageant of glistening abed remote control greed zombies, totally devoid of any heart or heat. A romantic comedy that has zero romantic chemestry and zero laughs!\""
   ]
  },
  {
   "cell_type": "markdown",
   "metadata": {},
   "source": [
    "How do we go from this string to the bag of words feature vector that is expected by our model?\n",
    "\n",
    "If we recall at the beginning of this notebook, the first step is to remove any unnecessary characters using the `review_to_words` method. Remember that we intentionally did this in a very simplistic way. This is because we are going to have to copy this method to our (eventual) Lambda function (we will go into more detail later) and this means it needs to be rather simplistic."
   ]
  },
  {
   "cell_type": "code",
   "execution_count": 48,
   "metadata": {},
   "outputs": [
    {
     "name": "stdout",
     "output_type": "stream",
     "text": [
      "nothing but a disgusting materialistic pageant of glistening abed remote control greed zombies totally devoid of any heart or heat a romantic comedy that has zero romantic chemestry and zero laughs\n"
     ]
    }
   ],
   "source": [
    "test_words = review_to_words(test_review)\n",
    "print(test_words)"
   ]
  },
  {
   "cell_type": "markdown",
   "metadata": {},
   "source": [
    "Next, we need to construct a bag of words embedding of the `test_words` string. To do this, remember that a bag of words embedding uses a `vocabulary` consisting of the most frequently appearing words in a set of documents. Then, for each word in the vocabulary we record the number of times that word appears in `test_words`. We constructed the `vocabulary` earlier using the training set for our problem so encoding `test_words` is relatively straightforward."
   ]
  },
  {
   "cell_type": "code",
   "execution_count": 55,
   "metadata": {},
   "outputs": [],
   "source": [
    "def bow_encoding(words, vocabulary):\n",
    "    bow = [0] * len(vocabulary) # Start by setting the count for each word in the vocabulary to zero.\n",
    "    for word in words.split():  # For each word in the string\n",
    "        if word in vocabulary:  # If the word is one that occurs in the vocabulary, increase its count.\n",
    "            bow[vocabulary[word]] += 1\n",
    "    return bow"
   ]
  },
  {
   "cell_type": "code",
   "execution_count": 56,
   "metadata": {
    "collapsed": true,
    "jupyter": {
     "outputs_hidden": true
    }
   },
   "outputs": [
    {
     "name": "stdout",
     "output_type": "stream",
     "text": [
      "[0, 0, 0, 0, 0, 0, 0, 0, 0, 0, 0, 0, 0, 0, 0, 0, 0, 0, 0, 0, 0, 0, 0, 0, 0, 0, 0, 0, 0, 0, 0, 0, 0, 0, 0, 0, 0, 0, 0, 0, 0, 0, 0, 0, 0, 0, 0, 0, 0, 0, 0, 0, 0, 0, 0, 0, 0, 0, 0, 0, 0, 0, 0, 0, 0, 0, 0, 0, 0, 0, 0, 0, 0, 0, 0, 0, 0, 0, 0, 0, 0, 0, 0, 0, 0, 0, 0, 0, 0, 0, 0, 0, 0, 0, 0, 0, 0, 0, 0, 0, 0, 0, 0, 0, 0, 0, 0, 0, 0, 0, 0, 0, 0, 0, 0, 0, 0, 0, 0, 0, 0, 0, 0, 0, 0, 0, 0, 0, 0, 0, 0, 0, 0, 0, 0, 0, 0, 0, 0, 0, 0, 0, 0, 0, 0, 0, 0, 0, 0, 0, 0, 0, 0, 0, 0, 0, 0, 0, 0, 0, 0, 0, 0, 0, 0, 0, 0, 0, 0, 0, 0, 0, 0, 0, 0, 0, 0, 0, 0, 0, 0, 0, 0, 0, 0, 0, 0, 0, 0, 0, 0, 0, 0, 0, 0, 0, 0, 0, 0, 0, 0, 0, 0, 0, 0, 0, 0, 0, 0, 0, 0, 0, 0, 0, 0, 0, 0, 0, 0, 0, 0, 0, 0, 0, 0, 0, 1, 0, 0, 0, 0, 0, 0, 0, 0, 0, 0, 0, 0, 0, 0, 0, 0, 0, 0, 0, 0, 0, 0, 0, 0, 0, 0, 0, 0, 0, 1, 0, 0, 0, 0, 0, 0, 0, 0, 0, 0, 0, 0, 0, 0, 0, 0, 0, 0, 0, 0, 0, 0, 0, 0, 0, 0, 0, 0, 0, 0, 0, 0, 0, 0, 0, 0, 0, 0, 0, 0, 0, 0, 0, 0, 0, 0, 0, 0, 0, 0, 0, 0, 0, 0, 0, 0, 0, 0, 0, 0, 0, 0, 0, 0, 0, 0, 0, 0, 0, 0, 0, 0, 0, 0, 0, 0, 0, 0, 0, 0, 0, 0, 0, 0, 0, 0, 0, 0, 0, 0, 0, 0, 0, 0, 0, 0, 0, 0, 0, 0, 0, 0, 0, 0, 0, 0, 0, 0, 0, 0, 0, 0, 0, 0, 0, 0, 0, 0, 0, 0, 0, 0, 0, 0, 0, 0, 0, 0, 0, 0, 0, 0, 0, 0, 0, 0, 0, 0, 0, 0, 0, 0, 0, 0, 0, 0, 0, 0, 0, 0, 0, 0, 0, 0, 0, 0, 0, 0, 0, 0, 0, 0, 0, 0, 0, 0, 0, 0, 0, 0, 0, 0, 0, 0, 0, 0, 0, 0, 0, 0, 0, 0, 0, 0, 0, 0, 0, 0, 0, 0, 0, 0, 0, 0, 0, 0, 0, 0, 0, 0, 0, 0, 0, 0, 0, 0, 0, 0, 0, 0, 0, 0, 0, 0, 0, 0, 0, 0, 0, 0, 0, 0, 0, 0, 0, 0, 0, 0, 0, 0, 0, 0, 0, 0, 0, 0, 0, 0, 0, 0, 0, 0, 0, 0, 0, 0, 0, 0, 0, 0, 0, 0, 0, 0, 0, 0, 0, 0, 0, 0, 0, 0, 0, 0, 0, 0, 0, 0, 0, 0, 0, 0, 0, 0, 0, 0, 0, 0, 0, 0, 0, 0, 0, 0, 0, 0, 0, 0, 0, 0, 0, 0, 0, 0, 0, 0, 0, 0, 0, 0, 0, 0, 0, 0, 0, 0, 0, 0, 0, 0, 0, 0, 0, 0, 0, 0, 0, 0, 0, 0, 0, 0, 0, 0, 0, 0, 0, 0, 0, 0, 0, 0, 0, 0, 0, 0, 0, 0, 0, 0, 0, 0, 0, 0, 0, 0, 0, 0, 0, 0, 0, 0, 0, 0, 0, 0, 0, 0, 0, 0, 0, 0, 0, 0, 0, 0, 0, 0, 0, 0, 0, 0, 0, 0, 0, 0, 0, 0, 0, 1, 0, 0, 0, 0, 0, 0, 0, 0, 0, 0, 0, 0, 0, 0, 0, 0, 0, 0, 0, 0, 0, 0, 0, 0, 0, 0, 0, 0, 0, 0, 0, 0, 0, 0, 0, 0, 0, 0, 0, 0, 0, 0, 0, 0, 0, 0, 0, 0, 0, 0, 0, 0, 0, 0, 0, 0, 0, 0, 0, 0, 0, 0, 0, 0, 0, 0, 0, 0, 0, 0, 0, 0, 0, 0, 0, 0, 0, 0, 0, 0, 0, 0, 0, 0, 0, 0, 0, 0, 0, 0, 0, 0, 0, 0, 0, 0, 0, 0, 0, 0, 0, 0, 0, 0, 0, 0, 0, 0, 0, 0, 0, 0, 0, 0, 0, 0, 0, 0, 0, 0, 0, 0, 0, 0, 0, 0, 0, 0, 0, 0, 0, 0, 0, 0, 0, 0, 0, 0, 0, 0, 0, 0, 0, 0, 0, 0, 0, 0, 0, 0, 0, 0, 0, 0, 0, 0, 0, 0, 0, 0, 0, 0, 0, 0, 0, 0, 0, 0, 0, 0, 0, 0, 0, 0, 0, 0, 0, 0, 0, 0, 0, 0, 0, 0, 0, 0, 0, 0, 0, 0, 0, 0, 0, 0, 0, 0, 0, 0, 0, 0, 0, 0, 0, 0, 0, 0, 0, 0, 0, 0, 0, 0, 0, 0, 0, 0, 0, 0, 0, 0, 0, 0, 0, 0, 0, 0, 0, 0, 0, 0, 0, 0, 0, 0, 0, 0, 0, 0, 0, 0, 0, 0, 0, 0, 0, 0, 0, 0, 0, 0, 0, 0, 0, 1, 0, 0, 0, 0, 0, 0, 0, 0, 0, 0, 0, 0, 0, 0, 0, 0, 0, 0, 0, 0, 0, 0, 0, 0, 0, 0, 0, 0, 0, 0, 0, 0, 0, 0, 0, 0, 0, 0, 0, 0, 0, 0, 0, 0, 0, 0, 0, 0, 0, 0, 0, 0, 0, 0, 0, 0, 0, 0, 0, 0, 0, 0, 0, 0, 0, 0, 0, 0, 0, 0, 0, 0, 0, 0, 0, 0, 0, 0, 0, 0, 0, 0, 0, 0, 0, 0, 1, 0, 0, 0, 0, 0, 0, 0, 0, 0, 0, 0, 0, 0, 0, 0, 0, 0, 0, 0, 0, 0, 0, 0, 0, 0, 0, 0, 0, 0, 0, 0, 0, 0, 0, 0, 0, 0, 0, 0, 0, 0, 0, 0, 0, 0, 0, 0, 0, 0, 0, 0, 0, 0, 0, 0, 0, 0, 0, 0, 0, 0, 0, 0, 0, 0, 0, 0, 0, 0, 0, 0, 0, 0, 0, 0, 0, 0, 0, 0, 0, 0, 0, 0, 0, 0, 0, 0, 0, 0, 0, 0, 0, 0, 0, 0, 0, 0, 0, 0, 0, 0, 0, 0, 0, 0, 0, 0, 0, 0, 0, 0, 0, 0, 0, 0, 0, 0, 0, 0, 0, 0, 0, 0, 0, 0, 0, 0, 0, 0, 0, 0, 0, 0, 0, 0, 0, 0, 0, 0, 0, 0, 0, 0, 0, 0, 0, 0, 0, 0, 0, 0, 0, 0, 0, 0, 0, 0, 0, 0, 0, 0, 0, 0, 0, 0, 0, 0, 0, 0, 0, 0, 0, 0, 0, 0, 0, 0, 0, 0, 0, 0, 0, 0, 0, 0, 0, 0, 0, 0, 0, 0, 0, 0, 0, 0, 0, 0, 0, 0, 0, 0, 0, 0, 0, 0, 0, 0, 0, 0, 0, 0, 0, 0, 0, 0, 0, 0, 0, 0, 0, 0, 0, 0, 0, 0, 0, 0, 0, 0, 0, 0, 0, 0, 0, 0, 0, 0, 0, 0, 0, 0, 0, 0, 0, 0, 0, 0, 0, 0, 0, 0, 0, 1, 0, 0, 0, 0, 0, 0, 0, 0, 0, 0, 0, 0, 0, 0, 0, 0, 0, 0, 0, 0, 0, 0, 0, 0, 0, 0, 0, 0, 0, 0, 0, 0, 0, 0, 0, 0, 0, 0, 0, 0, 0, 0, 0, 0, 0, 0, 0, 0, 0, 0, 0, 0, 0, 0, 0, 1, 0, 0, 0, 0, 0, 0, 0, 0, 0, 0, 0, 0, 0, 0, 0, 0, 0, 0, 0, 0, 0, 0, 0, 0, 0, 0, 0, 0, 0, 0, 0, 0, 0, 0, 0, 0, 0, 0, 0, 0, 0, 0, 0, 0, 0, 0, 0, 0, 0, 0, 0, 0, 0, 0, 0, 0, 0, 0, 0, 0, 0, 0, 0, 0, 0, 0, 0, 0, 0, 0, 0, 0, 0, 0, 0, 0, 0, 0, 0, 0, 0, 0, 0, 0, 0, 0, 0, 0, 0, 0, 0, 0, 0, 0, 0, 0, 0, 0, 0, 0, 0, 0, 0, 0, 0, 0, 0, 0, 0, 0, 0, 0, 0, 0, 0, 0, 0, 0, 0, 0, 0, 0, 0, 0, 0, 0, 0, 0, 0, 0, 0, 0, 0, 0, 0, 0, 0, 0, 0, 0, 0, 0, 0, 0, 0, 0, 0, 0, 0, 0, 0, 0, 0, 0, 0, 0, 0, 0, 0, 0, 0, 0, 0, 0, 0, 0, 0, 0, 0, 0, 0, 0, 0, 0, 0, 0, 0, 0, 0, 0, 0, 0, 0, 0, 0, 0, 0, 0, 0, 0, 0, 0, 0, 0, 0, 0, 0, 0, 0, 0, 0, 0, 0, 0, 0, 0, 0, 0, 0, 0, 0, 0, 0, 0, 0, 0, 0, 0, 0, 0, 0, 0, 0, 0, 0, 0, 0, 0, 0, 0, 0, 0, 0, 0, 0, 0, 0, 0, 0, 0, 0, 0, 0, 0, 0, 0, 0, 0, 0, 0, 0, 0, 0, 0, 0, 0, 0, 0, 0, 0, 0, 0, 0, 0, 0, 0, 0, 0, 0, 0, 0, 0, 0, 0, 0, 0, 0, 0, 0, 0, 0, 0, 0, 0, 0, 0, 0, 0, 0, 0, 0, 0, 0, 0, 0, 0, 0, 0, 0, 0, 0, 0, 0, 0, 0, 0, 0, 0, 0, 0, 0, 0, 0, 0, 0, 0, 0, 0, 0, 0, 0, 0, 0, 0, 0, 0, 0, 0, 0, 0, 0, 0, 0, 0, 0, 0, 0, 0, 0, 0, 0, 0, 0, 0, 0, 0, 0, 0, 0, 0, 0, 0, 0, 0, 0, 0, 0, 0, 0, 0, 0, 0, 0, 0, 0, 0, 0, 0, 0, 0, 0, 0, 0, 0, 0, 0, 0, 0, 0, 0, 0, 0, 0, 0, 0, 0, 0, 0, 0, 0, 0, 0, 0, 0, 0, 0, 0, 0, 0, 0, 0, 0, 0, 0, 0, 0, 0, 0, 0, 0, 0, 0, 0, 0, 0, 0, 0, 0, 0, 0, 0, 0, 0, 0, 0, 0, 0, 0, 0, 0, 0, 0, 0, 0, 0, 0, 0, 0, 0, 0, 0, 0, 0, 0, 0, 0, 0, 0, 0, 0, 0, 0, 0, 0, 0, 0, 0, 0, 0, 0, 0, 0, 0, 0, 0, 0, 0, 0, 0, 0, 0, 0, 0, 0, 0, 0, 0, 0, 0, 0, 0, 0, 0, 0, 0, 0, 0, 0, 0, 0, 0, 0, 0, 0, 0, 0, 0, 0, 0, 0, 0, 0, 0, 0, 0, 0, 0, 0, 0, 0, 0, 0, 0, 0, 0, 0, 0, 0, 0, 0, 0, 0, 0, 0, 0, 0, 0, 0, 0, 0, 0, 0, 0, 0, 0, 0, 0, 0, 0, 0, 0, 0, 0, 0, 0, 0, 0, 0, 0, 0, 0, 0, 0, 0, 0, 0, 0, 0, 0, 0, 0, 0, 0, 0, 0, 0, 0, 0, 0, 0, 0, 0, 0, 0, 0, 0, 0, 0, 0, 0, 0, 0, 0, 0, 0, 0, 0, 0, 0, 0, 0, 0, 0, 0, 0, 0, 0, 0, 0, 0, 0, 0, 0, 0, 0, 0, 0, 0, 0, 0, 0, 0, 0, 0, 0, 0, 0, 0, 0, 0, 0, 0, 0, 0, 0, 0, 0, 0, 0, 0, 0, 0, 0, 0, 0, 0, 0, 0, 0, 0, 0, 0, 0, 0, 0, 0, 0, 0, 0, 0, 0, 0, 0, 0, 0, 0, 0, 0, 0, 0, 0, 0, 0, 0, 0, 0, 0, 0, 0, 0, 0, 0, 0, 0, 0, 0, 0, 0, 0, 0, 0, 1, 0, 0, 0, 0, 0, 0, 0, 0, 0, 0, 0, 0, 0, 0, 0, 0, 0, 0, 0, 0, 0, 0, 0, 0, 0, 0, 0, 0, 0, 0, 0, 0, 0, 0, 0, 0, 0, 0, 0, 0, 0, 0, 0, 0, 0, 0, 0, 0, 0, 0, 0, 0, 0, 0, 0, 0, 0, 0, 0, 0, 0, 0, 0, 0, 0, 0, 0, 0, 0, 0, 0, 0, 0, 0, 1, 0, 0, 0, 0, 0, 0, 0, 0, 0, 0, 0, 0, 0, 0, 0, 0, 0, 0, 0, 0, 1, 0, 0, 1, 0, 0, 0, 0, 0, 0, 0, 0, 0, 0, 0, 0, 0, 0, 0, 0, 0, 0, 0, 0, 0, 0, 0, 0, 0, 0, 0, 0, 0, 0, 0, 0, 0, 0, 0, 0, 0, 0, 0, 0, 0, 0, 0, 0, 0, 0, 0, 0, 0, 0, 0, 0, 0, 0, 0, 0, 0, 0, 0, 0, 0, 0, 0, 0, 0, 0, 0, 0, 0, 0, 0, 0, 0, 0, 0, 0, 0, 0, 0, 0, 0, 0, 0, 0, 0, 0, 0, 0, 0, 0, 0, 0, 0, 0, 0, 0, 0, 0, 0, 0, 0, 0, 0, 0, 0, 0, 0, 0, 0, 0, 0, 0, 0, 0, 0, 0, 0, 0, 0, 0, 0, 0, 0, 0, 0, 0, 0, 0, 0, 0, 0, 0, 0, 0, 0, 0, 0, 0, 0, 0, 0, 0, 0, 0, 0, 0, 0, 0, 0, 0, 0, 0, 0, 0, 0, 0, 0, 0, 0, 0, 0, 0, 0, 0, 0, 0, 0, 0, 0, 0, 0, 0, 0, 0, 0, 0, 0, 0, 0, 0, 0, 0, 0, 0, 0, 0, 0, 0, 0, 0, 0, 0, 0, 0, 0, 0, 0, 0, 0, 0, 0, 0, 0, 0, 0, 0, 0, 0, 0, 0, 0, 0, 0, 0, 0, 0, 0, 0, 0, 0, 0, 0, 0, 0, 0, 0, 0, 0, 0, 0, 0, 0, 0, 0, 0, 0, 0, 0, 0, 0, 0, 0, 0, 0, 0, 0, 0, 0, 0, 0, 0, 0, 0, 0, 0, 0, 0, 0, 0, 0, 0, 0, 0, 0, 0, 0, 0, 0, 0, 0, 0, 0, 0, 0, 0, 0, 0, 0, 0, 0, 0, 0, 0, 0, 0, 0, 0, 0, 0, 0, 0, 0, 0, 0, 0, 0, 0, 0, 0, 0, 0, 0, 0, 0, 0, 0, 0, 0, 0, 0, 0, 0, 0, 0, 0, 0, 0, 0, 0, 0, 0, 0, 0, 0, 0, 0, 0, 0, 0, 0, 0, 0, 0, 0, 0, 0, 0, 0, 0, 0, 0, 0, 0, 0, 0, 0, 0, 0, 0, 0, 0, 0, 0, 0, 0, 0, 0, 0, 0, 0, 0, 0, 0, 0, 0, 0, 0, 0, 0, 0, 0, 0, 0, 0, 0, 0, 0, 0, 0, 0, 0, 0, 0, 0, 0, 0, 0, 0, 0, 0, 0, 0, 0, 0, 0, 0, 0, 0, 0, 0, 0, 0, 0, 0, 0, 0, 0, 0, 0, 0, 0, 0, 0, 0, 0, 0, 0, 0, 0, 0, 0, 0, 0, 0, 0, 0, 0, 0, 0, 0, 0, 0, 0, 0, 0, 0, 0, 0, 0, 0, 0, 0, 0, 0, 0, 0, 0, 0, 0, 0, 0, 0, 0, 0, 0, 0, 0, 0, 0, 0, 0, 0, 0, 0, 0, 0, 1, 0, 0, 0, 0, 0, 0, 0, 0, 0, 0, 0, 0, 0, 0, 0, 0, 0, 0, 0, 0, 0, 0, 0, 0, 0, 0, 0, 0, 0, 0, 0, 0, 0, 0, 0, 0, 0, 0, 0, 0, 0, 0, 0, 0, 0, 0, 0, 0, 0, 0, 0, 0, 0, 0, 0, 0, 0, 0, 0, 0, 0, 0, 0, 0, 0, 0, 0, 0, 0, 0, 0, 0, 0, 0, 0, 0, 0, 0, 0, 0, 0, 0, 0, 0, 0, 0, 0, 0, 0, 0, 0, 0, 0, 0, 0, 0, 0, 0, 0, 0, 0, 0, 0, 0, 0, 0, 0, 0, 0, 0, 0, 0, 0, 0, 0, 0, 0, 0, 0, 0, 0, 0, 0, 0, 0, 0, 0, 0, 0, 0, 0, 0, 0, 0, 0, 0, 0, 0, 0, 0, 0, 0, 0, 0, 0, 0, 0, 0, 0, 0, 0, 0, 0, 0, 0, 0, 0, 0, 0, 0, 0, 0, 0, 0, 0, 0, 0, 0, 0, 0, 0, 0, 0, 0, 0, 0, 0, 0, 0, 0, 0, 0, 0, 0, 0, 0, 0, 0, 0, 0, 0, 0, 0, 0, 0, 0, 0, 0, 0, 0, 0, 0, 0, 0, 0, 0, 0, 0, 0, 0, 0, 0, 0, 0, 0, 0, 0, 0, 0, 0, 0, 0, 0, 0, 0, 0, 0, 0, 0, 0, 0, 0, 0, 0, 0, 0, 0, 0, 0, 0, 0, 0, 0, 0, 0, 0, 0, 0, 0, 0, 0, 0, 0, 0, 0, 0, 0, 0, 0, 0, 0, 0, 0, 0, 0, 0, 0, 0, 0, 0, 0, 0, 0, 0, 0, 0, 0, 0, 0, 0, 0, 0, 0, 0, 0, 0, 0, 0, 0, 0, 0, 0, 0, 0, 0, 0, 0, 0, 0, 0, 0, 0, 0, 0, 0, 0, 0, 0, 0, 0, 0, 0, 0, 0, 0, 0, 0, 0, 0, 0, 0, 0, 0, 0, 0, 0, 0, 0, 0, 0, 0, 0, 0, 0, 0, 0, 0, 0, 0, 0, 0, 0, 0, 0, 0, 0, 0, 0, 0, 0, 0, 0, 0, 0, 0, 0, 0, 0, 0, 0, 0, 0, 0, 0, 0, 0, 0, 0, 0, 0, 0, 0, 0, 0, 0, 0, 0, 0, 0, 0, 0, 0, 0, 0, 0, 0, 0, 0, 0, 0, 0, 0, 0, 0, 0, 0, 0, 0, 0, 0, 0, 0, 0, 0, 0, 0, 0, 0, 0, 0, 0, 0, 0, 0, 0, 0, 0, 0, 0, 0, 0, 0, 0, 0, 0, 0, 0, 0, 0, 0, 0, 0, 0, 0, 0, 0, 0, 0, 0, 0, 0, 0, 0, 0, 0, 0, 0, 0, 0, 0, 0, 0, 0, 0, 0, 0, 0, 0, 0, 0, 0, 0, 0, 0, 0, 0, 0, 0, 0, 0, 0, 0, 0, 0, 0, 0, 0, 0, 0, 0, 0, 0, 0, 0, 0, 0, 0, 0, 0, 0, 0, 0, 0, 0, 0, 0, 0, 0, 0, 0, 0, 0, 0, 0, 0, 0, 0, 0, 0, 0, 0, 0, 1, 0, 0, 0, 0, 0, 0, 0, 0, 0, 0, 0, 0, 0, 0, 0, 0, 0, 0, 0, 0, 0, 0, 0, 0, 0, 0, 0, 0, 0, 0, 0, 0, 0, 0, 0, 2, 0, 0, 0, 0, 0, 0, 0, 0, 0, 0, 0, 0, 0, 0, 0, 0, 0, 0, 0, 0, 0, 0, 0, 0, 0, 0, 0, 0, 0, 0, 0, 0, 0, 0, 0, 0, 0, 0, 0, 0, 1, 0, 0, 0, 0, 0, 0, 0, 0, 0, 0, 0, 0, 0, 0, 0, 0, 0, 0, 0, 0, 0, 0, 0, 0, 0, 0, 0, 0, 0, 0, 0, 0, 0, 0, 0, 0, 0, 0, 0, 0, 0, 0, 0, 0, 0, 0, 0, 0, 0, 0, 0, 0, 0, 0, 0, 0, 0, 0, 0, 0, 0, 0, 0, 0, 0, 0, 0, 0, 0, 0, 0, 0, 0, 0, 0, 0, 0, 0, 0, 0, 0, 0, 0, 0, 0, 0, 0, 0, 0, 0, 0, 0, 0, 0, 0, 0, 0, 0, 0, 0, 0, 0, 0, 0, 0, 0, 0, 0, 0, 0, 0, 0, 0, 0, 0, 0, 0, 0, 0, 0, 0, 0, 0, 0, 0, 0, 0, 0, 0, 0, 0, 0, 0, 0, 0, 0, 0, 0, 0, 0, 0, 0, 0, 0, 0, 0, 0, 0, 0, 0, 0, 0, 0, 0, 0, 0, 0, 0, 0, 0, 0, 0, 0, 0, 0, 0, 0, 0, 0, 0, 0, 0, 0, 0, 0, 0, 0, 0, 0, 0, 0, 0, 0, 0, 0, 0, 0, 0, 0, 0, 0, 0, 0, 0, 0, 0, 0, 0, 0, 0, 0, 0, 0, 0, 0, 0, 0, 0, 0, 0, 0, 0, 0, 0, 0, 0, 0, 0, 0, 0, 0, 0, 0, 0, 0, 0, 0, 0, 0, 0, 0, 0, 0, 0, 0, 0, 0, 0, 0, 0, 0, 0, 0, 0, 0, 0, 0, 0, 0, 0, 0, 0, 0, 0, 0, 0, 0, 0, 0, 0, 0, 0, 0, 0, 0, 0, 0, 0, 0, 0, 0, 0, 0, 0, 0, 0, 0, 0, 0, 0, 0, 0, 0, 0, 0, 0, 0, 0, 0, 0, 0, 0, 0, 0, 0, 0, 0, 0, 0, 0, 0, 0, 0, 0, 0, 0, 0, 0, 0, 0, 0, 0, 0, 0, 0, 0, 0, 0, 0, 0, 0, 0, 0, 0, 0, 0, 0, 0, 0, 0, 0, 0, 0, 0, 0, 0, 0, 0, 0, 0, 0, 0, 0, 0, 0, 0, 0, 0, 0, 0, 0, 0, 0, 0, 0, 0, 0, 0, 0, 0, 0, 0, 0, 0, 0, 0, 0, 0, 0, 0, 0, 0, 0, 0, 0, 0, 0, 0, 0, 0, 0, 0, 0, 0, 0, 0, 0, 0, 0, 0, 0, 0, 0, 0, 0, 0, 0, 0, 0, 0, 0, 0, 0, 0, 0, 0, 0, 0, 0, 0, 0, 0, 0, 0, 0, 0, 0, 0, 0, 0, 0, 0, 0, 0, 0, 0, 0, 0, 0, 0, 0, 0, 0, 0, 0, 0, 0, 0, 0, 0, 0, 0, 0, 0, 0, 0, 0, 0, 0, 0, 0, 0, 0, 0, 0, 0, 0, 0, 0, 0, 0, 0, 0, 0, 0, 0, 0, 0, 0, 0, 0, 0, 0, 0, 0, 0, 0, 0, 0, 0, 0, 0, 0, 0, 0, 0, 0, 0, 0, 0, 0, 0, 0, 0, 0, 0, 0, 1, 0, 0, 0, 0, 0, 0, 0, 0, 0, 0, 0, 0, 0, 0, 0, 0, 0, 0, 0, 0, 0, 0, 0, 0, 0, 0, 0, 0, 0, 0, 0, 0, 0, 0, 0, 0, 0, 0, 0, 0, 0, 0, 0, 0, 0, 0, 0, 0, 0, 0, 0, 0, 0, 0, 0, 0, 0, 0, 0, 0, 0, 0, 0, 0, 0, 0, 0, 0, 0, 0, 0, 0, 0, 0, 0, 0, 0, 0, 0, 0, 0, 0, 0, 0, 0, 0, 0, 0, 0, 0, 0, 0, 0, 0, 0, 0, 0, 0, 0, 0, 0, 0, 0, 0, 0, 0, 0, 0, 0, 0, 2, 0, 0, 0, 0, 0, 0, 0, 0, 0, 0, 0, 0, 0, 0, 0, 0, 0, 0, 0, 0, 0, 0, 0, 0, 0, 0, 0, 0, 0, 0, 0, 0, 0, 0, 0, 0, 0, 0, 0, 0, 0, 0, 0, 0, 0, 0, 0, 0, 0, 0, 0, 0, 0, 0, 0, 0, 0, 0, 0, 0, 0, 0, 0, 0, 0, 0, 0, 0, 0, 0, 0, 0, 0, 0, 0, 0, 0, 0, 0, 0, 0, 0, 0, 0, 0, 0, 0, 0, 0, 0, 0, 0, 0, 0, 0, 0, 0, 0, 0, 0, 0, 0, 0, 0, 0, 0, 0, 0, 0, 0, 0, 0, 0, 0, 0, 0, 0, 0, 0, 0, 0, 0, 0, 0, 0, 0, 0, 0, 0, 0, 0, 0, 0, 0, 0, 0, 0, 0, 0, 0, 0, 0, 0, 0, 0, 0, 0, 0, 0, 0, 0, 0, 0, 0, 0, 0, 0, 0, 0, 0, 0, 0, 0, 0, 0, 0, 0, 0, 0, 0, 0, 0, 0, 0, 0, 0, 0, 0, 0, 0, 0, 0, 0, 0, 0, 0, 0, 0, 0, 0, 0, 0, 0, 0, 0, 0, 0, 0, 0, 0, 0, 0, 0, 0, 0, 0, 0, 0, 0, 0, 0, 0, 0, 0, 0, 0, 0, 0, 0, 0, 0, 0, 0, 0, 0, 0, 0, 0, 0, 0, 0, 0, 0, 0, 0, 0, 0, 0, 0, 0, 0, 0, 0, 0, 0, 0, 0, 0, 0, 0, 0, 0, 0, 0, 0, 0, 0, 0, 0, 0, 0, 0, 0, 0, 0, 0, 0, 0, 0, 0, 0, 0, 0, 0, 0, 0, 0, 0, 0, 0, 0, 0, 0, 0, 0, 0, 0, 0, 0, 0, 0, 0, 0, 0, 0, 0, 0, 0, 0, 0, 0, 0, 0, 0, 0, 0, 0, 0, 0, 0, 0, 0, 0, 0, 0, 0, 0, 0, 0, 0, 0, 0, 0, 0, 0, 0, 0, 0, 0, 0, 0, 0, 0, 0, 0, 0, 0, 0, 0, 0, 0, 0, 0, 0, 0, 0, 0, 0, 0, 0, 0, 0, 0, 0, 0, 0, 0, 0, 0, 0, 0, 0, 0, 0, 0, 0, 0, 0, 0, 0, 0, 0, 0, 0, 0, 0, 0, 0, 0, 0, 0, 0, 0, 0, 0, 0, 0, 0, 0, 0, 0, 0, 0, 0, 0, 0, 0, 0, 0, 0, 0, 0, 0, 0, 0, 0, 0, 0, 0, 0, 0, 0, 0, 0, 0, 0, 0, 0, 0, 0, 0, 0, 0, 0, 0, 0, 0, 0, 0, 0, 0, 0, 0, 0, 0, 0, 0, 0, 0, 0, 0, 0, 0, 0, 0, 0, 0, 0, 0, 0, 0, 0, 0, 0, 0, 0, 0, 0, 0, 0, 0, 0, 0, 0, 0, 0, 0, 0, 0, 0, 0, 0, 0, 0, 0, 0, 0, 0, 0, 0, 0, 0, 0, 0, 0, 0, 0, 0, 0, 0, 0, 0, 0, 0, 0, 0, 0, 0, 0, 0, 0, 0, 0, 0, 0, 0, 0, 0, 0, 0, 0, 0, 0, 0, 0, 0, 0, 0, 0, 0, 0, 0, 0, 0, 0, 0, 0, 0, 0, 0, 0, 0, 0, 0, 0, 0, 0, 0, 0, 0, 0, 0, 0, 0, 0, 0, 0, 0, 0, 0, 0, 0, 0, 0, 0, 0, 0, 0, 0, 0, 0, 0, 0, 0, 0, 0, 0, 0, 0, 0, 0, 0, 0, 0, 0, 0, 0, 0, 0, 0, 0, 0, 0, 0, 0, 0, 0, 0, 0, 0, 0, 0, 0, 0, 0, 0, 0, 0, 0, 0, 0, 0, 0, 0, 0, 0, 0, 0, 0, 0, 0, 0, 0, 0, 0, 0, 0, 0, 0, 0, 0, 0, 0, 0, 0, 0, 0, 0, 0, 0, 0, 0, 0, 0, 0, 0, 0, 0, 0, 0, 0, 0, 0, 0, 0, 0, 0, 0, 0, 0, 0, 0, 0, 0, 0, 0, 0, 0, 0, 0, 0, 0, 0, 0, 0, 0, 0, 0, 0, 0, 0, 0, 0, 0, 0, 0, 0, 0, 0, 0, 0, 0, 0, 0, 0, 0, 0, 0, 0, 0, 1, 0, 0, 0, 0, 0, 0, 0, 0, 0, 0, 0, 0, 0, 0, 0, 0, 0, 0, 0, 0, 0, 0, 0, 0, 0, 0, 0, 0, 0, 0, 0, 0, 0, 0, 0, 0, 0, 0, 0, 0, 0, 0, 0, 0, 0, 0, 0, 0, 0, 0, 0, 0, 0, 0, 0, 0, 0, 0, 0, 0, 0, 0, 0, 0, 0, 0, 0, 0, 0, 0, 0, 0, 0, 0, 0, 0, 0, 0, 0, 0, 0, 0, 0, 0, 0, 0, 0, 0, 0, 0, 0, 0, 0, 0, 0, 0, 0, 0, 0, 0, 0, 0, 0, 0, 0, 0, 0, 1, 0, 0, 0, 0, 0, 0, 0, 0, 0, 0, 0, 0, 0, 0, 0, 0, 0, 0, 0, 0, 0, 0, 0, 0, 0, 0, 0, 0, 0, 0, 0, 0, 0, 0, 0, 0, 0, 0, 0, 0, 0, 0, 0, 0, 0, 0, 0, 0, 0, 0, 0, 0, 0, 0, 0, 0, 0, 0, 0, 0, 0, 0, 0, 0, 0, 0, 0, 0, 0, 0, 0, 0, 0, 0, 0, 0, 0, 0, 0, 0, 0, 0, 0, 0, 0, 0, 0, 0, 0, 0, 0, 0, 0, 0, 0, 0, 0, 0, 0, 0, 0, 0, 0, 0, 0, 0, 0, 0, 0, 0, 0, 0, 0, 0, 0, 0, 0, 0, 0, 0, 0, 0, 0, 0, 0, 0, 0, 0, 0, 0, 0, 0, 0, 0, 0, 0, 0, 0, 0, 0, 0, 0, 0, 0, 0, 0, 0, 0, 0, 0, 0, 0, 0, 0, 0, 0, 0, 0, 0, 0, 0, 0, 0, 0, 0, 0, 0, 0, 0, 0, 0, 0, 0, 0, 0, 0, 0, 0, 0, 0, 0, 0, 0, 0, 0, 0, 0, 0, 0, 0, 0, 0, 0, 0, 0, 0, 0, 0, 0, 0, 0, 0, 0, 0, 0, 0, 0, 0, 0, 0, 0, 0, 0, 0, 0, 0, 0, 0, 0, 0, 0, 0, 0, 0, 0, 0, 0, 0, 0, 0, 0, 0, 0, 0, 0, 0, 0, 0, 0, 0, 0, 0, 0, 0, 0, 0, 0, 0, 0, 0, 0, 0, 0, 0, 0, 0, 0, 0, 0, 0, 0, 0, 0, 0, 0, 0, 0, 0, 0, 0, 0, 0, 0, 0, 0, 0, 0, 0, 0, 0, 0, 0, 0, 0, 0, 0, 0, 0, 0, 0, 0, 0, 0, 0, 0, 0, 0, 0, 0, 0, 0, 0, 0, 0, 0, 0, 0, 0, 0, 0, 0, 0, 0, 0, 0, 0, 0, 0, 0, 0, 0, 0, 0, 0, 0, 0, 0, 0, 0, 0, 0, 0, 0, 0, 0, 0, 0, 0, 0, 0, 0, 0, 0, 0, 0, 0, 0, 0, 0, 0, 0, 0, 0, 0, 0, 0, 0, 0, 0, 0, 0, 0, 0, 0, 0, 0, 0, 0, 0, 0, 0, 0, 0, 0, 0, 0, 0, 0, 0, 0, 0, 0, 0, 0, 0, 0, 0, 0, 0, 0, 0, 0, 0, 0, 0, 0, 0, 0, 0, 0, 0, 0, 0, 0, 0, 0, 0, 0, 0, 0, 0, 0, 0, 0, 0, 0, 0, 0, 0, 0, 0, 0, 0, 0, 0, 0, 0, 0, 0, 0, 0, 0, 0, 0, 0, 0, 0, 0, 0, 0, 0, 0, 0, 0, 0, 0, 0, 0, 0, 0, 0, 0, 0, 0, 0, 0, 0, 0, 0, 0, 0, 0, 0, 2, 0, 1, 0]\n"
     ]
    }
   ],
   "source": [
    "test_bow = bow_encoding(test_words, vocabulary)\n",
    "print(test_bow)"
   ]
  },
  {
   "cell_type": "code",
   "execution_count": 57,
   "metadata": {},
   "outputs": [
    {
     "data": {
      "text/plain": [
       "5000"
      ]
     },
     "execution_count": 57,
     "metadata": {},
     "output_type": "execute_result"
    }
   ],
   "source": [
    "len(test_bow)"
   ]
  },
  {
   "cell_type": "markdown",
   "metadata": {},
   "source": [
    "So now we know how to construct a bag of words encoding of a user provided review, how to we send it to our endpoint? First, we need to start the endpoint back up."
   ]
  },
  {
   "cell_type": "code",
   "execution_count": 58,
   "metadata": {},
   "outputs": [
    {
     "name": "stderr",
     "output_type": "stream",
     "text": [
      "Parameter image will be renamed to image_uri in SageMaker Python SDK v2.\n",
      "Using already existing model: xgboost-2020-10-08-09-14-22-735\n"
     ]
    },
    {
     "name": "stdout",
     "output_type": "stream",
     "text": [
      "---------------!"
     ]
    }
   ],
   "source": [
    "xgb_predictor = xgb.deploy(initial_instance_count = 1, instance_type = 'ml.m4.xlarge')"
   ]
  },
  {
   "cell_type": "markdown",
   "metadata": {},
   "source": [
    "At this point we could just do the same thing that we did earlier when we tested our deployed model and send `test_bow` to our endpoint using the `xgb_predictor` object. However, when we eventually construct our Lambda function we won't have access to this object, so how do we call a SageMaker endpoint?\n",
    "\n",
    "It turns out that Python functions that are used in Lambda have access to another Amazon library called `boto3`. This library provides an API for working with Amazon services, including SageMaker. To start with, we need to get a handle to the SageMaker runtime."
   ]
  },
  {
   "cell_type": "code",
   "execution_count": null,
   "metadata": {},
   "outputs": [],
   "source": [
    "import boto3\n",
    "\n",
    "runtime = boto3.Session().client('sagemaker-runtime')"
   ]
  },
  {
   "cell_type": "markdown",
   "metadata": {},
   "source": [
    "And now that we have access to the SageMaker runtime, we can ask it to make use of (invoke) an endpoint that has already been created. However, we need to provide SageMaker with the name of the deployed endpoint. To find this out we can print it out using the `xgb_predictor` object."
   ]
  },
  {
   "cell_type": "code",
   "execution_count": null,
   "metadata": {},
   "outputs": [],
   "source": [
    "xgb_predictor.endpoint"
   ]
  },
  {
   "cell_type": "markdown",
   "metadata": {},
   "source": [
    "Using the SageMaker runtime and the name of our endpoint, we can invoke the endpoint and send it the `test_bow` data."
   ]
  },
  {
   "cell_type": "code",
   "execution_count": null,
   "metadata": {},
   "outputs": [],
   "source": [
    "response = runtime.invoke_endpoint(EndpointName = xgb_predictor.endpoint, # The name of the endpoint we created\n",
    "                                       ContentType = 'text/csv',                     # The data format that is expected\n",
    "                                       Body = test_bow)"
   ]
  },
  {
   "cell_type": "markdown",
   "metadata": {},
   "source": [
    "So why did we get an error?\n",
    "\n",
    "Because we tried to send the endpoint a list of integers but it expected us to send data of type `text/csv`. So, we need to convert it."
   ]
  },
  {
   "cell_type": "code",
   "execution_count": null,
   "metadata": {},
   "outputs": [],
   "source": [
    "response = runtime.invoke_endpoint(EndpointName = xgb_predictor.endpoint, # The name of the endpoint we created\n",
    "                                       ContentType = 'text/csv',                     # The data format that is expected\n",
    "                                       Body = ','.join([str(val) for val in test_bow]).encode('utf-8'))"
   ]
  },
  {
   "cell_type": "code",
   "execution_count": null,
   "metadata": {},
   "outputs": [],
   "source": [
    "print(response)"
   ]
  },
  {
   "cell_type": "markdown",
   "metadata": {},
   "source": [
    "As we can see, the response from our model is a somewhat complicated looking dict that contains a bunch of information. The bit that we are most interested in is `'Body'` object which is a streaming object that we need to `read` in order to make use of."
   ]
  },
  {
   "cell_type": "code",
   "execution_count": null,
   "metadata": {},
   "outputs": [],
   "source": [
    "response = response['Body'].read().decode('utf-8')\n",
    "print(response)"
   ]
  },
  {
   "cell_type": "markdown",
   "metadata": {},
   "source": [
    "Now that we know how to process the incoming user data we can start setting up the infrastructure to make our simple web app work. To do this we will make use of two different services. Amazon's Lambda and API Gateway services.\n",
    "\n",
    "Lambda is a service which allows someone to write some relatively simple code and have it executed whenever a chosen trigger occurs. For example, you may want to update a database whenever new data is uploaded to a folder stored on S3.\n",
    "\n",
    "API Gateway is a service that allows you to create HTTP endpoints (url addresses) which are connected to other AWS services. One of the benefits to this is that you get to decide what credentials, if any, are required to access these endpoints.\n",
    "\n",
    "In our case we are going to set up an HTTP endpoint through API Gateway which is open to the public. Then, whenever anyone sends data to our public endpoint we will trigger a Lambda function which will send the input (in our case a review) to our model's endpoint and then return the result."
   ]
  },
  {
   "cell_type": "markdown",
   "metadata": {},
   "source": [
    "### Setting up a Lambda function\n",
    "\n",
    "The first thing we are going to do is set up a Lambda function. This Lambda function will be executed whenever our public API has data sent to it. When it is executed it will receive the data, perform any sort of processing that is required, send the data (the review) to the SageMaker endpoint we've created and then return the result.\n",
    "\n",
    "#### Part A: Create an IAM Role for the Lambda function\n",
    "\n",
    "Since we want the Lambda function to call a SageMaker endpoint, we need to make sure that it has permission to do so. To do this, we will construct a role that we can later give the Lambda function.\n",
    "\n",
    "Using the AWS Console, navigate to the **IAM** page and click on **Roles**. Then, click on **Create role**. Make sure that the **AWS service** is the type of trusted entity selected and choose **Lambda** as the service that will use this role, then click **Next: Permissions**.\n",
    "\n",
    "In the search box type `sagemaker` and select the check box next to the **AmazonSageMakerFullAccess** policy. Then, click on **Next: Review**.\n",
    "\n",
    "Lastly, give this role a name. Make sure you use a name that you will remember later on, for example `LambdaSageMakerRole`. Then, click on **Create role**."
   ]
  },
  {
   "cell_type": "markdown",
   "metadata": {},
   "source": [
    "#### Part B: Create a Lambda function\n",
    "\n",
    "Now it is time to actually create the Lambda function. Remember from earlier that in order to process the user provided input and send it to our endpoint we need to gather two pieces of information:\n",
    "\n",
    " - The name of the endpoint, and\n",
    " - the vocabulary object.\n",
    "\n",
    "We will copy these pieces of information to our Lambda function after we create it.\n",
    "\n",
    "To start, using the AWS Console, navigate to the AWS Lambda page and click on **Create a function**. When you get to the next page, make sure that **Author from scratch** is selected. Now, name your Lambda function, using a name that you will remember later on, for example `sentiment_analysis_xgboost_func`. Make sure that the **Python 3.6** runtime is selected and then choose the role that you created in the previous part. Then, click on **Create Function**.\n",
    "\n",
    "On the next page you will see some information about the Lambda function you've just created. If you scroll down you should see an editor in which you can write the code that will be executed when your Lambda function is triggered. Collecting the code we wrote above to process a single review and adding it to the provided example `lambda_handler` we arrive at the following.\n",
    "\n",
    "```python\n",
    "# We need to use the low-level library to interact with SageMaker since the SageMaker API\n",
    "# is not available natively through Lambda.\n",
    "import boto3\n",
    "\n",
    "# And we need the regular expression library to do some of the data processing\n",
    "import re\n",
    "\n",
    "REPLACE_NO_SPACE = re.compile(\"(\\.)|(\\;)|(\\:)|(\\!)|(\\')|(\\?)|(\\,)|(\\\")|(\\()|(\\))|(\\[)|(\\])\")\n",
    "REPLACE_WITH_SPACE = re.compile(\"(<br\\s*/><br\\s*/>)|(\\-)|(\\/)\")\n",
    "\n",
    "def review_to_words(review):\n",
    "    words = REPLACE_NO_SPACE.sub(\"\", review.lower())\n",
    "    words = REPLACE_WITH_SPACE.sub(\" \", words)\n",
    "    return words\n",
    "    \n",
    "def bow_encoding(words, vocabulary):\n",
    "    bow = [0] * len(vocabulary) # Start by setting the count for each word in the vocabulary to zero.\n",
    "    for word in words.split():  # For each word in the string\n",
    "        if word in vocabulary:  # If the word is one that occurs in the vocabulary, increase its count.\n",
    "            bow[vocabulary[word]] += 1\n",
    "    return bow\n",
    "\n",
    "\n",
    "def lambda_handler(event, context):\n",
    "    \n",
    "    vocab = \"*** ACTUAL VOCABULARY GOES HERE ***\"\n",
    "    \n",
    "    words = review_to_words(event['body'])\n",
    "    bow = bow_encoding(words, vocab)\n",
    "\n",
    "    # The SageMaker runtime is what allows us to invoke the endpoint that we've created.\n",
    "    runtime = boto3.Session().client('sagemaker-runtime')\n",
    "\n",
    "    # Now we use the SageMaker runtime to invoke our endpoint, sending the review we were given\n",
    "    response = runtime.invoke_endpoint(EndpointName = '***ENDPOINT NAME HERE***',# The name of the endpoint we created\n",
    "                                       ContentType = 'text/csv',                 # The data format that is expected\n",
    "                                       Body = ','.join([str(val) for val in bow]).encode('utf-8')) # The actual review\n",
    "\n",
    "    # The response is an HTTP response whose body contains the result of our inference\n",
    "    result = response['Body'].read().decode('utf-8')\n",
    "    \n",
    "    # Round the result so that our web app only gets '1' or '0' as a response.\n",
    "    result = round(float(result))\n",
    "\n",
    "    return {\n",
    "        'statusCode' : 200,\n",
    "        'headers' : { 'Content-Type' : 'text/plain', 'Access-Control-Allow-Origin' : '*' },\n",
    "        'body' : str(result)\n",
    "    }\n",
    "```"
   ]
  },
  {
   "cell_type": "markdown",
   "metadata": {},
   "source": [
    "Once you have copy and pasted the code above into the Lambda code editor, replace the `**ENDPOINT NAME HERE**` portion with the name of the endpoint that we deployed earlier. You can determine the name of the endpoint using the code cell below."
   ]
  },
  {
   "cell_type": "code",
   "execution_count": 62,
   "metadata": {},
   "outputs": [
    {
     "data": {
      "text/plain": [
       "'xgboost-2020-10-08-09-14-22-735'"
      ]
     },
     "execution_count": 62,
     "metadata": {},
     "output_type": "execute_result"
    }
   ],
   "source": [
    "xgb_predictor.endpoint"
   ]
  },
  {
   "cell_type": "markdown",
   "metadata": {},
   "source": [
    "In addition, you will need to copy the vocabulary dict to the appropriate place in the code at the beginning of the `lambda_handler` method. The cell below prints out the vocabulary dict in a way that is easy to copy and paste."
   ]
  },
  {
   "cell_type": "code",
   "execution_count": 59,
   "metadata": {
    "collapsed": true,
    "jupyter": {
     "outputs_hidden": true
    }
   },
   "outputs": [
    {
     "name": "stdout",
     "output_type": "stream",
     "text": [
      "{'saw': 3798, 'this': 4457, 'move': 2921, 'several': 3905, 'years': 4979, 'ago': 154, 'at': 331, 'the': 4426, 'central': 735, 'florida': 1761, 'film': 1716, 'festival': 1697, 'if': 2222, 'recall': 3562, 'liked': 2600, 'it': 2366, 'showed': 3956, 'great': 1964, 'potential': 3355, 'guess': 1989, 'most': 2909, 'people': 3221, 'here': 2086, 'are': 285, 'because': 432, 'did': 1241, 'seem': 3861, 'together': 4511, 'by': 642, 'filmmakers': 1720, 'own': 3158, 'on': 3105, 'official': 3094, 'site': 4005, 'short': 3946, 'was': 4805, 'as': 311, 'rough': 3741, 'cut': 1089, 'but': 636, 'nonetheless': 3029, 'an': 223, 'easy': 1410, 'going': 1931, 'comedy': 890, 'think': 4452, 'many': 2732, 'try': 4600, 'to': 4507, 'read': 3543, 'far': 1653, 'too': 4522, 'much': 2934, 'into': 2332, 'all': 187, 'they': 4442, 'supposed': 4306, 'do': 1302, 'is': 2360, 'make': 2713, 'you': 4986, 'laugh': 2529, 'thats': 4425, 'just': 2437, 'that': 4424, 'its': 2370, 'showing': 3958, 'so': 4046, 'succeeded': 4263, 'level': 2584, 'my': 2951, 'anyway': 261, 'there': 4438, 'of': 3083, 'worth': 4953, 'in': 2257, 'movie': 2926, 'hard': 2033, 'know': 2489, 'where': 4864, 'begin': 442, 'with': 4911, 'praise': 3364, 'let': 2579, 'me': 2778, 'for': 1784, 'perfect': 3224, 'portrayal': 3341, 'her': 2085, 'performance': 3228, 'stands': 4147, 'out': 3141, 'excellent': 1555, 'cast': 710, 'indeed': 2271, 'robert': 3713, 'has': 2043, 'disappointed': 1273, 'those': 4460, 'us': 4690, 'who': 4871, 'have': 2052, 'his': 2118, 'work': 4940, 'every': 1539, 'frame': 1815, 'man': 2721, 'moon': 2900, 'evidence': 1546, 'making': 2718, 'best': 469, 'fact': 1621, 'budget': 610, 'presumably': 3380, 'went': 4847, 'heavy': 2070, 'duty': 1390, 'list': 2617, 'shouldnt': 3952, 'had': 2003, 'been': 438, 'staged': 4140, 'and': 226, 'imagination': 2236, 'some': 4061, 'sympathy': 4343, 'intent': 2318, 'instead': 2307, 'we': 4823, 'get': 1899, 'bad': 382, 'song': 4071, 'dance': 1103, 'sequences': 3888, 'featuring': 1681, 'final': 1722, 'accomplished': 87, 'pulling': 3463, 'back': 378, 'reveal': 3670, 'action': 100, 'taken': 4350, 'place': 3282, 'music': 2946, 'hall': 2009, 'stage': 4139, 'enough': 1491, 'production': 3419, 'more': 2904, 'oliver': 3102, 'blair': 497, 'than': 4420, 'acting': 99, 'talent': 4354, 'good': 1937, 'dont': 1324, 'very': 4723, 'least': 2554, 'voice': 4761, 'feel': 1684, 'material': 2766, 'julia': 2427, 'looks': 2649, 'struggles': 4235, 'character': 758, 'fake': 1635, 'accent': 78, 'atrocious': 335, 'lyrics': 2692, 'script': 3834, 'often': 3095, 'awkward': 374, 'base': 402, 'broadway': 592, 'version': 4720, 'words': 4938, 'were': 4848, 'unlike': 4670, 'whats': 4860, 'attempt': 340, 'low': 2676, 'filming': 1718, 'angles': 237, 'sets': 3899, 'lit': 2621, 'blues': 519, 'bargain': 400, 'basement': 405, 'fails': 1628, 'utterly': 4702, 'cheap': 774, 'made': 2697, 'oh': 3096, 'sucked': 4270, 'couldnt': 1008, 'even': 1533, 'any': 256, 'camp': 662, 'value': 4709, 'sat': 3786, 'through': 4477, 'whole': 4873, 'thing': 4450, 'bother': 548, 'waiting': 4772, 'around': 297, 'naked': 2959, 'scenes': 3811, 'late': 2523, 'only': 3110, 'plastic': 3294, 'involved': 2346, 'shows': 3960, 'how': 2181, 'cash': 709, 'must': 2950, 'be': 418, 'hollywood': 2137, 'your': 4991, 'name': 2960, 'closing': 859, 'credits': 1050, 'throw': 4479, 'something': 4066, 'next': 3007, 'time': 4495, 'id': 2212, 'rather': 3528, 'watching': 4815, '30': 42, 'minutes': 2859, 'although': 201, 'enjoyed': 1486, 'other': 3135, 'movies': 2927, 'find': 1726, 'particularly': 3195, 'maybe': 2776, 'im': 2232, 'from': 1840, 'different': 1248, 'era': 1513, 'country': 1014, 'found': 1811, 'references': 3583, 'old': 3100, 'usa': 4691, 'pleasant': 3302, 'first': 1736, 'trite': 4589, 'after': 143, 'while': 4868, 'then': 4436, 'finally': 1724, 'annoying': 249, 'wrong': 4973, 'not': 3040, 'anti': 254, 'american': 213, 'whatsoever': 4861, 'seemed': 3862, 'english': 1483, 'could': 1007, 'no': 3020, 'right': 3696, 'or': 3124, 'needed': 2988, 'brave': 567, 'smart': 4035, 'show': 3953, 'them': 4432, 'way': 4820, 'fish': 1738, 'water': 4816, 'story': 4207, 'sort': 4077, 'upper': 4685, 'hand': 2015, 'fair': 1630, 'both': 547, 'myself': 2953, 'watched': 4813, 'few': 1700, 'times': 4497, 'over': 3148, 'same': 3778, 'impression': 2252, 'each': 1395, 'another': 250, 'last': 2521, 'night': 3013, 'produced': 3414, 'reaction': 3541, 'surprise': 4312, 'wife': 4884, 'face': 1616, 'attitude': 346, 'irritating': 2359, 'one': 3107, 'she': 3923, 'put': 3480, 'premise': 3370, 'unique': 4662, 'day': 1129, 'supporting': 4304, 'course': 1019, 'scenery': 3810, 'also': 199, 'costumes': 1006, 'agree': 155, 'previous': 3387, 'reviewer': 3677, 'william': 4887, 'horrid': 2165, 'picture': 3269, 'three': 4469, 'stooges': 4200, 'would': 4957, 'enjoyable': 1485, 'without': 4913, 'he': 2056, 'virtually': 4751, 'shot': 3949, 'pretty': 3384, 'sit': 4003, 'ii': 2226, 'complete': 921, 'whilst': 4869, 'campy': 664, 'creepy': 1052, 'second': 3846, 'sleazy': 4023, 'cheesy': 781, 'values': 4710, 'brother': 598, 'werewolf': 4850, 'part': 3193, 'wants': 4791, 'what': 4858, 'happened': 2027, 'scene': 3809, 'badly': 383, 're': 3535, 'created': 1037, 'plain': 3286, 'looking': 2648, 'woman': 4921, 'brown': 601, 'mystery': 2956, 'sisters': 4002, 'murder': 2939, 'transformation': 4560, 'death': 1141, 'christopher': 811, 'lee': 2559, 'appears': 278, 'now': 3054, 'guide': 1993, 'two': 4620, 'biggest': 480, 'appear': 273, 'head': 2057, 'suffers': 4278, 'case': 707, 'morning': 2906, 'theres': 4440, 'nothing': 3047, 'about': 67, 'stinker': 4191, 'directed': 1259, 'hes': 2093, 'usually': 4700, 'maker': 2714, 'dark': 1115, 'need': 2987, 'watch': 4811, 'content': 966, 'stock': 4193, 'itself': 2371, 'round': 3742, 'off': 3084, 'lousy': 2667, 'punk': 3468, 'wannabe': 4787, 'couple': 1016, 'extra': 1606, 'bucks': 606, 'couldve': 1009, 'got': 1944, 'real': 3547, 'deal': 1135, 'imitation': 2241, 'avoid': 363, 'unless': 4669, 'youre': 4992, 'desperate': 1208, 'lost': 2660, 'remote': 3622, 'lazy': 2543, 'change': 749, 'channel': 753, 'admit': 122, 'idea': 2213, 'expect': 1575, 'before': 440, 'viewing': 4740, 'highly': 2105, 'piece': 3272, 'cure': 1081, 'zombie': 4997, 'virus': 4752, 'common': 906, 'cold': 872, 'knew': 2486, 'began': 441, 'visuals': 4759, 'little': 2624, 'grab': 1949, 'attention': 345, 'cause': 723, 'run': 3755, 'wild': 4885, 'continued': 970, 'learned': 2551, 'quickly': 3491, 'taking': 4352, 'nice': 3008, 'neo': 2998, 'noir': 3023, 'felt': 1692, 'clues': 865, 'given': 1913, 'audience': 352, 'beginning': 443, 'give': 1912, 'sense': 3877, 'plot': 3309, 'along': 195, 'twist': 4617, 'end': 1468, 'cool': 989, 'overall': 3150, 'score': 3822, 'though': 4461, 'gave': 1875, 'almost': 193, 'video': 4733, 'dated': 1119, 'adding': 117, 'anything': 260, 'further': 1853, 'storyline': 4208, 'performances': 3229, 'overly': 3155, 'dramatic': 1348, 'fit': 1740, 'perfectly': 3226, 'walk': 4775, 'away': 369, 'satisfied': 3789, 'lot': 2661, 'information': 2288, 'period': 3236, 'editing': 1421, 'didnt': 1242, 'rushed': 3760, 'pushed': 3478, 'job': 2405, 'difficult': 1249, '10': 0, 'less': 2575, 'generally': 1881, 'care': 684, 'genres': 1889, 'makes': 2716, 'want': 4788, 'specific': 4099, 'category': 718, 'order': 3126, 'word': 4937, 'feelings': 1686, 'completely': 922, 'recommend': 3571, 'anyone': 259, 'truly': 4597, 'enjoy': 1484, 'cinema': 816, 'life': 2592, 'youll': 4988, 'soon': 4074, 'youve': 4995, 'finished': 1733, 'call': 651, 'beautiful': 428, 'delightful': 1168, 'doesnt': 1309, 'sound': 4081, 'like': 2599, 'believe': 454, 'writer': 4968, 'director': 1264, 'brad': 560, 'exactly': 1551, 'getting': 1901, 'when': 4862, 'writing': 4971, 'inspiring': 2302, 'sure': 4308, 'wanted': 4789, 'achieve': 92, 'product': 3418, 'perfection': 3225, 'simple': 3983, 'appealing': 272, 'title': 4504, 'well': 4843, 'done': 1322, 'long': 2644, 'complex': 923, 'city': 825, 'angels': 234, 'mile': 2842, 'proves': 3447, 'which': 4867, '70': 55, 'passion': 3205, 'faith': 1633, 'actor': 103, 'morgan': 2905, 'freeman': 1829, 'front': 1841, 'store': 4204, 'take': 4349, 'places': 3284, 'ordinary': 3128, 'cant': 671, 'tell': 4395, 'within': 4912, 'apparent': 269, 'simplicity': 3984, 'lies': 2591, 'thought': 4462, 'provoking': 3452, 'background': 380, 'everyones': 1543, 'exposed': 1598, 'camera': 659, 'focuses': 1768, 'directly': 1263, 'main': 2707, 'characters': 760, 'share': 3920, 'endless': 1473, 'conversation': 980, 'car': 680, 'ride': 3692, 'stops': 4203, 'express': 1600, 'situation': 4008, 'saying': 3800, 'reaches': 3538, 'single': 3996, 'develops': 1226, 'events': 1536, 'smaller': 4034, 'kind': 2476, 'connection': 946, 'between': 475, 'generated': 1882, 'translation': 4562, 'set': 3898, 'conversations': 981, 'moments': 2887, 'living': 2629, 'their': 4431, 'lives': 2628, 'quality': 3484, 'never': 3001, 'images': 2235, 'forced': 1787, 'included': 2262, 'buy': 640, 'aspect': 321, 'photography': 3260, 'focused': 1767, 'emotion': 1458, 'adams': 112, 'visual': 4757, 'true': 4596, 'natural': 2973, 'beauty': 430, 'ultimate': 4627, 'can': 665, 'protagonists': 3442, 'ones': 3108, 'feeling': 1685, 'mentioned': 2811, 'theyre': 4445, 'having': 2054, 'fun': 1848, 'may': 2775, 'stuff': 4243, 'academy': 77, 'award': 366, 'winner': 4897, 'executive': 1567, 'producer': 3415, 'simply': 3986, 'status': 4165, 'today': 4508, 'industry': 2280, 'deserved': 1200, 'quiet': 3492, 'filled': 1715, 'wisdom': 4902, 'easily': 1406, 'cry': 1073, 'said': 3774, 'shes': 3930, 'hollywoods': 2138, 'small': 4033, 'things': 4451, 'elvira': 1450, 'bigger': 479, 'keeps': 2451, 'covered': 1023, 'up': 4683, 'wit': 4908, 'funny': 1852, 'combined': 885, 'anna': 245, 'smith': 4038, 'distant': 1295, 'relatives': 3601, 'estate': 1525, 'discover': 1279, 'really': 3556, 'scary': 3807, 'chilling': 794, 'mostly': 2910, 'fare': 1655, 'horror': 2168, 'such': 4268, 'mob': 2879, 'heroine': 2091, 'favorite': 1671, 'uses': 4697, 'marvelous': 2750, 'break': 569, 'keeping': 2450, 'locked': 2637, 'ending': 1471, 'sweet': 4336, 'written': 4972, 'vegas': 4717, 'act': 97, 'seems': 3864, 'type': 4621, 'based': 404, 'tom': 4514, 'novel': 3052, 'yet': 4984, 'hanks': 2025, 'stars': 4155, 'wall': 4781, 'accidentally': 85, 'kills': 2474, 'black': 493, 'boy': 557, 'nyc': 3065, 'willis': 4890, 'reporter': 3636, 'starts': 4159, 'thin': 4449, 'empathy': 1462, 'satire': 3788, 'arent': 288, 'laughs': 2534, 'breasts': 572, 'during': 1387, 'see': 3855, 'size': 4012, 'parts': 3199, 'will': 4886, 'keep': 2449, 'mind': 2849, 'lack': 2502, 'humor': 2192, 'scale': 3802, 'love': 2669, 'jason': 2383, 'amazing': 209, 'french': 1830, 'opening': 3114, 'soldier': 4053, 'crack': 1027, 'fans': 1650, 'style': 4249, 'animation': 242, 'original': 3129, 'takes': 4351, 'views': 4742, 'notice': 3048, 'detailed': 1218, 'backgrounds': 381, 'hilarious': 2106, 'definitely': 1162, 'youd': 4987, 'hear': 2061, 'max': 2774, 'light': 2595, 'system': 4345, 'colorful': 878, 'lights': 2597, 'happy': 2032, 'whenever': 4863, 'talks': 4361, 'miserable': 2863, 'wonderful': 4928, 'college': 875, 'professor': 3422, 'says': 3801, 'finest': 1730, 'drama': 1346, 'him': 2110, 'bought': 552, 'kenneth': 2455, 'branagh': 564, 'complicated': 925, 'worked': 4941, 'adaptation': 113, 'surprisingly': 4316, 'direct': 1258, 'played': 3297, 'role': 3726, 'lawrence': 2539, 'actors': 104, 'play': 3296, 'shakespeare': 3915, 'british': 589, 'vs': 4767, 'issue': 2364, 'reach': 3536, 'masses': 2755, 'deserves': 1201, 'apart': 264, 'dealt': 1138, 'race': 3499, 'existed': 1570, 'since': 3990, 'relationship': 3597, 'better': 472, 'shown': 3959, 'union': 4661, 'loves': 2674, 'heart': 2064, 'weak': 4824, 'fears': 1677, 'losing': 2658, 'non': 3027, 'quite': 3495, 'wont': 4932, 'edited': 1420, 'lines': 2612, 'hours': 2177, 'always': 203, 'summer': 4291, 'able': 66, 'cannot': 670, 'understand': 4643, 'besides': 468, 'portrays': 3344, 'jewish': 2401, 'girl': 1909, 'century': 736, 'seriously': 3892, 'crappy': 1032, 'cop': 991, 'partner': 3198, 'outside': 3146, 'pulled': 3462, 'sits': 4006, 'happening': 2028, 'eventually': 1537, 'returns': 3668, 'bag': 384, 'problems': 3409, 'still': 4188, 'wonders': 4931, 'asks': 319, 'gets': 1900, 'response': 3654, 'thinks': 4454, 'everything': 1544, 'ok': 3098, 'process': 3412, 'once': 3106, 'slightly': 4029, 'start': 4156, 'catch': 714, 'took': 4523, 'considering': 952, 'obvious': 3071, 'curse': 1086, 'placed': 3283, 'dies': 1245, 'ya': 4976, 'rid': 3690, 'body': 527, 'magic': 2703, 'comes': 891, 'lots': 2662, 'eye': 1611, 'shadow': 3912, 'causes': 725, 'girls': 1911, 'become': 433, 'monsters': 2893, 'meet': 2793, 'dude': 1381, 'apparently': 270, 'offers': 3090, 'look': 2646, 'normal': 3033, 'husband': 2204, 'hideous': 2098, 'freak': 1824, 'others': 3136, 'massive': 2756, 'hole': 2132, 'wrap': 4963, 'kill': 2468, 'turn': 4605, 'ends': 1474, 'becoming': 435, 'trying': 4601, 'sequel': 3885, 'dropping': 1371, 'ever': 1538, '1980s': 21, 'dad': 1095, 'actually': 109, 'recorded': 3574, 'tv': 4610, '20': 29, 'relatively': 3600, 'recent': 3566, 'release': 3602, 'dvd': 1391, 'dialogue': 1234, 'changed': 750, 'vhs': 4725, 'mood': 2898, 'thanks': 4423, 'however': 2183, 'new': 3003, 'van': 4713, 'der': 1191, 'et': 1526, 'al': 170, 'comic': 893, 'dub': 1378, 'japanese': 2382, 'does': 1308, 'raise': 3507, 'question': 3487, 'whether': 4866, 'intended': 2315, 'darker': 1116, 'narrative': 2966, 'theme': 4433, '50s': 52, 'sci': 3815, 'fi': 1701, 'big': 478, 'draws': 1352, 'drive': 1363, 'theaters': 4428, 'earth': 1403, 'stood': 4199, 'stand': 4143, 'aged': 149, 'eerie': 1427, 'musical': 2947, 'sounds': 4084, 'weird': 4841, 'hardly': 2036, 'used': 4693, 'forbidden': 1785, 'planet': 3289, 'gone': 1935, 'speaking': 4095, 'star': 4150, 'trek': 4578, 'pilot': 3276, 'series': 3890, 'captain': 674, 'mate': 2765, 'doctor': 1304, 'mad': 2696, 'scientist': 3818, 'alien': 183, 'beings': 449, 'babe': 375, 'computer': 927, 'intelligence': 2313, 'de': 1131, 'certain': 737, 'awe': 370, 'imagery': 2234, 'consider': 949, 'huge': 2185, 'machine': 2693, 'successfully': 4267, 'depicted': 1183, 'depth': 1190, 'kid': 2464, 'scared': 3805, 'vaguely': 4706, 'remember': 3616, 'being': 448, 'worried': 4949, 'invisible': 2344, 'monster': 2892, 'fan': 1648, 'featured': 1679, 'wasnt': 4807, 'dumb': 1385, 'inept': 2281, 'features': 1680, 'effects': 1431, 'jaws': 2385, 'friday': 1834, '13th': 5, 'comparison': 914, 'mention': 2810, 'extreme': 1609, '1983': 22, 'feature': 1678, 'pop': 3330, 'screen': 3829, 'steve': 4181, 'jeffrey': 2391, 'trapped': 4564, 'mess': 2818, 'careers': 687, 'go': 1924, 'larry': 2520, 'ron': 3734, 'box': 555, 'office': 3091, 'grinch': 1975, 'stole': 4194, 'christmas': 810, 'followed': 1773, 'flop': 1760, 'police': 3322, 'projects': 3428, 'regret': 3591, 'four': 1812, 'comments': 901, 'expecting': 1578, 'awful': 372, 'pleasantly': 3303, 'surprised': 4313, 'reality': 3551, 'check': 777, 'chases': 771, 'legs': 2566, 'scripts': 3836, 'poorly': 3329, 'acted': 98, 'duke': 1383, 'boys': 559, 'intelligent': 2314, 'boss': 546, 'evil': 1548, 'throughout': 4478, 'moment': 2886, 'lasted': 2522, 'ran': 3513, 'general': 1880, 'stunts': 4246, 'johnny': 2410, 'usual': 4699, 'eccentric': 1414, 'self': 3869, 'scott': 3824, 'cousin': 1021, 'bo': 521, 'pair': 3176, 'achieved': 93, 'lovely': 2671, 'jessica': 2398, 'simpson': 3987, 'miss': 2866, 'burt': 629, 'reynolds': 3684, 'improved': 2255, 'nasty': 2968, 'should': 3951, 'slapstick': 4019, 'humour': 2194, 'crazy': 1035, 'wouldnt': 4958, 'otherwise': 3137, 'entertaining': 1499, 'brain': 562, 'open': 3112, 'pictures': 3270, 'africa': 141, 'rest': 3657, 'boring': 543, 'war': 4792, 'worlds': 4947, 'deliver': 1169, 'message': 2819, 'expected': 1577, 'steven': 4182, 'leading': 2547, 'actress': 105, 'artificial': 306, 'sun': 4292, 'hair': 2005, 'messed': 2821, 'clothes': 860, 'bar': 396, 'seek': 3858, 'our': 3139, 'hero': 2088, 'comment': 898, 'dracula': 1341, 'wrote': 4974, 'book': 535, 'became': 431, 'famous': 1647, 'problem': 3408, 'soft': 4051, 'inside': 2297, 'point': 3316, 'manages': 2725, 'beaten': 424, 'increasingly': 2268, 'waste': 4808, 'money': 2888, 'six': 4010, 'send': 3875, 'home': 2142, 'drunk': 1375, 'sneak': 4043, 'cult': 1077, 'meeting': 2794, 'surrounded': 4318, 'figures': 1713, 'male': 2719, 'dancers': 1105, 'pretend': 3381, 'fight': 1707, 'behind': 447, 'opens': 3115, 'figure': 1711, 'painted': 3174, 'begins': 444, 'snake': 4042, 'neck': 2985, 'dressed': 1358, 'female': 1693, 'member': 2800, 'secret': 3849, 'warned': 4798, 'men': 2805, 'repeatedly': 3632, 'photos': 3261, 'else': 1448, 'down': 1335, 'killed': 2469, 'naturally': 2974, 'flash': 1745, 'photo': 3257, 'members': 2801, 'angry': 238, 'steal': 4170, 'asian': 314, 'guys': 2001, 'offensive': 3086, 'bite': 489, 'explain': 1586, 'hospital': 2172, 'room': 3735, 'york': 4985, 'news': 3005, 'settle': 3902, 'bond': 532, 'jobs': 2406, 'range': 3516, 'manager': 2724, 'david': 1124, 'research': 3644, 'student': 4238, 'richard': 3686, 'james': 2378, 'jack': 2373, 'kelly': 2452, 'neighborhood': 2993, 'blond': 510, 'friend': 1835, 'somewhat': 4068, 'mysterious': 2955, 'liking': 2604, 'group': 1980, 'happens': 2029, 'seat': 3845, 'crash': 1033, 'visit': 4755, 'scares': 3806, 'window': 4894, 'fall': 1637, 'suspect': 4327, 'viewer': 4738, 'already': 197, 'knows': 2493, 'deaths': 1142, 'turning': 4608, 'thoroughly': 4459, 'discovered': 1280, 'attracted': 349, 'matter': 2769, 'attack': 337, 'against': 147, 'below': 462, 'changes': 751, 'ill': 2228, 'skip': 4016, 'questions': 3489, 'passing': 3204, 'paid': 3169, 'somewhere': 4069, 'whos': 4876, 'paying': 3217, 'hotel': 2175, 'spectacular': 4101, 'come': 886, 'speaks': 4096, 'writers': 4969, 'clearly': 840, 'seen': 3865, 'films': 1721, 'effort': 1432, 'theyve': 4446, 'stolen': 4195, 'cat': 713, 'instance': 2304, 'tiny': 4500, 'exception': 1557, 'threat': 4467, 'kept': 2456, 'shadows': 3913, 'spooky': 4128, 'use': 4692, 'clumsy': 866, 'occasional': 3074, 'called': 652, 'bus': 631, 'victim': 4729, 'alone': 194, 'park': 3190, 'someone': 4064, 'following': 1774, 'under': 4639, 'street': 4216, 'above': 68, 'loud': 2664, 'using': 4698, 'air': 164, 'stop': 4201, 'producers': 3416, 'amount': 219, 'guy': 2000, 'walking': 4779, 'across': 96, 'sudden': 4272, 'truck': 4595, 'hits': 2125, 'stereotype': 4178, 'ugly': 4625, 'furthermore': 1854, 'movements': 2924, 'approach': 282, 'fast': 1661, 'sees': 3866, 'eat': 1411, 'fine': 1729, 'minor': 2857, 'masterpieces': 2760, 'copy': 994, 'pile': 3275, 'growing': 1983, '90': 60, 'aside': 315, 'names': 2963, 'victims': 4730, 'correct': 1000, 'footage': 1782, 'came': 656, 'slaughter': 4021, 'house': 2178, 'due': 1382, 'prepared': 3371, 'existent': 1572, 'dull': 1384, 'struggle': 4234, 'sorry': 4076, 'reviewers': 3678, 'noted': 3045, 'depression': 1189, 'frank': 1821, 'oscars': 3134, 'leave': 2555, 'heaven': 2068, 'etc': 1527, 'tough': 4537, 'minded': 2850, 'realized': 3553, 'women': 4923, 'community': 908, 'groups': 1981, 'perhaps': 3235, 'primary': 3394, 'among': 217, 'qualities': 3483, 'contrast': 975, 'bill': 481, 'talking': 4360, 'physically': 3263, 'gives': 1914, 'survival': 4320, 'term': 4405, 'becomes': 434, 'pregnant': 3369, 'herself': 2092, 'dignity': 1252, 'age': 148, 'neither': 2996, 'happiness': 2031, 'finds': 1728, 'violence': 4747, 'sex': 3907, 'language': 2516, 'reason': 3557, 'mark': 2739, 'unknown': 4668, 'violent': 4748, 'stupid': 4247, 'telling': 4396, 'mean': 2779, 'operation': 3117, 'force': 1786, 'these': 4441, 'rent': 3626, 'half': 2007, 'interview': 2329, 'hasnt': 2044, 'hour': 2176, 'owner': 3159, 'committed': 905, 'episode': 1507, 'pitt': 3280, 'worst': 4952, 'serve': 3893, 'reputation': 3640, 'redeeming': 3577, 'why': 4878, 'might': 2835, 'considered': 951, 'classic': 835, 'crap': 1031, 'stiff': 4187, 'witty': 4917, 'totally': 4532, 'unfunny': 4655, 'soundtrack': 4085, 'meant': 2784, 'attractive': 351, 'actual': 108, 'convinced': 984, 'trust': 4598, 'overrated': 3156, 'basically': 407, 'say': 3799, 'unfortunately': 4654, 'white': 4870, 'chicks': 787, 'absolutely': 72, 'crude': 1069, 'probably': 3407, 'isnt': 2362, 'idiotic': 2219, 'bothered': 549, 'quick': 3490, 'constant': 957, 'jokes': 2415, 'dragged': 1343, 'disgusting': 1286, 'prefer': 3368, 'silly': 3976, 'airplane': 166, 'ie': 2221, 'productions': 3420, 'viewed': 4737, 'view': 4736, 'theatrical': 4430, 'business': 633, 'ballet': 389, 'choreography': 802, 'impressive': 2253, 'purely': 3472, 'perspective': 3245, 'design': 1202, 'motion': 2913, 'none': 3028, 'looked': 2647, 'rats': 3531, 'entire': 1502, 'again': 146, 'artistic': 308, 'dancer': 1104, 'straight': 4210, 'game': 1864, 'genre': 1888, 'returning': 3667, 'paris': 3189, 'trip': 4588, 'developed': 1223, 'jungle': 2434, 'fear': 1676, 'infamous': 2284, 'trial': 4580, 'government': 1948, 'access': 83, 'likely': 2601, 'falls': 1640, 'dead': 1132, 'matters': 2770, 'return': 3665, 'killer': 2470, 'okay': 3099, 'thriller': 4472, 'fully': 1847, 'numbers': 3061, 'early': 1400, 'talk': 4358, 'middle': 2833, 'later': 2525, 'top': 4525, 'interesting': 2325, 'despite': 1211, 'running': 3756, 'rarely': 3524, 'lose': 2654, 'wished': 4905, 'happen': 2026, 'pass': 3201, 'am': 204, 'chinese': 796, 'ive': 2372, 'except': 1556, 'horrible': 2163, 'talents': 4356, 'directing': 1260, 'stick': 4185, 'please': 3304, 'unconvincing': 4638, 'believable': 453, 'motivation': 2914, 'acts': 107, 'met': 2822, 'expression': 1602, 'practically': 3362, 'downright': 1337, 'lame': 2510, 'twice': 4613, 'bit': 488, 'erotic': 1515, 'putting': 3482, 'sleep': 4024, 'busy': 635, 'march': 2734, 'exciting': 1563, 'mainly': 2708, 'disney': 1289, 'promised': 3431, 'plant': 3293, 'tree': 4576, 'weekend': 4838, 'capture': 676, 'impossible': 2249, 'animals': 240, 'shock': 3938, 'nature': 2975, 'magical': 2704, 'dynamic': 1394, 'touch': 4533, 'souls': 4080, 'humanity': 2189, 'versus': 4722, 'world': 4946, 'degree': 1164, 'granted': 1957, 'lover': 2672, 'appreciate': 279, 'mere': 2814, 'documentary': 1307, 'curious': 1083, 'soul': 4079, 'miracle': 2860, 'collection': 874, 'shine': 3931, 'near': 2979, 'excuse': 1564, 'showcase': 3954, 'warner': 4799, 'contract': 973, 'players': 3299, 'rule': 3753, 'promise': 3430, 'shame': 3918, 'ruth': 3763, 'roman': 3731, 'color': 877, 'locations': 2636, 'thank': 4421, 'lucky': 2683, 'fbi': 1675, 'starring': 4154, 'reed': 3580, 'guest': 1992, 'leads': 2548, 'prison': 3401, 'ralph': 3510, 'sent': 3880, 'cell': 730, 'criminals': 1058, 'jr': 2423, 'charles': 764, 'reading': 3544, 'magazine': 2701, 'detective': 1220, 'honest': 2146, 'reveals': 3673, 'missing': 2869, 'hanging': 2023, 'peter': 3247, 'doing': 1312, 'howard': 2182, 'moving': 2928, 'tender': 4401, 'paul': 3214, 'winning': 4898, 'line': 2610, 'brief': 579, 'wish': 4904, 'experiences': 1582, 'hopefully': 2157, 'positive': 3346, 'seeing': 3857, 'clever': 841, 'person': 3238, 'greatest': 1966, 'forgotten': 1797, '12': 3, 'until': 4680, 'add': 115, 'brought': 600, 'fond': 1776, 'memories': 2803, 'nights': 3016, 'animated': 241, 'family': 1645, 'special': 4097, 'touches': 4535, 'garbage': 1870, 'coming': 896, 'rated': 3527, 'dogs': 1311, 'smoking': 4040, 'drinking': 1362, 'hell': 2077, 'bring': 585, 'kids': 2467, 'rip': 3700, 'amongst': 218, 'homage': 2141, 'passed': 3202, 'yes': 4982, 'worse': 4951, 'atmosphere': 333, 'coherent': 871, 'abandoned': 62, 'entirely': 1503, 'directors': 1266, 'hed': 2072, 'genuine': 1891, 'reel': 3581, 'strictly': 4223, 'crowd': 1067, 'wonderfully': 4929, 'author': 359, 'reads': 3545, 'instantly': 2306, 'deep': 1154, 'south': 4087, 'watches': 4814, 'john': 2409, 'realizes': 3554, 'captures': 678, 'essence': 1521, 'narration': 2965, 'fantastic': 1651, 'year': 4978, 'released': 3603, 'birth': 486, '1973': 19, 'class': 833, 'fascinating': 1658, 'study': 4242, 'crisis': 1060, 'leo': 2571, 'reactions': 3542, 'touching': 4536, 'strange': 4211, 'nor': 3032, 'past': 3207, 'terribly': 4408, 'roll': 3728, 'floor': 1759, 'laughing': 2533, 'beer': 439, 'helps': 2082, 'chose': 804, 'blood': 512, 'mid': 2832, 'wing': 4896, 'red': 3576, 'empire': 1464, 'types': 4622, 'himself': 2111, 'support': 4303, 'restored': 3659, 'eastern': 1408, 'european': 1530, 'countries': 1013, 'former': 1800, 'soviet': 4089, 'adventures': 131, 'rambo': 3511, 'mildly': 2840, 'adequate': 120, 'incident': 2260, 'scores': 3823, 'russian': 3762, 'troops': 4591, 'rescue': 3643, 'ten': 4399, 'conflict': 939, 'americans': 214, 'side': 3965, 'success': 4265, 'ludicrous': 2685, 'strip': 4228, 'robot': 3717, 'killing': 2472, 'fetched': 1698, 'superman': 4301, 'sadly': 3769, 'unintentional': 4658, 'technically': 4382, 'carry': 700, 'slightest': 4028, 'unbelievable': 4634, 'cuts': 1091, 'tons': 4520, 'consists': 955, 'clichés': 846, 'co': 867, 'cameron': 661, 'understandable': 4644, 'merely': 2815, 'moronic': 2907, 'brand': 565, 'thinking': 4453, 'lead': 2545, 'human': 2188, 'army': 295, 'villain': 4744, 'remotely': 3623, 'managed': 2723, 'survive': 4321, 'torture': 4529, 'strong': 4229, 'fantasy': 1652, 'wizard': 4919, 'turned': 4606, 'climactic': 848, 'rocky': 3723, 'wake': 4774, 'media': 2789, 'example': 1553, 'high': 2100, 'spin': 4112, 'doctors': 1305, 'attempting': 342, 'control': 977, 'attempted': 341, 'needs': 2990, 'religious': 3608, 'civil': 826, 'similarly': 3980, 'antics': 255, 'eric': 1514, 'talented': 4355, 'sitting': 4007, 'escapes': 1519, 'calls': 654, 'capturing': 679, 'threatening': 4468, 'event': 1535, 'willing': 4889, 'kidnapped': 2466, 'decides': 1150, 'huh': 2187, 'rage': 3505, 'alright': 198, 'sucks': 4271, 'loaded': 2632, 'minute': 2858, 'damn': 1100, 'insult': 2309, 'joke': 2414, 'charm': 767, '70s': 56, 'attached': 336, 'sexually': 3910, 'trash': 4565, 'lie': 2590, 'gonna': 1936, 'nowadays': 3055, 'hardcore': 2034, 'shots': 3950, 'rape': 3521, 'lengthy': 2570, 'chick': 786, 'remembered': 3617, 'joe': 2407, 'follow': 1772, 'extent': 1605, 'tried': 4584, 'fighting': 1709, 'cultural': 1078, 'subtitles': 4259, 'inevitably': 2283, 'loose': 2650, 'explained': 1587, 'twists': 4619, 'nevertheless': 3002, 'unlikely': 4671, 'wholly': 4874, 'certainly': 738, 'plenty': 3307, 'stylish': 4251, 'bone': 533, 'upon': 4684, 'sexual': 3908, 'plus': 3311, 'decent': 1147, 'checking': 778, '60s': 54, 'havent': 2053, 'ability': 65, 'power': 3359, 'exceptionally': 1559, 'forces': 1788, 'source': 4086, 'fiction': 1702, 'refreshing': 3586, 'especially': 1520, 'todays': 4509, 'simplistic': 3985, 'manipulative': 2727, 'moral': 2902, 'dramas': 1347, 'political': 3324, 'admire': 121, 'disagree': 1269, 'capital': 673, 'punishment': 3467, 'terrific': 4409, 'wilson': 4891, 'underrated': 4642, 'leader': 2546, 'charisma': 762, 'hide': 2097, 'blake': 498, 'obviously': 3072, 'cinematography': 820, 'gritty': 1977, 'giving': 1915, 'jones': 2418, 'masterpiece': 2759, 'singing': 3995, 'dancing': 1107, 'cagney': 646, 'namely': 2962, 'dick': 1239, 'powell': 3358, 'ruby': 3749, 'plays': 3301, 'writes': 4970, 'musicals': 2948, 'goes': 1930, 'producing': 3417, '1930s': 11, 'trouble': 4592, 'ideas': 2215, 'joan': 2404, 'young': 4989, 'singer': 3993, 'starting': 4158, 'successful': 4266, 'career': 686, 'southern': 4088, 'average': 362, 'rating': 3529, 'christian': 808, 'makers': 2715, 'honestly': 2147, 'joy': 2422, 'typically': 4624, 'key': 2458, 'predictable': 3367, 'mediocre': 2791, 'leaves': 2556, 'desired': 1206, 'christians': 809, 'suggest': 4280, 'lewis': 2586, 'inspiration': 2300, 'lady': 2507, 'standards': 4145, 'orson': 3132, 'welles': 4844, 'whose': 4877, 'post': 3352, 'modern': 2882, 'conventional': 979, 'popular': 3333, 'concerns': 934, 'irish': 2353, 'married': 2744, 'sea': 3838, 'follows': 1775, 'law': 2538, 'glenn': 1918, 'turns': 4609, 'odd': 3080, 'suicide': 4283, 'mental': 2808, 'ensues': 1493, 'sorts': 4078, 'told': 4513, 'pace': 3161, 'thus': 4486, 'brilliant': 583, 'directorial': 1265, 'pieces': 3273, 'thrown': 4481, 'result': 3660, 'watchable': 4812, 'incomprehensible': 2267, 'vehicle': 4718, 'destruction': 1216, 'personality': 3242, 'strangely': 4212, 'known': 2492, 'twenty': 4612, 'thirty': 4456, 'sean': 3840, 'breath': 573, 'works': 4945, 'photographed': 3258, 'bizarre': 492, 'notes': 3046, 'disturbing': 1300, 'method': 2824, 'timothy': 4499, 'agrees': 157, 'brilliantly': 584, 'forth': 1804, 'answer': 251, 'reached': 3537, 'studio': 4240, 'nose': 3037, 'portrait': 3339, 'rival': 3706, 'opinion': 3118, 'presented': 3376, 'lived': 2626, 'hired': 2117, 'provide': 3448, 'citizen': 824, 'kane': 2442, 'caused': 724, 'speak': 4094, 'personal': 3240, 'failure': 1629, 'presence': 3373, 'beyond': 476, 'naive': 2958, 'knowledge': 2491, 'player': 3298, 'imagine': 2238, 'aspects': 322, 'knowing': 2490, 'cheated': 775, 'guilty': 1995, 'falling': 1639, 'caring': 691, 'liberal': 2588, 'cops': 993, 'daily': 1097, 'unable': 4631, 'terms': 4406, 'cheating': 776, 'help': 2079, 'nuclear': 3057, 'conspiracy': 956, 'international': 2326, 'hysterical': 2208, 'friendship': 1838, 'enjoying': 1487, 'issues': 2365, 'ed': 1415, 'facial': 1619, 'revealing': 3672, 'details': 1219, 'afternoon': 144, 'evening': 1534, 'appeared': 276, 'occasion': 3073, 'continuity': 972, 'ruined': 3751, 'credibility': 1047, 'previously': 3388, 'cowboy': 1025, 'bedroom': 437, 'reminiscent': 3621, 'niro': 3019, 'taxi': 4371, 'driver': 1366, 'laid': 2508, 'art': 304, 'medium': 2792, 'changing': 752, 'strongly': 4231, 'everyone': 1542, 'visually': 4758, 'compelling': 916, 'left': 2561, 'theatre': 4429, 'basic': 406, 'screenplay': 3831, 'setting': 3900, 'realism': 3549, 'farm': 1656, 'rural': 3758, 'difference': 1246, 'messages': 2820, 'includes': 2263, 'remain': 3609, 'older': 3101, 'behavior': 446, 'younger': 4990, 'viewers': 4739, 'touched': 4534, 'personally': 3243, 'close': 853, 'tears': 4380, 'importance': 2246, 'safety': 3772, 'dangerous': 1110, 'situations': 4009, 'rented': 3628, 'treatment': 4574, 'modesty': 2883, 'received': 3564, 'creator': 1043, 'creative': 1041, 'handled': 2019, 'respect': 3652, 'direction': 1261, 'date': 1118, 'casting': 711, 'match': 2762, 'jim': 2402, 'whoever': 4872, 'raymond': 3534, 'hope': 2155, 'interested': 2324, 'whom': 4875, 'theyd': 4443, 'choose': 799, 'marriage': 2743, 'gotten': 1947, 'critical': 1062, 'michael': 2829, 'fly': 1763, 'criminal': 1057, 'attorney': 348, 'lower': 2677, 'manhattan': 2726, 'web': 4833, 'intrigue': 2333, 'murders': 2943, 'whatever': 4859, 'decided': 1149, 'supposedly': 4307, 'harry': 2039, 'hit': 2122, 'joined': 2413, 'vision': 4754, 'independent': 2272, 'winds': 4895, 'corpse': 999, 'ted': 4386, 'bottom': 551, 'private': 3404, 'tries': 4585, 'shoot': 3942, 'beautifully': 429, 'substance': 4258, 'surviving': 4323, 'pain': 3170, 'ben': 463, 'serves': 3895, 'unfortunate': 4653, 'wealthy': 4827, 'ad': 110, 'drew': 1360, 'believing': 457, 'underlying': 4641, 'disbelief': 1277, 'social': 4049, 'standing': 4146, '2004': 34, 'spent': 4108, 'dollar': 1314, 'prostitute': 3440, 'buying': 641, 'spend': 4105, 'condition': 937, 'contrary': 974, 'emotions': 1461, 'seeking': 3859, 'catherine': 719, 'son': 4070, 'brian': 576, 'dimensional': 1253, 'daughter': 1121, 'spends': 4107, 'youth': 4994, 'twisted': 4618, 'illogical': 2231, 'dry': 1377, 'smile': 4036, 'remains': 3611, 'psychotic': 3459, 'hiding': 2099, 'pretending': 3382, 'clear': 839, 'truth': 4599, 'possibly': 3351, 'dreams': 1355, 'appearing': 277, 'sequence': 3887, 'overlook': 3153, 'mike': 2838, 'mitchell': 2875, 'responsible': 3656, 'somehow': 4063, 'manage': 2722, 'cutting': 1092, 'tells': 4397, 'desperately': 1209, 'town': 4541, 'vote': 4766, 'mr': 2929, 'stay': 4166, 'redemption': 3578, 'means': 2783, '2nd': 41, '3rd': 47, 'friends': 1837, 'market': 2740, 'context': 968, 'saves': 3796, 'rose': 3739, 'school': 3813, 'territory': 4411, 'filmed': 1717, 'reasonably': 3559, 'fairly': 1631, 'mundane': 2938, 'lying': 2690, 'bed': 436, 'edge': 1418, 'summary': 4290, 'statement': 4162, 'club': 863, 'lifetime': 2594, 'titles': 4506, 'unexpected': 4650, 'lesbian': 2573, 'wanna': 4786, 'hot': 2174, 'kiss': 2483, 'fashion': 1659, 'wasting': 4810, 'generic': 1885, 'childrens': 793, 'represent': 3637, 'likable': 2598, 'overdone': 3152, 'gag': 1861, 'cute': 1090, 'form': 1798, 'candy': 668, 'nostalgia': 3038, 'hopes': 2159, 'cartoons': 705, 'advise': 134, 'punch': 3466, 'novels': 3053, 'concept': 930, 'step': 4175, 'stories': 4205, 'dream': 1354, 'lesser': 2576, 'daniel': 1111, 'stiller': 4189, 'complaint': 920, 'hey': 2095, 'literature': 2623, 'distinct': 1296, 'jeremy': 2394, 'london': 2641, 'appalling': 268, 'descent': 1193, 'madness': 2698, 'aware': 368, 'drink': 1361, 'spirits': 4115, 'angle': 236, 'listen': 2619, 'tortured': 4530, 'artist': 307, 'genius': 1887, 'shirt': 3937, 'pull': 3461, 'cardboard': 682, 'toy': 4542, 'prize': 3405, 'bin': 483, 'grow': 1982, 'shoes': 3941, 'delivered': 1170, 'held': 2074, 'wooden': 4934, 'notable': 3041, 'confused': 941, 'delivers': 1172, 'believed': 455, 'interest': 2323, 'factor': 1622, 'blonde': 511, 'local': 2634, 'un': 4630, 'witch': 4909, 'themes': 4434, 'mentions': 2813, 'genuinely': 1892, 'shocking': 3940, 'raised': 3508, 'traditional': 4550, 'dear': 1140, 'accompanied': 86, 'intense': 2316, 'makeup': 2717, 'editor': 1423, 'either': 1438, 'tense': 4403, 'psychological': 3458, 'slasher': 4020, 'element': 1442, 'epic': 1506, 'poor': 3328, 'likewise': 2603, 'cinematographer': 819, 'hitchcock': 2123, 'ended': 1470, 'intention': 2319, 'afraid': 140, 'yourself': 4993, 'tales': 4357, 'frightening': 1839, 'rubbish': 3748, 'powers': 3361, 'god': 1926, 'learns': 2553, 'supernatural': 4302, 'requires': 3642, 'giant': 1905, 'responsibility': 3655, 'strength': 4219, 'promising': 3433, 'carrey': 696, 'costs': 1004, 'terrible': 4407, 'bruce': 602, 'lets': 2580, 'journalist': 2420, 'report': 3635, 'comedian': 887, 'girlfriend': 1910, 'dog': 1310, 'trained': 4557, 'hate': 2046, 'manner': 2729, 'troubles': 4594, 'stupidity': 4248, 'realistic': 3550, 'goofy': 1939, 'ask': 316, 'wait': 4770, 'pulls': 3464, 'closer': 856, 'create': 1036, 'romantic': 3733, 'womans': 4922, 'dress': 1357, 'answers': 252, 'via': 4726, 'mail': 2706, 'hint': 2112, 'dirty': 1268, 'playing': 3300, 'pathetic': 3210, 'understated': 4646, 'grace': 1950, 'stays': 4169, 'forgettable': 1794, 'nobody': 3022, 'chemistry': 782, 'false': 1641, 'doubt': 1332, 'dialogs': 1233, 'roles': 3727, 'total': 4531, 'five': 1743, 'survivors': 4325, 'double': 1331, 'reunion': 3669, 'kate': 2446, 'dorothy': 1330, 'maggie': 2702, 'alice': 182, 'unfolds': 4651, 'health': 2060, 'brings': 587, 'tension': 4404, 'tragedy': 4551, 'disaster': 1276, 'fate': 1665, 'location': 2635, 'opportunity': 3121, 'subtle': 4260, 'blunt': 520, 'formulaic': 1803, 'unbearable': 4633, 'compared': 912, 'history': 2121, 'obsessed': 3069, 'quest': 3486, 'comical': 894, 'toward': 4539, 'suspicious': 4332, 'priest': 3392, 'walks': 4780, 'christ': 807, 'upset': 4687, 'investigate': 2342, 'possessed': 3347, 'satan': 3787, 'jesus': 2399, 'ages': 152, 'lion': 2614, 'king': 2479, 'adds': 119, 'nearly': 2981, '40': 48, 'sons': 4073, 'tonight': 4519, 'laughed': 2532, 'remind': 3618, 'psychiatrist': 3455, 'unnecessary': 4672, 'cable': 644, 'lately': 2524, 'luke': 2687, 'equally': 1510, 'actresses': 106, 'suppose': 4305, 'crying': 1074, 'described': 1195, 'chase': 769, 'hence': 2083, 'picked': 3266, '45': 50, 'finding': 1727, 'balance': 387, 'loss': 2659, 'asking': 318, 'caught': 722, 'guard': 1988, 'intentions': 2321, 'plots': 3310, 'building': 615, 'slow': 4031, 'picks': 3268, 'ties': 4490, 'effect': 1428, 'swear': 4334, 'notch': 3043, 'subplots': 4256, 'tie': 4488, 'alive': 186, 'stale': 4141, 'persona': 3239, 'build': 614, 'company': 910, 'superb': 4296, 'depicting': 1184, 'plight': 3308, 'lou': 2663, 'subject': 4253, 'carter': 703, 'convincing': 985, 'expectations': 1576, 'quirky': 3493, 'service': 3896, 'development': 1225, 'treat': 4572, 'fairy': 1632, 'tale': 4353, 'fabulous': 1615, 'deeply': 1156, 'doubts': 1333, 'developing': 1224, 'corporate': 998, 'deliberately': 1166, 'creating': 1039, 'streets': 4217, 'sometimes': 4067, 'agents': 151, 'therefore': 4439, 'officer': 3092, 'peoples': 3222, 'pet': 3246, 'east': 1407, 'experienced': 1581, 'plans': 3292, 'ironically': 2356, 'pro': 3406, 'conservative': 948, 'important': 2247, 'agent': 150, 'chance': 747, 'global': 1920, 'discovers': 1281, 'pearl': 3220, 'norman': 3035, 'warren': 4801, 'dennis': 1179, 'needless': 2989, 'numerous': 3062, 'including': 2264, 'homosexual': 2145, 'description': 1197, 'originally': 3131, 'clark': 832, 'sam': 3777, 'absolute': 71, '1970s': 17, 'shallow': 3917, 'farce': 1654, 'drop': 1369, 'proved': 3446, 'amusing': 221, 'pity': 3281, 'performed': 3230, 'comics': 895, '20th': 38, 'television': 4394, 'hill': 2108, 'cameo': 657, 'according': 88, 'celluloid': 731, 'project': 3427, 'purposes': 3475, 'sitcom': 4004, 'apartment': 265, 'sum': 4289, 'foot': 1781, 'slowly': 4032, 'gary': 1873, 'taylor': 4372, 'aka': 168, 'skills': 4014, 'cruel': 1070, 'live': 2625, 'connect': 944, 'travel': 4567, 'lifestyle': 2593, 'flick': 1754, 'desperation': 1210, 'mall': 2720, 'holiday': 2134, 'missed': 2867, 'bomb': 531, 'distance': 1294, 'decades': 1145, 'whale': 4857, 'carries': 699, 'individual': 2277, 'laughable': 2530, 'finish': 1732, 'devoid': 1230, 'charlotte': 766, 'harris': 2038, 'immediately': 2242, 'danger': 1109, 'robinson': 3716, 'current': 1084, 'commercial': 902, 'seconds': 3848, 'represents': 3639, 'road': 3709, 'super': 4295, 'installment': 2303, 'block': 508, 'core': 995, 'full': 1846, 'ratings': 3530, 'phony': 3256, 'pretentious': 3383, 'politically': 3325, 'seasons': 3844, 'regular': 3592, 'team': 4378, 'join': 2412, 'unit': 4663, 'retired': 3664, 'ready': 3546, 'chair': 742, 'mayor': 2777, 'bullet': 620, 'state': 4160, 'weve': 4856, 'offer': 3087, 'present': 3374, 'pitch': 3279, 'possibility': 3349, 'died': 1244, 'bringing': 586, 'memory': 2804, 'introduced': 2337, 'satisfying': 3791, 'neat': 2982, 'surely': 4309, 'grade': 1951, 'typical': 4623, 'describe': 1194, 'third': 4455, 'fourth': 1813, 'started': 4157, 'episodes': 1508, 'reminds': 3620, 'failed': 1626, 'pot': 3354, 'improve': 2254, 'initial': 2290, 'nervous': 2999, 'barbara': 397, 'stanwyck': 4149, 'waitress': 4773, 'working': 4944, 'classes': 834, 'hands': 2020, 'father': 1666, 'assistant': 326, 'secretary': 3850, 'command': 897, 'bank': 394, 'storm': 4206, 'portraying': 3343, 'rate': 3526, 'philosophy': 3254, 'loses': 2657, 'spoken': 4126, 'broad': 590, 'learn': 2550, 'journey': 2421, 'provides': 3450, 'sexy': 3911, 'entertainment': 1500, 'wayne': 4821, 'thick': 4447, 'fame': 1642, 'drunken': 1376, 'master': 2757, 'jackie': 2374, 'chan': 746, 'established': 1524, 'major': 2711, 'extraordinary': 1607, 'hype': 2207, 'surrounding': 4319, 'reaching': 3539, 'blend': 504, 'awesome': 371, 'brutal': 603, 'questionable': 3488, 'broke': 593, 'inspired': 2301, '50': 51, 'rise': 3702, 'keaton': 2448, 'frequent': 1831, 'impact': 2244, 'puts': 3481, 'noticed': 3049, 'battle': 414, 'critics': 1064, 'tone': 4517, 'brothers': 599, 'represented': 3638, 'popcorn': 3331, 'empty': 1465, 'stomach': 4196, 'villains': 4745, 'glass': 1917, 'ranks': 3519, 'reviews': 3679, 'imdb': 2240, 'guessed': 1990, 'marketing': 2741, 'patrick': 3213, 'menacing': 2807, 'memorable': 2802, 'par': 3184, 'explore': 1594, 'necessary': 2984, 'succeeds': 4264, 'letting': 2583, 'annoyed': 248, 'spoiler': 4123, 'disappointing': 1274, 'realise': 3548, 'african': 142, 'describes': 1196, 'relations': 3596, 'spoilers': 4124, 'buddy': 609, 'flat': 1748, 'protagonist': 3441, 'serious': 3891, 'teenage': 4389, 'models': 2881, 'cliché': 844, 'identify': 2216, 'polished': 3323, 'lacking': 2504, 'tricks': 4583, 'intellectual': 2312, 'identity': 2217, 'chased': 770, 'island': 2361, 'underground': 4640, 'rules': 3754, 'mother': 2911, 'football': 1783, 'fashioned': 1660, 'hold': 2129, 'ginger': 1908, 'nuts': 3064, 'arthur': 305, 'ghost': 1902, 'train': 4556, 'comfortable': 892, 'entertain': 1497, 'thrills': 4475, 'england': 1482, 'circumstances': 822, 'haunted': 2050, 'credit': 1049, 'humorous': 2193, 'fail': 1625, 'impress': 2250, 'depiction': 1185, 'topic': 4526, 'sticks': 4186, 'closely': 855, 'sentence': 3881, 'outstanding': 3147, 'mainstream': 2709, 'spirited': 4114, 'wanting': 4790, 'handed': 2016, 'flaws': 1752, 'widow': 4883, 'logical': 2639, 'stronger': 4230, 'relationships': 3598, 'loved': 2670, 'die': 1243, 'dying': 1393, 'causing': 726, 'renting': 3629, 'seemingly': 3863, 'ancient': 225, 'demons': 1178, 'darkness': 1117, 'advanced': 128, 'civilization': 827, 'opened': 3113, 'heard': 2062, 'days': 1130, 'edward': 1426, 'trail': 4553, 'ways': 4822, 'zombies': 4998, 'convoluted': 987, 'similar': 3978, 'mentally': 2809, 'dreadful': 1353, 'save': 3794, 'embarrassed': 1453, 'capable': 672, 'carrying': 701, 'load': 2631, 'museum': 2945, 'goodness': 1938, 'richards': 3687, 'matches': 2764, 'include': 2261, 'land': 2511, 'delivering': 1171, 'kinda': 2477, 'shed': 3924, 'week': 4837, 'spending': 4106, 'hip': 2114, 'yeah': 4977, 'quotes': 3497, 'note': 3044, 'food': 1778, 'uwe': 4703, 'boll': 529, 'wars': 4804, 'familiar': 1643, 'blind': 506, 'explains': 1589, 'hearing': 2063, 'narrator': 2967, 'incoherent': 2265, 'ham': 2011, 'rings': 3699, 'chaos': 755, 'roots': 3738, 'creatures': 1046, 'theater': 4427, 'wonder': 4926, 'planned': 3290, 'lowest': 2678, 'wasted': 4809, '80': 58, 'turkey': 4604, 'frankly': 1823, 'utter': 4701, 'originality': 3130, 'dozens': 1339, 'serial': 3889, 'dire': 1257, 'pay': 3216, 'folks': 1771, 'endure': 1475, 'timeless': 4496, 'obscure': 3068, 'western': 4853, 'universal': 4665, 'weeks': 4839, 'flashbacks': 1747, 'drug': 1373, 'dialog': 1232, 'chosen': 805, 'motivations': 2915, 'involving': 2349, 'random': 3514, 'tiresome': 4502, 'longer': 2645, 'homeless': 2143, 'draw': 1349, 'stranger': 4213, 'signed': 3971, 'write': 4967, 'review': 3676, 'suspend': 4329, 'multiple': 2936, 'logic': 2638, 'emma': 1457, 'phone': 3255, 'calling': 653, 'thoughts': 4464, 'sacrifice': 3766, 'provided': 3449, 'hoffman': 2128, 'pleasure': 3306, 'murderer': 2941, 'bumbling': 622, 'mighty': 2836, 'ah': 158, 'tribute': 4581, 'notion': 3050, 'accept': 80, 'endearing': 1469, 'occurs': 3078, 'profound': 3423, 'powerful': 3360, 'rolled': 3729, 'integrity': 2311, 'offended': 3085, 'decision': 1151, 'explaining': 1588, 'contact': 961, 'feels': 1687, 'brains': 563, 'anybody': 257, 'grasp': 1960, 'warming': 4795, 'le': 2544, 'rare': 3523, 'georges': 1894, 'loving': 2675, 'tear': 4379, 'moves': 2925, 'warmth': 4796, 'opposite': 3123, 'directions': 1262, 'warm': 4794, 'sleeping': 4025, 'rooms': 3736, 'bear': 420, 'sub': 4252, 'rain': 3506, 'superior': 4300, 'superficial': 4298, 'cares': 690, '11': 2, 'streisand': 4218, 'fell': 1690, 'alcoholic': 177, 'sing': 3992, 'forward': 1808, 'button': 639, 'rock': 3720, 'realize': 3552, 'drag': 1342, 'tragic': 4552, 'accident': 84, 'idiot': 2218, 'songs': 4072, 'sings': 3997, 'anger': 235, 'wreck': 4965, 'edie': 1419, 'shut': 3961, 'explanation': 1590, 'costume': 1005, 'promises': 3432, 'forever': 1792, 'proof': 3434, 'extremely': 1610, 'worthy': 4956, 'recognition': 3568, 'properly': 3437, 'mouth': 2920, 'rental': 3627, 'mindless': 2851, 'recently': 3567, 'audio': 354, 'trailers': 4555, 'impressed': 2251, 'sincere': 3991, 'fire': 1734, 'belief': 451, 'matt': 2768, 'stone': 4197, 'parker': 3191, 'culture': 1079, 'cartoon': 704, 'america': 212, 'league': 2549, 'sports': 4130, 'laughter': 2535, 'cup': 1080, 'teen': 4388, 'california': 650, 'unrealistic': 4677, 'band': 391, 'bands': 392, 'irony': 2357, 'user': 4696, 'blame': 499, 'horse': 2170, 'exist': 1569, 'riveting': 3708, 'depicts': 1186, 'appearance': 274, 'unaware': 4632, 'wwii': 4975, 'paint': 3173, 'wow': 4962, 'glad': 1916, 'sounded': 4082, 'ridiculous': 3693, '2006': 36, 'robin': 3715, 'williams': 4888, 'bobby': 525, 'sandra': 3782, 'lisa': 2616, 'ann': 244, 'baker': 385, 'paranoia': 3186, 'latest': 2526, 'scenario': 3808, 'radio': 3504, 'named': 2961, 'gabriel': 1859, 'troubled': 4593, 'disturbed': 1299, 'ultimately': 4628, 'intrigued': 2334, 'existence': 1571, 'nurse': 3063, 'donna': 1323, 'aids': 161, 'suddenly': 4273, 'motives': 2916, 'seed': 3856, 'emotional': 1459, 'grown': 1984, 'terry': 4415, 'anderson': 227, 'hearted': 2065, 'number': 3060, 'escaped': 1518, 'unsettling': 4679, 'physical': 3262, 'runs': 3757, 'gas': 1874, 'repetitive': 3633, 'pays': 3218, 'inner': 2292, 'careful': 688, 'continue': 969, 'child': 789, 'planning': 3291, 'educational': 1425, 'future': 1856, 'foster': 1809, 'jake': 2377, 'children': 792, 'moody': 2899, 'henry': 2084, 'shirley': 3936, 'tune': 4602, 'secondly': 3847, 'somebody': 4062, 'laws': 2540, 'murdered': 2940, 'gang': 1867, 'thugs': 4484, 'rap': 3520, 'killers': 2471, 'justin': 2440, 'westerns': 4854, 'length': 2569, 'halloween': 2010, 'godfather': 1927, 'carpenter': 694, 'suspenseful': 4331, 'terrifying': 4410, 'myers': 2952, 'bloody': 513, 'charlie': 765, 'dr': 1340, 'lab': 2501, 'grew': 1972, 'area': 286, 'safe': 3771, 'finger': 1731, 'jamie': 2379, 'curtis': 1087, 'donald': 1321, 'steals': 4172, 'eyes': 1613, 'compelled': 915, 'legend': 2564, 'drives': 1367, 'forget': 1793, 'image': 2233, 'possible': 3350, 'detail': 1217, 'partly': 3197, 'visible': 4753, 'teens': 4392, 'teenagers': 4391, 'fortunately': 1805, 'pursuit': 3476, 'trick': 4582, 'station': 4164, 'chuck': 812, 'pointless': 3318, 'merits': 2817, 'bunch': 623, 'various': 4715, 'parody': 3192, 'saturday': 3792, 'adam': 111, 'receive': 3563, 'disappointment': 1275, 'confusing': 942, 'george': 1893, 'misery': 2865, 'stopped': 4202, 'confusion': 943, 'chances': 748, 'improvement': 2256, 'worker': 4942, 'construction': 960, 'funniest': 1851, 'dig': 1250, 'hundreds': 2196, 'feet': 1688, 'cary': 706, 'grant': 1956, 'imagined': 2239, 'douglas': 1334, 'lawyer': 2541, 'attitudes': 347, 'mrs': 2930, 'portrayed': 3342, 'horrors': 2169, '2003': 33, 'bored': 541, 'iron': 2354, 'con': 928, 'path': 3209, 'hated': 2047, 'stayed': 4167, 'fisher': 1739, 'stevens': 4183, 'hood': 2151, 'stretch': 4221, 'count': 1010, 'errors': 1516, 'holes': 2133, 'hunt': 2198, 'feed': 1683, 'deaf': 1134, 'handful': 2017, 'soldiers': 4054, 'painfully': 3172, 'miserably': 2864, 'fellow': 1691, 'wearing': 4831, 'fathers': 1667, 'aimed': 162, 'kinds': 2478, 'escape': 1517, 'amazingly': 210, 'clean': 838, 'season': 3843, 'dollars': 1315, 'rendition': 3625, 'kevin': 2457, '80s': 59, 'unforgettable': 4652, 'offered': 3088, 'shining': 3933, 'wet': 4855, 'coffee': 870, 'associated': 327, 'romance': 3732, '18': 10, 'colors': 879, 'witnesses': 4916, 'encounters': 1467, 'strangers': 4214, 'instant': 2305, 'muslim': 2949, 'cross': 1066, 'realizing': 3555, 'object': 3066, 'poignant': 3315, 'walter': 4784, 'thomas': 4458, 'oscar': 3133, 'nominated': 3025, 'debut': 1143, 'maria': 2736, 'drops': 1372, 'baby': 376, 'hatred': 2049, 'everywhere': 1545, 'richardson': 3688, 'fallen': 1638, 'mistress': 2874, 'arrives': 302, 'wes': 4851, 'craven': 1034, 'involves': 2348, 'alexander': 180, 'lonely': 2643, 'providing': 3451, 'entry': 1504, 'ethan': 1528, 'shorts': 3948, 'results': 3662, 'sad': 3767, 'bright': 581, 'useful': 4694, 'foreign': 1790, 'gift': 1906, 'sequels': 3886, 'mafia': 2700, 'suited': 4286, 'lake': 2509, 'topless': 4527, 'graphic': 1958, 'tony': 4521, 'panic': 3181, 'attacks': 339, 'jennifer': 2392, 'paulie': 3215, 'uncle': 4636, 'junior': 2435, 'enemies': 1476, 'nancy': 2964, 'sister': 4001, 'meanwhile': 2785, 'searching': 3842, 'mothers': 2912, 'counter': 1011, 'catholic': 720, 'religion': 3607, 'church': 813, 'divorce': 1301, 'split': 4120, 'points': 3319, 'italian': 2367, 'sick': 3963, 'negative': 2991, 'pointed': 3317, 'pie': 3271, 'bird': 484, 'parents': 3188, 'ruthless': 3764, 'gangster': 1868, '1940s': 13, 'claimed': 829, 'deals': 1137, '1990s': 25, 'von': 4765, 'europe': 1529, 'german': 1896, 'landscape': 2513, 'matched': 2763, 'damage': 1099, 'literally': 2622, 'movement': 2923, 'shortly': 3947, 'breaking': 570, 'waves': 4819, 'classics': 837, 'heights': 2073, 'attempts': 343, 'crimes': 1056, 'aid': 160, 'traveling': 4568, 'record': 3573, '100': 1, 'choices': 798, 'host': 2173, 'obnoxious': 3067, 'dreary': 1356, 'wind': 4893, 'card': 681, 'commercials': 903, 'shake': 3914, 'ladies': 2506, 'door': 1328, 'cuba': 1075, 'bet': 470, 'tired': 4501, 'appreciated': 280, 'allowing': 191, 'levels': 2585, 'foul': 1810, 'prime': 3395, 'sympathetic': 4342, 'briefly': 580, 'boyfriend': 558, 'domestic': 1318, 'sue': 4274, 'themselves': 4435, 'creep': 1051, 'bob': 524, 'reflection': 3585, 'society': 4050, 'sunday': 4293, 'trio': 4587, 'ex': 1549, 'hunter': 2199, 'taught': 4370, 'lesson': 2577, 'shell': 3927, 'fat': 1663, 'ps': 3453, 'screenwriter': 3833, '2000': 30, 'adapted': 114, 'destroyed': 1214, 'built': 618, 'books': 536, 'devil': 1228, 'scare': 3803, 'hunters': 2200, 'hurt': 2202, 'saved': 3795, 'boat': 523, 'ruin': 3750, 'silent': 3975, '30s': 44, 'painful': 3171, 'mans': 2730, 'starred': 4153, 'twilight': 4614, 'zone': 4999, 'fortune': 1806, '1960s': 15, 'popularity': 3334, 'beach': 419, 'executed': 1565, 'favor': 1670, 'billy': 482, 'alan': 171, 'subplot': 4255, 'la': 2500, 'corner': 996, 'singers': 3994, 'fresh': 1833, 'sheer': 3925, 'gothic': 1945, 'spoiled': 4122, 'lord': 2652, 'jerk': 2395, 'mary': 2751, 'hoping': 2160, 'luck': 2681, 'recommended': 3572, 'mel': 2796, 'brooks': 596, 'bible': 477, 'resulting': 3661, 'spoof': 4127, 'moore': 2901, 'tour': 4538, 'holy': 2140, 'cave': 727, 'river': 3707, 'slave': 4022, 'free': 1827, 'appearances': 275, 'meets': 2795, 'desert': 1198, 'paper': 3183, 'martin': 2748, 'ritter': 3705, 'ha': 2002, 'glory': 1922, 'decide': 1148, 'argument': 291, 'anywhere': 263, 'addition': 118, 'constantly': 958, 'heads': 2059, 'pg': 3250, 'adult': 125, 'akshay': 169, 'abraham': 69, 'cook': 988, 'saving': 3797, 'greedy': 1969, 'science': 3816, 'afterwards': 145, 'intriguing': 2335, 'occur': 3076, 'cameras': 660, 'teenager': 4390, 'warning': 4800, 'suitable': 4285, 'poster': 3353, 'moved': 2922, 'fox': 1814, 'storytelling': 4209, 'gorgeous': 1942, 'dubbing': 1380, 'listening': 2620, 'canadian': 667, 'prior': 3400, 'devoted': 1231, 'useless': 4695, 'displays': 1293, 'convince': 983, 'reasons': 3560, 'anthony': 253, 'mann': 2728, 'stewart': 4184, 'jeff': 2390, 'morris': 2908, 'jay': 2386, 'ahead': 159, 'north': 3036, 'castle': 712, 'believes': 456, 'valuable': 4708, 'earlier': 1399, 'judge': 2424, 'public': 3460, 'dawson': 1128, 'border': 539, 'highest': 2102, 'claim': 828, 'gold': 1932, 'stealing': 4171, 'claims': 830, 'leaving': 2557, 'sheriff': 3929, 'mistake': 2871, 'wounded': 4961, 'warn': 4797, 'shoots': 3944, 'arms': 294, 'revenge': 3675, 'pan': 3180, 'print': 3399, 'glorious': 1921, 'excessive': 1560, 'murphy': 2944, 'protect': 3443, 'golden': 1934, 'born': 544, 'philosophical': 3253, 'lessons': 2578, 'challenge': 743, 'mountain': 2917, 'temple': 4398, 'elderly': 1440, 'monk': 2889, 'presents': 3377, 'choice': 797, 'walls': 4783, 'destroy': 1213, 'martial': 2747, 'eddie': 1416, 'aired': 165, 'mixture': 2878, 'sinister': 3998, 'countryside': 1015, 'center': 732, 'hook': 2152, 'voices': 4763, 'blows': 517, 'pure': 3471, 'someones': 4065, 'wives': 4918, 'silence': 3974, 'sign': 3970, 'welcome': 4842, 'nonsense': 3030, 'arts': 310, 'fault': 1668, 'mountains': 2918, 'ninja': 3018, 'suits': 4287, 'nelson': 2997, 'phantom': 3251, 'atlantis': 332, 'gem': 1877, 'studios': 4241, 'pokemon': 3320, 'portion': 3338, 'task': 4368, 'captured': 677, 'voiced': 4762, 'washington': 4806, 'grandfather': 1954, 'failing': 1627, 'board': 522, 'wishes': 4906, 'wealth': 4826, 'crew': 1053, 'overcome': 3151, 'discovery': 1282, 'audiences': 353, 'creativity': 1042, 'shines': 3932, 'historical': 2119, 'technology': 4385, 'driven': 1365, 'holding': 2130, 'model': 2880, 'mine': 2853, 'tradition': 4549, 'snow': 4045, 'carried': 698, 'seven': 3903, 'ho': 2127, 'parent': 3187, 'alike': 185, 'soap': 4047, 'opera': 3116, 'skin': 4015, 'tape': 4365, 'latter': 2528, 'dutch': 1389, 'performing': 3233, 'nude': 3058, 'michelle': 2830, 'west': 4852, 'notorious': 3051, 'dave': 1123, 'companion': 909, 'drugs': 1374, 'valley': 4707, 'dolls': 1316, 'doll': 1313, 'jonathan': 2417, 'rank': 3518, 'thankfully': 4422, 'taste': 4369, 'extras': 1608, 'roger': 3724, 'trailer': 4554, 'nudity': 3059, 'listed': 2618, 'italy': 2368, 'available': 361, 'resembles': 3646, 'childhood': 790, 'nightmares': 3015, 'virginia': 4750, 'terror': 4412, 'nightmare': 3014, 'reminded': 3619, 'props': 3439, 'elm': 1447, 'simon': 3982, 'achievement': 94, 'allows': 192, '24': 39, 'hundred': 2195, 'resources': 3651, 'davies': 1125, 'remarkable': 3613, 'mgm': 2828, 'arrive': 300, 'outrageous': 3145, 'handsome': 2021, 'required': 3641, 'comedic': 888, 'cameos': 658, 'chaplin': 756, 'treasure': 4571, 'enjoys': 1489, 'jump': 2429, 'effective': 1429, 'virgin': 4749, 'clue': 864, 'cliff': 847, 'rich': 3685, 'yelling': 4980, 'lively': 2627, 'barely': 399, 'pacing': 3163, 'standard': 4144, 'acceptable': 81, 'juvenile': 2441, 'bathroom': 412, 'gags': 1862, 'blatant': 502, 'dickens': 1240, 'carol': 693, 'intensity': 2317, 'ensemble': 1492, 'scrooge': 3837, 'interpretation': 2328, 'root': 3737, 'grave': 1962, 'spirit': 4113, 'desire': 1205, 'broken': 594, 'versions': 4721, 'fred': 1825, 'frustration': 1843, 'relative': 3599, 'magnificent': 2705, 'tends': 4402, 'portray': 3340, 'convincingly': 986, 'despair': 1207, 'sight': 3969, 'worthless': 4954, 'millions': 2848, 'santa': 3783, 'angel': 231, 'suffering': 4277, 'poverty': 3357, 'courage': 1018, 'tim': 4494, 'preview': 3386, 'stress': 4220, 'ups': 4686, 'gay': 1876, 'tea': 4373, 'kim': 2475, 'lust': 2689, 'comparing': 913, 'danny': 1112, 'influenced': 2287, 'franchise': 1817, '1980': 20, 'page': 3167, 'scream': 3826, 'splatter': 4118, 'decade': 1144, 'fifteen': 1706, 'kick': 2460, 'till': 4493, 'suffer': 4275, 'contrived': 976, 'sloppy': 4030, 'helicopter': 2076, 'terrorists': 4414, 'scientific': 3817, 'military': 2844, 'appeal': 271, 'prove': 3445, 'kicks': 2463, 'ass': 323, '1972': 18, 'backdrop': 379, 'charming': 768, 'lovers': 2673, 'wise': 4903, 'passes': 3203, 'spiritual': 4116, 'advice': 133, 'receives': 3565, 'paced': 3162, 'families': 1644, 'stuck': 4237, 'sensitive': 3879, 'stereotypes': 4179, 'bette': 471, '14': 6, 'crush': 1072, '17': 9, 'poetic': 3313, 'directs': 1267, 'principal': 3398, 'emily': 1456, 'court': 1020, 'striking': 4226, 'regard': 3588, 'kudos': 2497, 'jenny': 2393, 'consistent': 953, 'emotionally': 1460, 'francis': 1818, 'particular': 3194, 'everyday': 1541, 'workers': 4943, 'marry': 2745, 'precious': 3366, 'propaganda': 3435, 'stunt': 4245, 'native': 2972, 'entertained': 1498, 'albeit': 173, 'bland': 500, 'likes': 2602, 'onto': 3111, '1984': 23, 'party': 3200, 'department': 1182, 'relies': 3606, 'stereotypical': 4180, 'pages': 3168, 'unoriginal': 4673, 'videos': 4734, 'jackson': 2375, 'jean': 2389, 'beat': 423, 'artists': 309, 'wondering': 4930, 'tad': 4347, 'household': 2179, 'smooth': 4041, 'choreographed': 801, 'section': 3853, 'beats': 426, 'felix': 1689, 'wedding': 4836, 'ring': 3698, 'beloved': 461, 'neil': 2995, 'uncomfortable': 4637, 'blowing': 515, 'burned': 626, 'flynn': 1765, 'vulnerable': 4768, 'greater': 1965, 'eight': 1436, 'lemmon': 2567, 'matthau': 2771, 'large': 2517, 'field': 1704, 'cover': 1022, 'ignored': 2225, 'pants': 3182, 'table': 4346, 'jumped': 2430, 'solid': 4057, 'cabin': 643, 'jail': 2376, 'surprising': 4315, 'multi': 2935, 'million': 2847, 'won': 4925, 'thrilling': 4474, 'roberts': 3714, 'mix': 2876, 'suspense': 4330, 'heck': 2071, 'mini': 2854, 'jerry': 2396, 'mouse': 2919, 'sinatra': 3989, 'piano': 3264, 'innovative': 2295, 'beneath': 464, 'enthusiasm': 1501, 'dean': 1139, 'aunt': 355, 'suggests': 4282, 'combination': 883, 'nine': 3017, 'st': 4137, 'louis': 2665, 'understood': 4647, 'contains': 964, 'focus': 1766, 'relate': 3593, 'professional': 3421, 'sake': 3775, 'defined': 1160, 'fill': 1714, 'centered': 733, 'selfish': 3870, 'confidence': 938, 'credible': 1048, 'afford': 138, 'communist': 907, '1968': 16, 'photographer': 3259, 'succeed': 4262, 'accents': 79, 'tongue': 4518, 'letter': 2581, 'unhappy': 4656, 'restaurant': 3658, 'guilt': 1994, 'nicely': 3009, 'intentionally': 2320, 'designed': 1203, 'illegal': 2229, 'germans': 1897, 'racist': 3503, 'sell': 3871, 'experiment': 1583, 'scarecrow': 3804, 'montage': 2894, 'expressions': 1603, 'combine': 884, 'wave': 4818, 'judy': 2426, 'nomination': 3026, 'elements': 1443, 'attacked': 338, 'fights': 1710, 'hitting': 2126, 'nostalgic': 3039, 'jumping': 2431, 'driving': 1368, 'trilogy': 4586, 'incredible': 2269, 'gripping': 1976, 'alongside': 196, 'guns': 1998, 'explosions': 1597, 'businessman': 634, 'dealing': 1136, 'sold': 4052, 'rights': 3697, 'tarzan': 4367, 'garden': 1872, 'screens': 3832, 'price': 3389, 'string': 4227, 'victor': 4731, 'separate': 3883, 'gene': 1879, 'killings': 2473, 'connected': 945, '15': 7, 'remarks': 3615, 'fed': 1682, 'wins': 4899, 'sunshine': 4294, 'wide': 4880, 'training': 4558, 'woody': 4936, 'allen': 188, 'leonard': 2572, 'spare': 4093, 'andrew': 228, 'copies': 992, 'burn': 625, 'vague': 4705, 'heres': 2087, 'wrestling': 4966, 'hang': 2022, 'month': 2896, 'poetry': 3314, 'suit': 4284, 'india': 2273, 'controversial': 978, 'zero': 4996, 'drawn': 1351, 'pre': 3365, 'ripped': 3701, 'test': 4416, 'national': 2970, 'innocent': 2294, 'served': 3894, 'sexuality': 3909, 'mistaken': 2872, 'flesh': 1753, 'sophisticated': 4075, 'majority': 2712, 'appropriate': 283, 'mom': 2885, 'ridiculously': 3694, 'hollow': 2135, 'notably': 3042, 'lighting': 2596, 'cheese': 780, 'vast': 4716, 'waited': 4771, 'legendary': 2565, 'priceless': 3390, 'splendid': 4119, 'faces': 1618, 'speech': 4102, 'classical': 836, 'equal': 1509, 'regarding': 3589, 'dare': 1113, 'progress': 3425, 'melodramatic': 2798, 'throws': 4482, 'ticket': 4487, 'dust': 1388, 'explosion': 1596, 'france': 1816, 'deadly': 1133, 'pit': 3278, 'creates': 1038, 'skill': 4013, 'greatly': 1967, 'proud': 3444, 'triumph': 4590, 'liners': 2611, 'packed': 3166, 'gun': 1996, 'conclusion': 936, 'buff': 611, 'delight': 1167, 'excitement': 1562, 'exotic': 1574, 'visits': 4756, 'jealous': 2388, 'painting': 3175, 'generous': 1886, 'forgive': 1795, 'search': 3841, 'serving': 3897, 'species': 4098, 'accurate': 90, 'absence': 70, 'contain': 962, 'aforementioned': 139, 'werent': 4849, 'hearts': 2066, 'todd': 4510, 'segment': 3867, 'purpose': 3474, 'learning': 2552, 'unusual': 4681, 'progresses': 3426, 'don': 1320, 'helped': 2080, 'freedom': 1828, 'bridge': 578, 'enters': 1496, 'screaming': 3827, 'marie': 2737, 'win': 4892, 'heroic': 2090, 'lincoln': 2608, 'president': 3378, 'charismatic': 763, 'superhero': 4299, 'suffice': 4279, 'ford': 1789, 'exceptional': 1558, 'politics': 3326, 'fonda': 1777, 'mature': 2773, 'bits': 490, 'worry': 4950, 'teach': 4374, 'blue': 518, 'thrillers': 4473, 'basis': 408, 'theory': 4437, 'humans': 2190, 'appreciation': 281, 'remake': 3612, 'ken': 2453, 'generation': 1883, 'mixed': 2877, 'target': 4366, 'concerned': 932, 'disneys': 1290, 'tied': 4489, 'thumbs': 4485, 'lane': 2515, 'julie': 2428, 'disc': 1278, 'examples': 1554, 'affair': 135, 'figured': 1712, 'lucas': 2680, 'shooting': 3943, 'edition': 1422, 'introduce': 2336, 'demented': 1176, 'spoke': 4125, 'cheek': 779, 'inducing': 2279, 'cared': 685, 'unpleasant': 4674, 'replaced': 3634, 'gender': 1878, 'wallace': 4782, 'prisoner': 3402, 'sole': 4055, 'beast': 422, 'torn': 4528, 'exists': 1573, 'ruins': 3752, 'spielberg': 4110, 'riding': 3695, 'flying': 1764, 'adventure': 130, 'arm': 292, 'closed': 854, 'frustrated': 1842, 'individuals': 2278, 'sadness': 3770, 'sides': 3967, 'related': 3594, 'crafted': 1029, 'arrival': 299, 'hitler': 2124, 'happily': 2030, 'meaningful': 2781, 'worn': 4948, 'bacall': 377, 'pick': 3265, 'plane': 3288, 'flight': 1757, 'bears': 421, 'chest': 784, 'synopsis': 4344, 'scope': 3821, 'scripted': 3835, 'treated': 4573, 'solely': 4056, 'primarily': 3393, 'meaning': 2780, 'wed': 4835, 'brooklyn': 595, 'village': 4743, 'mexican': 2826, 'screams': 3828, 'convey': 982, 'significant': 3972, 'glover': 1923, 'nail': 2957, 'filmmaker': 1719, 'drivel': 1364, 'performs': 3234, 'experience': 1580, 'twins': 4616, '13': 4, 'miles': 2843, 'inane': 2258, 'incredibly': 2270, 'mentioning': 2812, 'stephen': 4176, 'noise': 3024, 'ms': 2931, 'alternate': 200, 'fury': 1855, 'unwatchable': 4682, 'flashback': 1746, 'hidden': 2096, 'steps': 4177, 'worthwhile': 4955, 'mass': 2753, 'nick': 3012, 'insane': 2296, 'aging': 153, 'cost': 1003, 'harsh': 2040, 'sixties': 4011, 'evident': 1547, 'settings': 3901, 'holds': 2131, 'bollywood': 530, 'indian': 2274, 'pride': 3391, 'excited': 1561, 'sword': 4340, 'miscast': 2862, 'speed': 4103, 'sullivan': 4288, 'suffered': 4276, 'heavily': 2069, 'ward': 4793, 'lovable': 2668, 'racism': 3502, 'australia': 356, 'demand': 1174, 'urge': 4689, 'childish': 791, 'removed': 3624, 'lacks': 2505, 'cinematic': 818, 'bold': 528, 'marks': 2742, 'formula': 1802, 'suspects': 4328, 'opportunities': 3120, 'highlight': 2103, 'elegant': 1441, 'universe': 4666, 'university': 4667, 'ingredients': 2289, 'spread': 4133, 'stated': 4161, 'karloff': 2445, 'lugosi': 2686, 'led': 2558, 'larger': 2519, 'relief': 3605, 'medical': 2790, 'expert': 1585, 'mistakes': 2873, 'awake': 365, 'surreal': 4317, 'everybody': 1540, 'nonsensical': 3031, 'irrelevant': 2358, 'definite': 1161, 'execution': 1566, 'iii': 2227, 'cusack': 1088, 'brilliance': 582, 'timing': 4498, 'dan': 1102, 'clown': 862, 'currently': 1085, 'recognize': 3569, 'equipment': 1511, 'analysis': 224, 'destroying': 1215, 'corrupt': 1001, 'dinosaur': 1255, 'dialogues': 1235, 'colonel': 876, 'twin': 4615, 'spot': 4131, 'iraq': 2351, 'subtlety': 4261, 'nicholson': 3011, 'isolated': 2363, 'barry': 401, 'winter': 4900, 'months': 2897, 'wendy': 4846, 'shelley': 3928, 'lloyd': 2630, 'psychic': 3456, 'stanley': 4148, 'kubrick': 2496, 'diane': 1238, 'johnson': 2411, 'compare': 911, 'bugs': 613, 'gore': 1941, 'rotten': 3740, 'ghosts': 1903, 'flawless': 1751, 'clichéd': 845, 'toilet': 4512, 'fancy': 1649, 'humble': 2191, 'walked': 4776, '60': 53, 'menace': 2806, 'occurred': 3077, 'asked': 317, 'involve': 2345, 'suggested': 4281, 'climax': 849, 'space': 4090, 'latin': 2527, 'corny': 997, 'reference': 3582, 'finale': 1723, 'students': 4239, 'effectively': 1430, 'dozen': 1338, 'viewings': 4741, 'thoughtful': 4463, 'midnight': 2834, 'strikes': 4225, 'arrested': 298, 'danes': 1108, 'limits': 2607, 'stretched': 4222, 'bride': 577, 'weakest': 4825, 'vacation': 4704, 'embarrassing': 1454, 'throat': 4476, 'spell': 4104, 'link': 2613, 'orange': 3125, 'avoided': 364, 'justice': 2438, 'outer': 3143, 'tunes': 4603, 'device': 1227, 'justify': 2439, 'fool': 1779, 'indie': 2276, 'blob': 507, 'catchy': 717, 'shall': 3916, 'ned': 2986, 'lol': 2640, 'hadnt': 2004, 'jane': 2380, 'russell': 3761, 'aint': 163, 'uninteresting': 4660, 'glimpse': 1919, 'vietnam': 4735, 'combat': 882, 'affected': 137, 'cried': 1054, 'walker': 4778, 'benefit': 465, 'mission': 2870, 'spoil': 4121, 'morality': 2903, 'innocence': 2293, 'concert': 935, 'spanish': 4092, 'purchase': 3469, 'spain': 4091, 'grim': 1974, 'teacher': 4375, 'holmes': 2139, 'sharp': 3922, 'dislike': 1288, 'ray': 3533, 'press': 3379, 'returned': 3666, 'bleak': 503, 'losers': 2656, 'frequently': 1832, 'cg': 739, 'sin': 3988, 'blade': 495, 'drags': 1345, 'psycho': 3457, 'atmospheric': 334, 'contemporary': 965, 'fitting': 1742, 'stunning': 4244, 'superbly': 4297, 'tremendous': 4579, 'miller': 2846, 'consistently': 954, 'added': 116, 'craig': 1030, 'ian': 2209, 'futuristic': 1857, 'basketball': 409, 'assigned': 325, 'elizabeth': 1445, 'vice': 4727, 'instinct': 2308, 'chess': 783, 'captivating': 675, 'misses': 2868, 'text': 4419, 'consequences': 947, 'decisions': 1152, 'hong': 2149, 'kong': 2494, 'imaginative': 2237, '35': 45, 'rocks': 3722, 'laura': 2536, '16': 8, 'belongs': 460, 'flicks': 1755, 'ironic': 2355, 'raising': 3509, 'grandmother': 1955, 'destiny': 1212, 'kurt': 2499, 'struggling': 4236, 'orders': 3127, 'disappear': 1270, 'caine': 647, 'jimmy': 2403, 'pig': 3274, 'showdown': 3955, 'newspaper': 3006, 'savage': 3793, 'nearby': 2980, 'woods': 4935, 'balls': 390, 'veteran': 4724, 'weapons': 4829, 'tame': 4363, '90s': 61, 'vivid': 4760, 'plausible': 3295, 'towards': 4540, 'freddy': 1826, 'mask': 2752, 'gratuitous': 1961, 'invasion': 2340, 'fits': 1741, 'crucial': 1068, 'develop': 1222, 'bud': 607, 'remarkably': 3614, 'wear': 4830, 'delivery': 1173, 'princess': 3397, 'resist': 3648, 'mechanical': 2788, 'dawn': 1127, 'armed': 293, 'spider': 4109, 'demon': 1177, 'amateurish': 207, 'petty': 3249, 'scheme': 3812, 'shop': 3945, 'wacky': 4769, 'loser': 2655, 'macy': 2695, 'madonna': 2699, 'spots': 4132, 'creation': 1040, 'opposed': 3122, 'greek': 1970, 'possibilities': 3348, 'display': 1291, 'understanding': 4645, 'borrowed': 545, 'tiger': 4491, 'ice': 2210, 'samurai': 3779, 'countless': 1012, 'eve': 1532, 'karen': 2444, 'ocean': 3079, 'ball': 388, 'wouldve': 4959, 'drawing': 1350, 'contest': 967, 'buck': 605, 'rogers': 3725, 'gerard': 1895, 'pamela': 3179, 'cars': 702, 'relevant': 3604, 'asleep': 320, 'documentaries': 1306, 'blockbuster': 509, 'faithful': 1634, 'poem': 3312, 'insulting': 2310, 'horses': 2171, 'yesterday': 4983, 'gory': 1943, 'thrill': 4471, 'trade': 4547, 'masters': 2761, 'solution': 4059, 'population': 3335, 'anne': 246, 'amy': 222, 'states': 4163, '2002': 32, 'proper': 3436, 'subsequent': 4257, 'bottle': 550, 'guessing': 1991, 'opinions': 3119, 'kicked': 2461, 'higher': 2101, 'hammer': 2014, 'titled': 4505, 'affect': 136, 'birthday': 487, 'houses': 2180, 'neighbors': 2994, 'unpredictable': 4675, 'animal': 239, 'anime': 243, 'gundam': 1997, 'melodrama': 2797, 'battles': 415, 'cases': 708, 'network': 3000, 'dubbed': 1379, 'peace': 3219, 'elaborate': 1439, 'website': 4834, 'shelf': 3926, 'resident': 3647, 'burns': 628, 'massacre': 2754, 'allowed': 190, 'horrendous': 2162, 'shape': 3919, 'adults': 126, 'junk': 2436, 'ourselves': 3140, 'firstly': 1737, 'enormous': 1490, 'hunting': 2201, 'hates': 2048, 'displayed': 1292, 'designs': 1204, 'relation': 3595, 'complain': 919, 'defeat': 1157, 'dragon': 1344, 'victoria': 4732, 'implausible': 2245, 'mysteries': 2954, 'sidekick': 3966, 'blown': 516, '2001': 31, 'bitter': 491, 'green': 1971, 'minds': 2852, 'focusing': 1769, 'similarities': 3979, 'greed': 1968, 'plan': 3287, 'carrie': 697, 'khan': 2459, 'chooses': 800, 'minimal': 2855, 'floating': 1758, 'sky': 4017, 'simmons': 3981, 'sarah': 3785, 'engaged': 1480, 'brando': 566, 'resort': 3650, 'championship': 745, 'picking': 3267, 'queen': 3485, 'thru': 4483, 'attraction': 350, 'teachers': 4376, 'defense': 1159, 'honor': 2150, 'complexity': 924, 'comedies': 889, 'japan': 2381, 'creature': 1045, 'gods': 1928, 'eating': 1413, 'teeth': 4393, 'warriors': 4803, 'eyed': 1612, 'revealed': 3671, 'warrior': 4802, 'ego': 1435, 'essentially': 1523, 'abc': 63, 'vampire': 4711, 'racial': 3501, 'mst3k': 2932, 'sends': 3876, 'letters': 2582, 'eaten': 1412, 'switch': 4339, 'blow': 514, 'terrorist': 4413, 'united': 4664, 'respected': 3653, 'arrogant': 303, 'immensely': 2243, 'cats': 721, 'exact': 1550, 'risk': 3704, 'square': 4136, 'tedious': 4387, 'offering': 3089, 'carradine': 695, 'fighter': 1708, 'porn': 3336, 'alcohol': 176, 'enterprise': 1495, 'hooked': 2153, 'fever': 1699, 'uninspired': 4657, 'weapon': 4828, 'graphics': 1959, 'disappoint': 1272, 'highlights': 2104, 'clip': 851, 'ambitious': 211, 'swedish': 4335, 'halfway': 2008, 'tend': 4400, 'hurts': 2203, 'exposure': 1599, 'bay': 416, 'initially': 2291, 'revolution': 3680, 'gentle': 1890, 'awards': 367, 'allow': 189, 'ought': 3138, 'resemblance': 3645, 'em': 1452, 'guts': 1999, 'bullets': 621, 'fictional': 1703, 'eastwood': 1409, 'fest': 1696, 'chorus': 803, 'sally': 3776, 'goldberg': 1933, 'normally': 3034, '3000': 43, '40s': 49, 'bela': 450, 'staff': 4138, 'screening': 3830, 'techniques': 4384, 'arguably': 289, 'performer': 3231, '25': 40, 'slick': 4026, 'centers': 734, 'oddly': 3081, 'methods': 2825, 'craft': 1028, 'buffs': 612, 'flawed': 1750, 'wondered': 4927, 'digital': 1251, 'energy': 1478, 'shower': 3957, 'luckily': 2682, 'cynical': 1093, 'track': 4544, 'abuse': 74, 'loosely': 2651, 'mexico': 2827, 'faced': 1617, 'helen': 2075, 'neighbor': 2992, 'react': 3540, 'closest': 857, 'sid': 3964, 'robots': 3718, 'lily': 2605, 'leg': 2562, '1st': 28, 'doc': 1303, 'doors': 1329, 'dinner': 1254, 'strike': 4224, 'throwing': 4480, 'plague': 3285, 'overlooked': 3154, 'interviews': 2330, 'performers': 3232, 'clips': 852, 'testament': 4417, 'pseudo': 3454, 'harder': 2035, 'segments': 3868, 'bbc': 417, 'chicago': 785, 'hat': 2045, 'amitabh': 216, 'bound': 553, 'patient': 3211, 'vampires': 4712, 'extended': 1604, 'program': 3424, 'position': 3345, 'davis': 1126, 'jazz': 2387, 'june': 2433, 'claire': 831, 'shy': 3962, 'gray': 1963, 'historically': 2120, 'largely': 2518, 'authentic': 358, 'talked': 4359, 'molly': 2884, 'elephant': 1444, 'breathtaking': 574, 'sappy': 3784, 'lucy': 2684, 'nazis': 2978, 'daughters': 1122, 'dressing': 1359, 'satisfy': 3790, 'kidding': 2465, 'forms': 1801, 'rick': 3689, '1996': 26, 'melting': 2799, 'jumps': 2432, 'specifically': 4100, 'alert': 178, 'anymore': 258, 'hardy': 2037, 'horrifying': 2167, 'inevitable': 2282, 'pops': 3332, 'prisoners': 3403, 'bodies': 526, 'celebrity': 729, 'repeat': 3630, 'beliefs': 452, 'susan': 4326, 'spring': 4134, 'helping': 2081, 'saga': 3773, 'enter': 1494, 'hung': 2197, 'solve': 4060, 'differences': 1247, 'encounter': 1466, 'albert': 174, 'sir': 4000, 'holly': 2136, 'tall': 4362, 'prince': 3396, 'fired': 1735, 'abusive': 75, 'occasionally': 3075, 'purple': 3473, 'favourite': 1673, 'grand': 1953, 'sadistic': 3768, 'handle': 2018, 'bare': 398, 'enemy': 1477, 'deserve': 1199, 'indians': 2275, 'facing': 1620, 'revolutionary': 3681, 'symbolism': 4341, 'americas': 215, 'weight': 4840, 'reflect': 3584, 'hart': 2041, 'horribly': 2164, 'forty': 1807, 'forest': 1791, 'merit': 2816, 'banned': 395, 'gradually': 1952, 'efforts': 1433, 'dvds': 1392, 'commentary': 899, 'turner': 4607, 'favorites': 1672, 'financial': 1725, 'persons': 3244, 'brazil': 568, 'per': 3223, 'buried': 624, 'bergman': 466, 'cinemas': 817, 'matrix': 2767, 'reduced': 3579, 'technical': 4381, 'necessarily': 2983, 'limited': 2606, 'ignore': 2224, 'carl': 692, 'curiosity': 1082, 'funnier': 1850, 'overwhelming': 3157, 'friendly': 1836, 'nowhere': 3056, 'hints': 2113, 'potentially': 3356, 'revelation': 3674, 'hal': 2006, 'fay': 1674, 'boredom': 542, 'tracks': 4545, 'depressed': 1187, 'thief': 4448, 'kings': 2481, '1950s': 14, 'elvis': 1451, 'burton': 630, 'stilted': 4190, 'presentation': 3375, 'wood': 4933, 'cgi': 740, 'exercise': 1568, 'routine': 3743, 'forgot': 1796, 'mummy': 2937, 'heston': 2094, 'endings': 1472, 'fields': 1705, 'grey': 1973, 'undoubtedly': 4648, 'insight': 2298, 'laurel': 2537, 'stan': 4142, '1933': 12, 'personalities': 3241, 'blank': 501, 'abilities': 64, 'mansion': 2731, 'butler': 637, 'engaging': 1481, 'smiling': 4037, 'dating': 1120, 'edgar': 1417, 'apes': 267, 'noble': 3021, 'jon': 2416, 'murderous': 2942, 'gifted': 1907, 'awfully': 373, 'officers': 3093, 'batman': 413, 'kissing': 2484, 'fooled': 1780, 'cube': 1076, 'raped': 3522, 'cole': 873, 'hopeless': 2158, 'spy': 4135, 'push': 3477, 'trees': 4577, 'anyways': 262, 'polanski': 3321, 'eager': 1396, 'trademark': 4548, 'newly': 3004, 'embarrassment': 1455, 'spike': 4111, 'lees': 2560, 'circle': 821, 'denzel': 1181, 'remaining': 3610, 'diamond': 1236, 'hello': 2078, 'ireland': 2352, 'rocket': 3721, 'revolves': 3682, 'gangsters': 1869, 'kennedy': 2454, 'row': 3744, 'crime': 1055, 'idiots': 2220, 'discuss': 1283, 'concern': 931, 'meaningless': 2782, 'spite': 4117, 'nation': 2969, 'gotta': 1946, 'assume': 328, 'blacks': 494, 'ashamed': 312, 'ground': 1979, 'tooth': 4524, 'prequel': 3372, 'twelve': 4611, 'joseph': 2419, 'chief': 788, 'continues': 971, 'essential': 1522, 'characterization': 759, 'mild': 2839, 'influence': 2286, 'lips': 2615, 'sport': 4129, 'wore': 4939, 'mickey': 2831, 'crocodile': 1065, 'cia': 814, 'australian': 357, 'knife': 2487, 'pleased': 3305, 'internet': 2327, 'surfing': 4311, 'amateur': 206, 'resolution': 3649, '2005': 35, 'ultra': 4629, 'absurd': 73, 'exaggerated': 1552, 'factory': 1623, 'acid': 95, 'husbands': 2205, 'obsession': 3070, 'mill': 2845, 'hugh': 2186, 'kapoor': 2443, 'measure': 2786, 'rolling': 3730, 'walken': 4777, 'caliber': 649, 'produce': 3413, 'bakshi': 386, 'flow': 1762, 'pat': 3208, 'hamlet': 2013, 'earned': 1401, 'gordon': 1940, 'fx': 1858, 'fu': 1844, 'chris': 806, 'franco': 1820, 'downhill': 1336, 'ears': 1402, 'lone': 2642, 'sellers': 3872, 'jaw': 2384, 'damon': 1101, 'bourne': 554, 'pack': 3165, 'rachel': 3500, 'hippie': 2115, 'actions': 101, 'regardless': 3590, 'carefully': 689, '75': 57, 'uk': 4626, 'ashley': 313, 'ease': 1404, 'soccer': 4048, 'bush': 632, 'sutherland': 4333, 'tommy': 4516, 'eva': 1531, 'beatty': 427, 'slight': 4027, 'cage': 645, 'outcome': 3142, 'commit': 904, 'pacino': 3164, 'hudson': 2184, 'intimate': 2331, 'proceedings': 3410, 'monkey': 2890, 'amazed': 208, 'depressing': 1188, 'interaction': 2322, 'marty': 2749, 'behave': 445, 'competent': 917, 'rob': 3710, 'conceived': 929, 'technique': 4383, 'mtv': 2933, 'cake': 648, 'andy': 230, 'leslie': 2574, 'repeated': 3631, 'gandhi': 1866, 'expressed': 1601, 'pushing': 3479, 'columbo': 881, 'falk': 1636, 'proceeds': 3411, 'elsewhere': 1449, 'fatal': 1664, 'games': 1865, 'aliens': 184, 'clint': 850, 'judging': 2425, 'faster': 1662, 'gross': 1978, 'headed': 2058, 'engage': 1479, 'matthew': 2772, 'enjoyment': 1488, 'females': 1694, 'gain': 1863, 'tight': 4492, 'witness': 4914, 'threw': 4470, 'pink': 3277, 'annie': 247, 'machines': 2694, 'brenda': 575, 'semi': 3874, 'los': 2653, 'angeles': 233, 'fix': 1744, 'folk': 1770, 'senseless': 3878, 'inventive': 2341, 'cliche': 843, 'criticism': 1063, 'angela': 232, 'secretly': 3851, 'library': 2589, 'amanda': 205, 'gruesome': 1986, 'berlin': 467, 'reasonable': 3558, 'cities': 823, 'vincent': 4746, 'inferior': 2285, 'argue': 290, 'wandering': 4785, 'doom': 1326, 'environment': 1505, 'smoke': 4039, 'blah': 496, 'bonus': 534, 'slap': 4018, 'sentimental': 3882, 'rabbit': 3498, 'miike': 2837, 'lynch': 2691, 'coach': 868, 'abysmal': 76, 'rat': 3525, 'germany': 1898, 'doomed': 1327, 'surface': 4310, 'purchased': 3470, 'distribution': 1298, 'concerning': 933, 'kirk': 2482, 'stellar': 4174, 'bore': 540, 'structure': 4233, 'conflicts': 940, 'montana': 2895, 'exploitation': 1592, 'assault': 324, 'kung': 2498, 'li': 2587, 'kay': 2447, 'beating': 425, 'perform': 3227, 'mario': 2738, 'wells': 4845, 'laughably': 2531, 'ideal': 2214, 'discussion': 1284, 'treats': 4575, 'covers': 1024, 'deeper': 1155, 'fulci': 1845, 'del': 1165, 'wolf': 4920, 'code': 869, 'robbery': 3711, 'involvement': 2347, 'stinks': 4192, '2007': 37, 'da': 1094, 'grows': 1985, 'inspector': 2299, 'investigation': 2343, 'dropped': 1370, 'harvey': 2042, 'cards': 683, 'buildings': 616, 'property': 3438, 'betty': 474, 'solo': 4058, 'birds': 485, 'introduction': 2339, 'garbo': 1871, 'calm': 655, 'struck': 4232, 'heroes': 2089, 'wears': 4832, 'burning': 627, 'chasing': 772, 'areas': 287, 'cleverly': 842, 'overacting': 3149, 'boom': 537, 'builds': 617, 'catches': 715, 'wound': 4960, 'recognized': 3570, 'generations': 1884, 'hank': 2024, 'uneven': 4649, 'security': 3854, 'boxing': 556, 'randomly': 3515, 'metal': 2823, 'advance': 127, 'san': 3780, 'francisco': 1819, 'advertising': 132, 'hbo': 2055, 'waters': 4817, 'horrific': 2166, 'voight': 4764, 'thousands': 4466, '1990': 24, 'swimming': 4338, 'pool': 3327, 'mirror': 2861, 'flaw': 1749, 'recording': 3575, 'guarantee': 1987, 'surprises': 4314, 'amounts': 220, 'admittedly': 123, 'shocked': 3939, 'pal': 3177, 'heat': 2067, 'selling': 3873, 'album': 175, 'itll': 2369, 'fascinated': 1657, 'ape': 266, 'map': 2733, 'swim': 4337, 'feminist': 1695, 'disjointed': 1287, 'odds': 3082, 'ignorant': 2223, 'hoped': 2156, 'boot': 538, 'commented': 900, 'competition': 918, 'winters': 4901, 'scottish': 3825, 'earl': 1398, 'icon': 2211, 'vengeance': 4719, 'suck': 4269, 'colour': 880, 'cringe': 1059, 'couples': 1017, 'easier': 1405, 'catching': 716, 'demands': 1175, 'lay': 2542, 'godzilla': 1929, 'urban': 4688, 'channels': 754, 'seventies': 3904, 'bath': 411, 'thousand': 4465, 'hire': 2116, 'accepted': 82, 'alex': 179, 'transfer': 4559, 'landing': 2512, 'arrived': 301, 'brosnan': 597, 'landscapes': 2514, 'sandler': 3781, 'tap': 4364, 'dances': 1106, 'rising': 3703, 'distracting': 1297, 'snl': 4044, 'refuses': 3587, 'oil': 3097, 'witnessed': 4915, 'ellen': 1446, 'travels': 4569, 'facts': 1624, 'exploration': 1593, 'practice': 3363, 'unseen': 4678, 'patients': 3212, 'nazi': 2977, 'nicholas': 3010, 'severe': 3906, 'andrews': 229, 'rex': 3683, 'butt': 638, 'signs': 3973, 'knock': 2488, 'linda': 2609, 'omen': 3104, 'witches': 4910, 'robbins': 3712, 'ryan': 3765, 'trap': 4563, 'funeral': 1849, 'perry': 3237, 'oz': 3160, 'bang': 393, 'explored': 1595, 'explicit': 1591, 'hills': 2109, 'prevent': 3385, 'texas': 4418, 'expensive': 1579, 'seagal': 3839, 'faults': 1669, 'duo': 1386, 'introduces': 2338, 'advantage': 129, 'variety': 4714, 'titanic': 4503, 'flies': 1756, 'parallel': 3185, 'korean': 2495, 'ship': 3934, 'familys': 1646, 'chain': 741, 'frankenstein': 1822, 'yellow': 4981, 'margaret': 2735, 'critic': 1061, 'dinosaurs': 1256, 'education': 1424, 'bell': 458, 'olivier': 3103, 'retarded': 3663, 'masterful': 2758, 'royal': 3746, 'roy': 3745, 'jesse': 2397, 'hyde': 2206, 'contained': 963, 'silver': 3977, 'activities': 102, 'styles': 4250, 'porno': 3337, 'blew': 505, 'brutally': 604, 'belong': 459, 'china': 795, 'ships': 3935, 'domino': 1319, 'travesty': 4570, 'assumed': 329, 'ridden': 3691, 'charge': 761, 'determined': 1221, 'britain': 588, 'lacked': 2503, 'cox': 1026, 'daring': 1114, 'subjects': 4254, 'loyal': 2679, 'baseball': 403, 'brady': 561, 'account': 89, 'stones': 4198, 'eighties': 1437, 'hamilton': 2012, 'loads': 2633, 'rochester': 3719, 'defend': 1158, 'kingdom': 2480, 'goal': 1925, 'scientists': 3819, 'constructed': 959, 'honesty': 2148, 'vicious': 4728, 'outfit': 3144, 'clothing': 861, 'definition': 1163, 'quote': 3496, 'online': 3109, 'closet': 858, 'arnold': 296, '1999': 27, 'cd': 728, 'trashy': 4566, 'unbelievably': 4635, 'schools': 3814, 'haunting': 2051, 'dentist': 1180, 'breaks': 571, 'cannibal': 669, 'buddies': 608, 'chapter': 757, 'staying': 4168, 'wishing': 4907, 'lumet': 2688, 'philip': 3252, 'composed': 926, 'airport': 167, 'wicked': 4879, 'bull': 619, 'alfred': 181, 'eg': 1434, 'kicking': 2462, 'disappeared': 1271, 'importantly': 2248, 'bat': 410, 'scooby': 3820, 'doo': 1325, 'shark': 3921, 'lena': 2568, 'challenging': 744, 'survived': 4322, 'whereas': 4865, 'dolph': 1317, 'agreed': 156, 'rebel': 3561, 'authority': 360, 'corruption': 1002, 'kitchen': 2485, 'sink': 3999, 'hop': 2154, 'pulp': 3465, 'raw': 3532, 'paltrow': 3178, 'joey': 2408, 'cinderella': 815, 'meat': 2787, 'widmark': 4882, 'peters': 3248, 'campbell': 663, 'unreal': 4676, 'giallo': 1904, 'creators': 1044, 'navy': 2976, 'alas': 172, 'considerable': 950, 'prom': 3429, 'cooper': 990, 'maintain': 2710, 'rush': 3759, 'equivalent': 1512, 'derek': 1192, 'sounding': 4083, 'transition': 4561, 'tracy': 4546, 'experiments': 1584, 'dalton': 1098, 'dedicated': 1153, 'che': 773, 'deceased': 1146, 'accused': 91, 'ramones': 3512, 'tag': 4348, 'staring': 4152, 'rubber': 3747, 'cruise': 1071, 'daddy': 1096, 'legal': 2563, 'unintentionally': 4659, 'womens': 4924, 'toys': 4543, 'hilariously': 2107, 'gadget': 1860, 'tomatoes': 4515, 'wrapped': 4964, 'passionate': 3206, 'format': 1799, 'louise': 2666, 'broadcast': 591, 'attend': 344, 'inappropriate': 2259, 'ear': 1397, 'september': 3884, 'widely': 4881, 'minimum': 2856, 'secrets': 3852, 'monkeys': 2891, 'streep': 4215, 'april': 284, 'jet': 2400, 'parties': 3196, 'devils': 1229, 'teaching': 4377, 'disease': 1285, 'hopper': 2161, 'rangers': 3517, 'adorable': 124, 'nations': 2971, 'stargate': 4151, 'steel': 4173, 'emphasis': 1463, 'survivor': 4324, 'illness': 2230, 'quit': 3494, 'mars': 2746, 'incompetent': 2266, 'theyll': 4444, 'altogether': 202, 'mildred': 2841, 'sidney': 3968, 'astaire': 330, 'diana': 1237, '3d': 46, 'eyre': 1614, 'canada': 666, 'homer': 2144, 'iran': 2350, 'bettie': 473, 'seeks': 3860}\n"
     ]
    }
   ],
   "source": [
    "print(str(vocabulary))"
   ]
  },
  {
   "cell_type": "markdown",
   "metadata": {},
   "source": [
    "Once you have added the endpoint name to the Lambda function, click on **Save**. Your Lambda function is now up and running. Next we need to create a way for our web app to execute the Lambda function."
   ]
  },
  {
   "cell_type": "markdown",
   "metadata": {},
   "source": [
    "### Setting up API Gateway\n",
    "\n",
    "Now that our Lambda function is set up, it is time to create a new API using API Gateway that will trigger the Lambda function we have just created.\n",
    "\n",
    "Using AWS Console, navigate to **Amazon API Gateway** and then click on **Get started**.\n",
    "\n",
    "On the next page, make sure that **New API** is selected and give the new api a name, for example, `sentiment_analysis_web_app`. Then, click on **Create API**.\n",
    "\n",
    "Now we have created an API, however it doesn't currently do anything. What we want it to do is to trigger the Lambda function that we created earlier.\n",
    "\n",
    "Select the **Actions** dropdown menu and click **Create Method**. A new blank method will be created, select its dropdown menu and select **POST**, then click on the check mark beside it.\n",
    "\n",
    "For the integration point, make sure that **Lambda Function** is selected and click on the **Use Lambda Proxy integration**. This option makes sure that the data that is sent to the API is then sent directly to the Lambda function with no processing. It also means that the return value must be a proper response object as it will also not be processed by API Gateway.\n",
    "\n",
    "Type the name of the Lambda function you created earlier into the **Lambda Function** text entry box and then click on **Save**. Click on **OK** in the pop-up box that then appears, giving permission to API Gateway to invoke the Lambda function you created.\n",
    "\n",
    "The last step in creating the API Gateway is to select the **Actions** dropdown and click on **Deploy API**. You will need to create a new Deployment stage and name it anything you like, for example `prod`.\n",
    "\n",
    "You have now successfully set up a public API to access your SageMaker model. Make sure to copy or write down the URL provided to invoke your newly created public API as this will be needed in the next step. This URL can be found at the top of the page, highlighted in blue next to the text **Invoke URL**."
   ]
  },
  {
   "cell_type": "markdown",
   "metadata": {},
   "source": [
    "## Step 7: Deploying our web app\n",
    "\n",
    "Now that we have a publicly available API, we can start using it in a web app. For our purposes, we have provided a simple static html file which can make use of the public api you created earlier.\n",
    "\n",
    "In the `website` folder there should be a file called `index.html`. Download the file to your computer and open that file up in a text editor of your choice. There should be a line which contains **\\*\\*REPLACE WITH PUBLIC API URL\\*\\***. Replace this string with the url that you wrote down in the last step and then save the file.\n",
    "\n",
    "Now, if you open `index.html` on your local computer, your browser will behave as a local web server and you can use the provided site to interact with your SageMaker model.\n",
    "\n",
    "If you'd like to go further, you can host this html file anywhere you'd like, for example using github or hosting a static site on Amazon's S3. Once you have done this you can share the link with anyone you'd like and have them play with it too!\n",
    "\n",
    "> **Important Note** In order for the web app to communicate with the SageMaker endpoint, the endpoint has to actually be deployed and running. This means that you are paying for it. Make sure that the endpoint is running when you want to use the web app but that you shut it down when you don't need it, otherwise you will end up with a surprisingly large AWS bill."
   ]
  },
  {
   "cell_type": "markdown",
   "metadata": {},
   "source": [
    "### Delete the endpoint\n",
    "\n",
    "Remember to always shut down your endpoint if you are no longer using it. You are charged for the length of time that the endpoint is running so if you forget and leave it on you could end up with an unexpectedly large bill."
   ]
  },
  {
   "cell_type": "code",
   "execution_count": 61,
   "metadata": {},
   "outputs": [],
   "source": [
    "xgb_predictor.delete_endpoint()"
   ]
  },
  {
   "cell_type": "markdown",
   "metadata": {},
   "source": [
    "## Optional: Clean up\n",
    "\n",
    "The default notebook instance on SageMaker doesn't have a lot of excess disk space available. As you continue to complete and execute notebooks you will eventually fill up this disk space, leading to errors which can be difficult to diagnose. Once you are completely finished using a notebook it is a good idea to remove the files that you created along the way. Of course, you can do this from the terminal or from the notebook hub if you would like. The cell below contains some commands to clean up the created files from within the notebook."
   ]
  },
  {
   "cell_type": "code",
   "execution_count": null,
   "metadata": {},
   "outputs": [],
   "source": [
    "# First we will remove all of the files contained in the data_dir directory\n",
    "!rm $data_dir/*\n",
    "\n",
    "# And then we delete the directory itself\n",
    "!rmdir $data_dir\n",
    "\n",
    "# Similarly we remove the files in the cache_dir directory and the directory itself\n",
    "!rm $cache_dir/*\n",
    "!rmdir $cache_dir"
   ]
  },
  {
   "cell_type": "code",
   "execution_count": null,
   "metadata": {},
   "outputs": [],
   "source": []
  }
 ],
 "metadata": {
  "kernelspec": {
   "display_name": "conda_python3",
   "language": "python",
   "name": "conda_python3"
  },
  "language_info": {
   "codemirror_mode": {
    "name": "ipython",
    "version": 3
   },
   "file_extension": ".py",
   "mimetype": "text/x-python",
   "name": "python",
   "nbconvert_exporter": "python",
   "pygments_lexer": "ipython3",
   "version": "3.6.10"
  }
 },
 "nbformat": 4,
 "nbformat_minor": 4
}
